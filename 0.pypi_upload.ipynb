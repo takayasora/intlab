{
 "cells": [
  {
   "cell_type": "markdown",
   "metadata": {},
   "source": [
    "本番環境へのアップロード用テンプレートコード"
   ]
  },
  {
   "cell_type": "code",
   "execution_count": 8,
   "metadata": {},
   "outputs": [
    {
     "name": "stdout",
     "output_type": "stream",
     "text": [
      "running sdist\n",
      "running egg_info\n",
      "writing intlab.egg-info\\PKG-INFO\n",
      "writing dependency_links to intlab.egg-info\\dependency_links.txt\n",
      "writing requirements to intlab.egg-info\\requires.txt\n",
      "writing top-level names to intlab.egg-info\\top_level.txt\n",
      "reading manifest file 'intlab.egg-info\\SOURCES.txt'\n",
      "adding license file 'LICENSE'\n",
      "writing manifest file 'intlab.egg-info\\SOURCES.txt'\n",
      "running check\n",
      "creating intlab-0.1.3\n",
      "creating intlab-0.1.3\\intlab\n",
      "creating intlab-0.1.3\\intlab.egg-info\n",
      "copying files to intlab-0.1.3...\n",
      "copying LICENSE -> intlab-0.1.3\n",
      "copying README.rst -> intlab-0.1.3\n",
      "copying setup.py -> intlab-0.1.3\n",
      "copying intlab\\__init__.py -> intlab-0.1.3\\intlab\n",
      "copying intlab\\calculator.py -> intlab-0.1.3\\intlab\n",
      "copying intlab\\sapnet.py -> intlab-0.1.3\\intlab\n",
      "copying intlab.egg-info\\PKG-INFO -> intlab-0.1.3\\intlab.egg-info\n",
      "copying intlab.egg-info\\SOURCES.txt -> intlab-0.1.3\\intlab.egg-info\n",
      "copying intlab.egg-info\\dependency_links.txt -> intlab-0.1.3\\intlab.egg-info\n",
      "copying intlab.egg-info\\requires.txt -> intlab-0.1.3\\intlab.egg-info\n",
      "copying intlab.egg-info\\top_level.txt -> intlab-0.1.3\\intlab.egg-info\n",
      "Writing intlab-0.1.3\\setup.cfg\n",
      "Creating tar archive\n",
      "removing 'intlab-0.1.3' (and everything under it)\n",
      "running bdist_wheel\n",
      "running build\n",
      "running build_py\n",
      "installing to build\\bdist.win-amd64\\wheel\n",
      "running install\n",
      "running install_lib\n",
      "creating build\\bdist.win-amd64\\wheel\n",
      "creating build\\bdist.win-amd64\\wheel\\intlab\n",
      "copying build\\lib\\intlab\\calculator.py -> build\\bdist.win-amd64\\wheel\\.\\intlab\n",
      "copying build\\lib\\intlab\\sapnet.py -> build\\bdist.win-amd64\\wheel\\.\\intlab\n",
      "copying build\\lib\\intlab\\__init__.py -> build\\bdist.win-amd64\\wheel\\.\\intlab\n",
      "running install_egg_info\n",
      "running egg_info\n",
      "writing intlab.egg-info\\PKG-INFO\n",
      "writing dependency_links to intlab.egg-info\\dependency_links.txt\n",
      "writing requirements to intlab.egg-info\\requires.txt\n",
      "writing top-level names to intlab.egg-info\\top_level.txt\n",
      "reading manifest file 'intlab.egg-info\\SOURCES.txt'\n",
      "adding license file 'LICENSE'\n",
      "writing manifest file 'intlab.egg-info\\SOURCES.txt'\n",
      "Copying intlab.egg-info to build\\bdist.win-amd64\\wheel\\.\\intlab-0.1.3-py3.10.egg-info\n",
      "running install_scripts\n",
      "adding license file \"LICENSE\" (matched pattern \"LICEN[CS]E*\")\n",
      "creating build\\bdist.win-amd64\\wheel\\intlab-0.1.3.dist-info\\WHEEL\n",
      "creating 'dist\\intlab-0.1.3-py3-none-any.whl' and adding 'build\\bdist.win-amd64\\wheel' to it\n",
      "adding 'intlab/__init__.py'\n",
      "adding 'intlab/calculator.py'\n",
      "adding 'intlab/sapnet.py'\n",
      "adding 'intlab-0.1.3.dist-info/LICENSE'\n",
      "adding 'intlab-0.1.3.dist-info/METADATA'\n",
      "adding 'intlab-0.1.3.dist-info/WHEEL'\n",
      "adding 'intlab-0.1.3.dist-info/top_level.txt'\n",
      "adding 'intlab-0.1.3.dist-info/RECORD'\n",
      "removing build\\bdist.win-amd64\\wheel\n"
     ]
    },
    {
     "name": "stderr",
     "output_type": "stream",
     "text": [
      "C:\\Users\\Owner\\AppData\\Roaming\\Python\\Python310\\site-packages\\setuptools\\command\\install.py:34: SetuptoolsDeprecationWarning: setup.py install is deprecated. Use build and pip and other standards-based tools.\n",
      "  warnings.warn(\n"
     ]
    }
   ],
   "source": [
    "!python setup.py sdist\n",
    "!python setup.py bdist_wheel"
   ]
  },
  {
   "cell_type": "markdown",
   "metadata": {},
   "source": [
    "エラーの理由：\n",
    "DistにOld関連ファイルがあるから\n",
    "\n",
    "エラー解消<br>\n",
    "\n",
    "1.バージョン情報の取得<br>\n",
    "2.Distファイル内全部のファイル取得<br>\n",
    "3.↑リスト化<br>\n",
    "4.リストからバージョン情報のないアイテムを削除<br>\n",
    "5.リスト内のアイテムをすべてDist_oldに移動<br>"
   ]
  },
  {
   "cell_type": "code",
   "execution_count": 31,
   "metadata": {},
   "outputs": [],
   "source": [
    "\"\"\"\n",
    "1.バージョン情報の取得<br>\n",
    "2.Distファイル内全部のファイル取得<br>\n",
    "3.↑リスト化<br>\n",
    "4.リストからバージョン情報のないアイテムを削除<br>\n",
    "5.リスト内のアイテムをすべてDist_oldに移動<br>\n",
    "\"\"\"\n",
    "\n",
    "\n",
    "\n",
    "import intlab\n",
    "import glob\n",
    "import os\n",
    "\n",
    "def version_get():\n",
    "    #1.バージョン情報の取得<br>\n",
    "    VERSION = intlab.__version__\n",
    "    print(VERSION)\n",
    "    return VERSION\n",
    "\n",
    "def folder_list():\n",
    "    #2.Distファイル内全部のファイル取得<br>\n",
    "    files = glob.glob(\"/tmp/**/*\")\n",
    "    print(files)\n",
    "    for file in files:\n",
    "        print(file)\n",
    "\n"
   ]
  },
  {
   "cell_type": "code",
   "execution_count": 9,
   "metadata": {},
   "outputs": [
    {
     "name": "stdout",
     "output_type": "stream",
     "text": [
      "Uploading distributions to https://upload.pypi.org/legacy/\n",
      "Uploading intlab-0.1.3-py3-none-any.whl\n",
      "\n",
      "  0% ---------------------------------------- 0.0/8.4 kB • --:-- • ?\n",
      "  0% ---------------------------------------- 0.0/8.4 kB • --:-- • ?\n",
      "  0% ---------------------------------------- 0.0/8.4 kB • --:-- • ?\n",
      "  0% ---------------------------------------- 0.0/8.4 kB • --:-- • ?\n",
      "  0% ---------------------------------------- 0.0/8.4 kB • --:-- • ?\n",
      "  0% ---------------------------------------- 0.0/8.4 kB • --:-- • ?\n",
      "100% ---------------------------------------- 8.4/8.4 kB • 00:00 • ?\n",
      "100% ---------------------------------------- 8.4/8.4 kB • 00:00 • ?\n",
      "100% ---------------------------------------- 8.4/8.4 kB • 00:00 • ?\n",
      "100% ---------------------------------------- 8.4/8.4 kB • 00:00 • ?\n",
      "100% ---------------------------------------- 8.4/8.4 kB • 00:00 • ?\n",
      "100% ---------------------------------------- 8.4/8.4 kB • 00:00 • ?\n",
      "100% ---------------------------------------- 8.4/8.4 kB • 00:00 • ?\n",
      "100% ---------------------------------------- 8.4/8.4 kB • 00:00 • ?\n",
      "100% ---------------------------------------- 8.4/8.4 kB • 00:00 • ?\n",
      "100% ---------------------------------------- 8.4/8.4 kB • 00:00 • ?\n",
      "100% ---------------------------------------- 8.4/8.4 kB • 00:00 • ?\n",
      "100% ---------------------------------------- 8.4/8.4 kB • 00:00 • ?\n",
      "100% ---------------------------------------- 8.4/8.4 kB • 00:00 • ?\n",
      "100% ---------------------------------------- 8.4/8.4 kB • 00:00 • ?\n",
      "100% ---------------------------------------- 8.4/8.4 kB • 00:00 • ?\n",
      "Uploading intlab-0.1.3.tar.gz\n",
      "\n",
      "  0% ---------------------------------------- 0.0/8.0 kB • --:-- • ?\n",
      "100% ---------------------------------------- 8.0/8.0 kB • 00:00 • ?\n",
      "100% ---------------------------------------- 8.0/8.0 kB • 00:00 • ?\n",
      "100% ---------------------------------------- 8.0/8.0 kB • 00:00 • ?\n",
      "100% ---------------------------------------- 8.0/8.0 kB • 00:00 • ?\n",
      "100% ---------------------------------------- 8.0/8.0 kB • 00:00 • ?\n",
      "100% ---------------------------------------- 8.0/8.0 kB • 00:00 • ?\n",
      "100% ---------------------------------------- 8.0/8.0 kB • 00:00 • ?\n",
      "100% ---------------------------------------- 8.0/8.0 kB • 00:00 • ?\n",
      "100% ---------------------------------------- 8.0/8.0 kB • 00:00 • ?\n",
      "100% ---------------------------------------- 8.0/8.0 kB • 00:00 • ?\n",
      "100% ---------------------------------------- 8.0/8.0 kB • 00:00 • ?\n",
      "100% ---------------------------------------- 8.0/8.0 kB • 00:00 • ?\n",
      "\n",
      "View at:\n",
      "https://pypi.org/project/intlab/0.1.3/\n"
     ]
    }
   ],
   "source": [
    "!twine upload dist/*"
   ]
  },
  {
   "cell_type": "code",
   "execution_count": 10,
   "metadata": {},
   "outputs": [],
   "source": [
    "import time\n",
    "\n",
    "time.sleep(30)"
   ]
  },
  {
   "cell_type": "code",
   "execution_count": 11,
   "metadata": {},
   "outputs": [
    {
     "name": "stdout",
     "output_type": "stream",
     "text": [
      "Defaulting to user installation because normal site-packages is not writeable\n",
      "Requirement already satisfied: intlab in c:\\users\\owner\\appdata\\roaming\\python\\python310\\site-packages (0.1.2)\n",
      "Requirement already satisfied: pandas>=1.2.4 in c:\\users\\owner\\appdata\\roaming\\python\\python310\\site-packages (from intlab) (1.4.3)\n",
      "Requirement already satisfied: python-dateutil>=2.8.1 in c:\\users\\owner\\appdata\\roaming\\python\\python310\\site-packages (from pandas>=1.2.4->intlab) (2.8.2)\n",
      "Requirement already satisfied: pytz>=2020.1 in c:\\users\\owner\\appdata\\roaming\\python\\python310\\site-packages (from pandas>=1.2.4->intlab) (2023.3)\n",
      "Requirement already satisfied: numpy>=1.21.0 in c:\\users\\owner\\appdata\\roaming\\python\\python310\\site-packages (from pandas>=1.2.4->intlab) (1.23.1)\n",
      "Requirement already satisfied: six>=1.5 in c:\\users\\owner\\appdata\\roaming\\python\\python310\\site-packages (from python-dateutil>=2.8.1->pandas>=1.2.4->intlab) (1.12.0)\n"
     ]
    },
    {
     "name": "stderr",
     "output_type": "stream",
     "text": [
      "DEPRECATION: textract 1.6.5 has a non-standard dependency specifier extract-msg<=0.29.*. pip 24.0 will enforce this behaviour change. A possible replacement is to upgrade to a newer version of textract or contact the author to suggest that they release a version with a conforming dependency specifiers. Discussion can be found at https://github.com/pypa/pip/issues/12063\n"
     ]
    }
   ],
   "source": [
    "!pip install -U intlab"
   ]
  },
  {
   "cell_type": "code",
   "execution_count": 12,
   "metadata": {},
   "outputs": [
    {
     "name": "stdout",
     "output_type": "stream",
     "text": [
      "Name: intlab\n",
      "Version: 0.1.2\n",
      "Summary: IISL: SAP-net\n",
      "Home-page: https://github.com/takayasora/intlab\n",
      "Author: Sora Takaya\n",
      "Author-email: so12ra16@outlook.jp\n",
      "License: MIT License\n",
      "Location: c:\\users\\owner\\appdata\\roaming\\python\\python310\\site-packages\n",
      "Requires: pandas\n",
      "Required-by: \n"
     ]
    }
   ],
   "source": [
    "!pip show intlab"
   ]
  },
  {
   "cell_type": "code",
   "execution_count": 13,
   "metadata": {},
   "outputs": [
    {
     "name": "stdout",
     "output_type": "stream",
     "text": [
      "8\n",
      "8\n",
      "24\n",
      "4.0\n",
      "割る数は0にできません\n"
     ]
    }
   ],
   "source": [
    "import intlab\n",
    "\n",
    "calculator = intlab.calc\n",
    "\n",
    "# 例として、各関数を使用する方法\n",
    "result = calculator.add(5, 3)  # 5 + 3 を計算\n",
    "print(result)  # 出力は 8\n",
    "\n",
    "result = calculator.subtract(10, 2)  # 10 - 2 を計算\n",
    "print(result)  # 出力は 8\n",
    "\n",
    "result = calculator.multiply(6, 4)  # 6 * 4 を計算\n",
    "print(result)  # 出力は 24\n",
    "\n",
    "result = calculator.divide(8, 2)  # 8 / 2 を計算\n",
    "print(result)  # 出力は 4\n",
    "\n",
    "result = calculator.divide(6, 0)  # ゼロで割ることはできません\n",
    "print(result)  # 出力は \"割る数は0にできません。\""
   ]
  },
  {
   "cell_type": "code",
   "execution_count": 14,
   "metadata": {},
   "outputs": [
    {
     "ename": "TypeError",
     "evalue": "sapnet() takes no arguments",
     "output_type": "error",
     "traceback": [
      "\u001b[1;31m---------------------------------------------------------------------------\u001b[0m",
      "\u001b[1;31mTypeError\u001b[0m                                 Traceback (most recent call last)",
      "\u001b[1;32mg:\\intlab\\0.pypi_upload.ipynb セル 8\u001b[0m line \u001b[0;36m<cell line: 7>\u001b[1;34m()\u001b[0m\n\u001b[0;32m      <a href='vscode-notebook-cell:/g%3A/intlab/0.pypi_upload.ipynb#X10sZmlsZQ%3D%3D?line=4'>5</a>\u001b[0m df \u001b[39m=\u001b[39m sapnet\u001b[39m.\u001b[39mexample_dataframe()\n\u001b[0;32m      <a href='vscode-notebook-cell:/g%3A/intlab/0.pypi_upload.ipynb#X10sZmlsZQ%3D%3D?line=5'>6</a>\u001b[0m stimulus \u001b[39m=\u001b[39m \u001b[39m1\u001b[39m \u001b[39m# 仮に刺激を1と仮定する\u001b[39;00m\n\u001b[1;32m----> <a href='vscode-notebook-cell:/g%3A/intlab/0.pypi_upload.ipynb#X10sZmlsZQ%3D%3D?line=6'>7</a>\u001b[0m stimulus_list,return_list \u001b[39m=\u001b[39m sapnet(df,\u001b[39m1\u001b[39;49m)\n",
      "\u001b[1;31mTypeError\u001b[0m: sapnet() takes no arguments"
     ]
    }
   ],
   "source": [
    "import intlab\n",
    "\n",
    "sapnet = intlab.sapnet\n",
    "\n",
    "df = sapnet.example_dataframe()\n",
    "stimulus = 1 # 仮に刺激を1と仮定する\n",
    "stimulus_list,return_list = sapnet(df,1)"
   ]
  },
  {
   "cell_type": "code",
   "execution_count": null,
   "metadata": {},
   "outputs": [],
   "source": [
    "import intlab\n",
    "\n",
    "sapnet = intlab.sapnet\n",
    "\n"
   ]
  },
  {
   "cell_type": "markdown",
   "metadata": {},
   "source": [
    "cmdから下記のプロンプトを実行"
   ]
  },
  {
   "cell_type": "markdown",
   "metadata": {},
   "source": [
    "pip uninstall intlab"
   ]
  },
  {
   "cell_type": "code",
   "execution_count": null,
   "metadata": {},
   "outputs": [
    {
     "name": "stdout",
     "output_type": "stream",
     "text": [
      "Name: intlab\n",
      "Version: 0.1.1\n",
      "Summary: IISL: SAP-net\n",
      "Home-page: https://github.com/takayasora/intlab\n",
      "Author: Sora Takaya\n",
      "Author-email: so12ra16@outlook.jp\n",
      "License: MIT License\n",
      "Location: C:\\Users\\so12r\\AppData\\Roaming\\Python\\Python311\\site-packages\n",
      "Requires: pandas\n",
      "Required-by: \n"
     ]
    }
   ],
   "source": [
    "!pip show intlab"
   ]
  }
 ],
 "metadata": {
  "kernelspec": {
   "display_name": "Python 3",
   "language": "python",
   "name": "python3"
  },
  "language_info": {
   "codemirror_mode": {
    "name": "ipython",
    "version": 3
   },
   "file_extension": ".py",
   "mimetype": "text/x-python",
   "name": "python",
   "nbconvert_exporter": "python",
   "pygments_lexer": "ipython3",
   "version": "3.10.2"
  }
 },
 "nbformat": 4,
 "nbformat_minor": 2
}
