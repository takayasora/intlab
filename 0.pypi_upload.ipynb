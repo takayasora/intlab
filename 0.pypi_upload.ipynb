{
 "cells": [
  {
   "cell_type": "markdown",
   "metadata": {},
   "source": [
    "本番環境へのアップロード用テンプレートコード"
   ]
  },
  {
   "cell_type": "code",
   "execution_count": 1,
   "metadata": {},
   "outputs": [
    {
     "name": "stdout",
     "output_type": "stream",
     "text": [
      "running sdist\n",
      "running egg_info\n",
      "writing intlab.egg-info\\PKG-INFO\n",
      "writing dependency_links to intlab.egg-info\\dependency_links.txt\n",
      "writing requirements to intlab.egg-info\\requires.txt\n",
      "writing top-level names to intlab.egg-info\\top_level.txt\n",
      "reading manifest file 'intlab.egg-info\\SOURCES.txt'\n",
      "adding license file 'LICENSE'\n",
      "writing manifest file 'intlab.egg-info\\SOURCES.txt'\n",
      "running check\n",
      "creating intlab-0.1.3\n",
      "creating intlab-0.1.3\\intlab\n",
      "creating intlab-0.1.3\\intlab.egg-info\n",
      "copying files to intlab-0.1.3...\n",
      "copying LICENSE -> intlab-0.1.3\n",
      "copying README.rst -> intlab-0.1.3\n",
      "copying setup.py -> intlab-0.1.3\n",
      "copying intlab\\__init__.py -> intlab-0.1.3\\intlab\n",
      "copying intlab\\calculator.py -> intlab-0.1.3\\intlab\n",
      "copying intlab\\sapnet.py -> intlab-0.1.3\\intlab\n",
      "copying intlab.egg-info\\PKG-INFO -> intlab-0.1.3\\intlab.egg-info\n",
      "copying intlab.egg-info\\SOURCES.txt -> intlab-0.1.3\\intlab.egg-info\n",
      "copying intlab.egg-info\\dependency_links.txt -> intlab-0.1.3\\intlab.egg-info\n",
      "copying intlab.egg-info\\requires.txt -> intlab-0.1.3\\intlab.egg-info\n",
      "copying intlab.egg-info\\top_level.txt -> intlab-0.1.3\\intlab.egg-info\n",
      "Writing intlab-0.1.3\\setup.cfg\n",
      "Creating tar archive\n",
      "removing 'intlab-0.1.3' (and everything under it)\n",
      "running bdist_wheel\n",
      "running build\n",
      "running build_py\n",
      "copying intlab\\sapnet.py -> build\\lib\\intlab\n",
      "copying intlab\\__init__.py -> build\\lib\\intlab\n",
      "installing to build\\bdist.win-amd64\\wheel\n",
      "running install\n",
      "running install_lib\n",
      "creating build\\bdist.win-amd64\\wheel\n",
      "creating build\\bdist.win-amd64\\wheel\\intlab\n",
      "copying build\\lib\\intlab\\calculator.py -> build\\bdist.win-amd64\\wheel\\.\\intlab\n",
      "copying build\\lib\\intlab\\sapnet.py -> build\\bdist.win-amd64\\wheel\\.\\intlab\n",
      "copying build\\lib\\intlab\\__init__.py -> build\\bdist.win-amd64\\wheel\\.\\intlab\n",
      "running install_egg_info\n",
      "running egg_info\n",
      "writing intlab.egg-info\\PKG-INFO\n",
      "writing dependency_links to intlab.egg-info\\dependency_links.txt\n",
      "writing requirements to intlab.egg-info\\requires.txt\n",
      "writing top-level names to intlab.egg-info\\top_level.txt\n",
      "reading manifest file 'intlab.egg-info\\SOURCES.txt'\n",
      "adding license file 'LICENSE'\n",
      "writing manifest file 'intlab.egg-info\\SOURCES.txt'\n",
      "Copying intlab.egg-info to build\\bdist.win-amd64\\wheel\\.\\intlab-0.1.3-py3.11.egg-info\n",
      "running install_scripts\n",
      "creating build\\bdist.win-amd64\\wheel\\intlab-0.1.3.dist-info\\WHEEL\n",
      "creating 'dist\\intlab-0.1.3-py3-none-any.whl' and adding 'build\\bdist.win-amd64\\wheel' to it\n",
      "adding 'intlab/__init__.py'\n",
      "adding 'intlab/calculator.py'\n",
      "adding 'intlab/sapnet.py'\n",
      "adding 'intlab-0.1.3.dist-info/LICENSE'\n",
      "adding 'intlab-0.1.3.dist-info/METADATA'\n",
      "adding 'intlab-0.1.3.dist-info/WHEEL'\n",
      "adding 'intlab-0.1.3.dist-info/top_level.txt'\n",
      "adding 'intlab-0.1.3.dist-info/RECORD'\n",
      "removing build\\bdist.win-amd64\\wheel\n"
     ]
    },
    {
     "name": "stderr",
     "output_type": "stream",
     "text": [
      "c:\\Program Files\\Python311\\Lib\\site-packages\\setuptools\\command\\install.py:34: SetuptoolsDeprecationWarning: setup.py install is deprecated. Use build and pip and other standards-based tools.\n",
      "  warnings.warn(\n"
     ]
    }
   ],
   "source": [
    "!python setup.py sdist\n",
    "!python setup.py bdist_wheel"
   ]
  },
  {
   "cell_type": "markdown",
   "metadata": {},
   "source": [
    "エラーの理由：\n",
    "DistにOld関連ファイルがあるから\n",
    "\n",
    "エラー解消<br>\n",
    "\n",
    "1.バージョン情報の取得<br>\n",
    "2.Distファイル内全部のファイル取得<br>\n",
    "3.↑リスト化<br>\n",
    "4.リストからバージョン情報のないアイテムを削除<br>\n",
    "5.リスト内のアイテムをすべてDist_oldに移動<br>"
   ]
  },
  {
   "cell_type": "code",
   "execution_count": 2,
   "metadata": {},
   "outputs": [
    {
     "name": "stdout",
     "output_type": "stream",
     "text": [
      "./dist\\intlab-0.1.3-py3-none-any.whl\n",
      "true\n",
      "./dist\\intlab-0.1.3.tar.gz\n",
      "true\n"
     ]
    }
   ],
   "source": [
    "\"\"\"\n",
    "1.バージョン情報の取得<br>\n",
    "2.Distファイル内全部のファイル取得<br>\n",
    "3.↑リスト化<br>\n",
    "4.リストからバージョン情報のないアイテムを削除<br>\n",
    "5.リスト内のアイテムをすべてDist_oldに移動<br>\n",
    "\"\"\"\n",
    "\n",
    "import shutil\n",
    "import intlab\n",
    "import glob\n",
    "import os\n",
    "\n",
    "#1.バージョン情報の取得<br>\n",
    "VERSION = intlab.__version__\n",
    "\n",
    "#2.Distファイル内全部のファイル取得し、リスト化<br>\n",
    "files = glob.glob(\"./dist/*\")\n",
    "files_name=[]\n",
    "for file in files:\n",
    "    print(file)\n",
    "    if VERSION in file:\n",
    "        print(\"true\")\n",
    "    else:\n",
    "        shutil.move(file, \"./dist_old/\")  # \"/path/to/destination/\" は移動先のディレクトリパスに置き換えてください\n"
   ]
  },
  {
   "cell_type": "code",
   "execution_count": 3,
   "metadata": {},
   "outputs": [
    {
     "name": "stdout",
     "output_type": "stream",
     "text": [
      "Uploading distributions to https://upload.pypi.org/legacy/\n",
      "Uploading intlab-0.1.3-py3-none-any.whl\n",
      "\n",
      "  0% ---------------------------------------- 0.0/8.3 kB • --:-- • ?\n",
      "  0% ---------------------------------------- 0.0/8.3 kB • --:-- • ?\n",
      "  0% ---------------------------------------- 0.0/8.3 kB • --:-- • ?\n",
      "  0% ---------------------------------------- 0.0/8.3 kB • --:-- • ?\n",
      "  0% ---------------------------------------- 0.0/8.3 kB • --:-- • ?\n",
      "  0% ---------------------------------------- 0.0/8.3 kB • --:-- • ?\n",
      "  0% ---------------------------------------- 0.0/8.3 kB • --:-- • ?\n",
      "  0% ---------------------------------------- 0.0/8.3 kB • --:-- • ?\n",
      "  0% ---------------------------------------- 0.0/8.3 kB • --:-- • ?\n",
      "  0% ---------------------------------------- 0.0/8.3 kB • --:-- • ?\n",
      "  0% ---------------------------------------- 0.0/8.3 kB • --:-- • ?\n",
      "  0% ---------------------------------------- 0.0/8.3 kB • --:-- • ?\n",
      "  0% ---------------------------------------- 0.0/8.3 kB • --:-- • ?\n",
      "  0% ---------------------------------------- 0.0/8.3 kB • --:-- • ?\n",
      "  0% ---------------------------------------- 0.0/8.3 kB • --:-- • ?\n",
      "  0% ---------------------------------------- 0.0/8.3 kB • --:-- • ?\n",
      "  0% ---------------------------------------- 0.0/8.3 kB • --:-- • ?\n",
      "  0% ---------------------------------------- 0.0/8.3 kB • --:-- • ?\n",
      "100% ---------------------------------------- 8.3/8.3 kB • 00:02 • ?\n",
      "100% ---------------------------------------- 8.3/8.3 kB • 00:02 • ?\n",
      "100% ---------------------------------------- 8.3/8.3 kB • 00:02 • ?\n",
      "100% ---------------------------------------- 8.3/8.3 kB • 00:02 • ?\n",
      "100% ---------------------------------------- 8.3/8.3 kB • 00:02 • ?\n",
      "WARNING  Error during upload. Retry with the --verbose option for more details.\n",
      "ERROR    HTTPError: 400 Bad Request from https://upload.pypi.org/legacy/       \n",
      "         File already exists. See https://pypi.org/help/#file-name-reuse for   \n",
      "         more information.                                                     \n"
     ]
    }
   ],
   "source": [
    "!twine upload dist/*"
   ]
  },
  {
   "cell_type": "code",
   "execution_count": 4,
   "metadata": {},
   "outputs": [],
   "source": [
    "import time\n",
    "\n",
    "time.sleep(30)"
   ]
  },
  {
   "cell_type": "code",
   "execution_count": 5,
   "metadata": {},
   "outputs": [
    {
     "name": "stdout",
     "output_type": "stream",
     "text": [
      "Defaulting to user installation because normal site-packages is not writeable\n",
      "Requirement already satisfied: intlab in c:\\users\\so12r\\appdata\\roaming\\python\\python311\\site-packages (0.1.2)\n",
      "Collecting intlab\n",
      "  Downloading intlab-0.1.3-py3-none-any.whl.metadata (791 bytes)\n",
      "Requirement already satisfied: pandas>=1.2.4 in c:\\users\\so12r\\appdata\\roaming\\python\\python311\\site-packages (from intlab) (1.5.3)\n",
      "Requirement already satisfied: python-dateutil>=2.8.1 in c:\\users\\so12r\\appdata\\roaming\\python\\python311\\site-packages (from pandas>=1.2.4->intlab) (2.8.2)\n",
      "Requirement already satisfied: pytz>=2020.1 in c:\\users\\so12r\\appdata\\roaming\\python\\python311\\site-packages (from pandas>=1.2.4->intlab) (2023.3)\n",
      "Requirement already satisfied: numpy>=1.21.0 in c:\\users\\so12r\\appdata\\roaming\\python\\python311\\site-packages (from pandas>=1.2.4->intlab) (1.25.2)\n",
      "Requirement already satisfied: six>=1.5 in c:\\users\\so12r\\appdata\\roaming\\python\\python311\\site-packages (from python-dateutil>=2.8.1->pandas>=1.2.4->intlab) (1.16.0)\n",
      "Downloading intlab-0.1.3-py3-none-any.whl (4.5 kB)\n",
      "Installing collected packages: intlab\n",
      "  Attempting uninstall: intlab\n",
      "    Found existing installation: intlab 0.1.2\n",
      "    Uninstalling intlab-0.1.2:\n",
      "      Successfully uninstalled intlab-0.1.2\n",
      "Successfully installed intlab-0.1.3\n"
     ]
    }
   ],
   "source": [
    "!pip install -U intlab"
   ]
  },
  {
   "cell_type": "code",
   "execution_count": 6,
   "metadata": {},
   "outputs": [
    {
     "name": "stdout",
     "output_type": "stream",
     "text": [
      "Name: intlab\n",
      "Version: 0.1.3\n",
      "Summary: IISL: SAP-net\n",
      "Home-page: https://github.com/takayasora/intlab\n",
      "Author: Sora Takaya\n",
      "Author-email: so12ra16@outlook.jp\n",
      "License: MIT License\n",
      "Location: C:\\Users\\so12r\\AppData\\Roaming\\Python\\Python311\\site-packages\n",
      "Requires: pandas\n",
      "Required-by: \n"
     ]
    }
   ],
   "source": [
    "!pip show intlab"
   ]
  },
  {
   "cell_type": "code",
   "execution_count": 7,
   "metadata": {},
   "outputs": [
    {
     "name": "stdout",
     "output_type": "stream",
     "text": [
      "8\n",
      "8\n",
      "24\n",
      "4.0\n",
      "割る数は0にできません\n"
     ]
    }
   ],
   "source": [
    "import intlab\n",
    "\n",
    "calculator = intlab.calc\n",
    "\n",
    "# 例として、各関数を使用する方法\n",
    "result = calculator.add(5, 3)  # 5 + 3 を計算\n",
    "print(result)  # 出力は 8\n",
    "\n",
    "result = calculator.subtract(10, 2)  # 10 - 2 を計算\n",
    "print(result)  # 出力は 8\n",
    "\n",
    "result = calculator.multiply(6, 4)  # 6 * 4 を計算\n",
    "print(result)  # 出力は 24\n",
    "\n",
    "result = calculator.divide(8, 2)  # 8 / 2 を計算\n",
    "print(result)  # 出力は 4\n",
    "\n",
    "result = calculator.divide(6, 0)  # ゼロで割ることはできません\n",
    "print(result)  # 出力は \"割る数は0にできません。\""
   ]
  },
  {
   "cell_type": "code",
   "execution_count": 1,
   "metadata": {},
   "outputs": [
    {
     "name": "stdout",
     "output_type": "stream",
     "text": [
      "[1, 2]\n",
      "[1, 6]\n",
      "[1, 4]\n",
      "[1, 7]\n",
      "[2, 3]\n",
      "[2, 5]\n",
      "[6, 5]\n",
      "[6, 7]\n",
      "[4, 5]\n",
      "[4, 3]\n",
      "[7, 5]\n",
      "[7, 3]\n",
      "[0.22620935450898988, 0.04189500287722745, 0.007020765064331587, 0.0010645773165391117, 0.0002378691719436649, 4.351512314357801e-05, 9.72301978294991e-06, 1.7787021316184418e-06, 5.364787480762294e-07, 1.4641054980759473e-07, 2.996770492563335e-08, 3.720380463606739e-09]\n"
     ]
    }
   ],
   "source": [
    "import intlab\n",
    "\n",
    "sapnet = intlab.sapnet\n",
    "\n",
    "df = sapnet.example_dataframe()\n",
    "stimulus = 1 # 仮に刺激を1と仮定する\n",
    "stimulus_list,return_list = sapnet.sapnet(df,1)"
   ]
  },
  {
   "cell_type": "code",
   "execution_count": null,
   "metadata": {},
   "outputs": [],
   "source": [
    "import intlab\n",
    "\n",
    "sapnet = intlab.sapnet\n",
    "\n"
   ]
  },
  {
   "cell_type": "markdown",
   "metadata": {},
   "source": [
    "cmdから下記のプロンプトを実行"
   ]
  },
  {
   "cell_type": "markdown",
   "metadata": {},
   "source": [
    "pip uninstall intlab"
   ]
  },
  {
   "cell_type": "code",
   "execution_count": null,
   "metadata": {},
   "outputs": [
    {
     "name": "stdout",
     "output_type": "stream",
     "text": [
      "Name: intlab\n",
      "Version: 0.1.1\n",
      "Summary: IISL: SAP-net\n",
      "Home-page: https://github.com/takayasora/intlab\n",
      "Author: Sora Takaya\n",
      "Author-email: so12ra16@outlook.jp\n",
      "License: MIT License\n",
      "Location: C:\\Users\\so12r\\AppData\\Roaming\\Python\\Python311\\site-packages\n",
      "Requires: pandas\n",
      "Required-by: \n"
     ]
    }
   ],
   "source": [
    "!pip show intlab"
   ]
  }
 ],
 "metadata": {
  "kernelspec": {
   "display_name": "Python 3",
   "language": "python",
   "name": "python3"
  },
  "language_info": {
   "codemirror_mode": {
    "name": "ipython",
    "version": 3
   },
   "file_extension": ".py",
   "mimetype": "text/x-python",
   "name": "python",
   "nbconvert_exporter": "python",
   "pygments_lexer": "ipython3",
   "version": "3.10.2"
  }
 },
 "nbformat": 4,
 "nbformat_minor": 2
}
