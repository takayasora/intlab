{
 "cells": [
  {
   "cell_type": "markdown",
   "metadata": {},
   "source": [
    "本番環境へのアップロード用テンプレートコード"
   ]
  },
  {
   "cell_type": "code",
   "execution_count": 1,
   "metadata": {},
   "outputs": [
    {
     "name": "stderr",
     "output_type": "stream",
     "text": [
      "Traceback (most recent call last):\n",
      "  File \"c:\\Users\\so12r\\Documents\\intlab\\setup.py\", line 6, in <module>\n",
      "    import intlab\n",
      "  File \"c:\\Users\\so12r\\Documents\\intlab\\intlab\\__init__.py\", line 1, in <module>\n",
      "    from .sapnet import *\n",
      "  File \"c:\\Users\\so12r\\Documents\\intlab\\intlab\\sapnet.py\", line 8, in <module>\n",
      "    import seaborn as sns\n",
      "ModuleNotFoundError: No module named 'seaborn'\n",
      "Traceback (most recent call last):\n",
      "  File \"c:\\Users\\so12r\\Documents\\intlab\\setup.py\", line 6, in <module>\n",
      "    import intlab\n",
      "  File \"c:\\Users\\so12r\\Documents\\intlab\\intlab\\__init__.py\", line 1, in <module>\n",
      "    from .sapnet import *\n",
      "  File \"c:\\Users\\so12r\\Documents\\intlab\\intlab\\sapnet.py\", line 8, in <module>\n",
      "    import seaborn as sns\n",
      "ModuleNotFoundError: No module named 'seaborn'\n"
     ]
    }
   ],
   "source": [
    "!python setup.py sdist\n",
    "!python setup.py bdist_wheel"
   ]
  },
  {
   "cell_type": "markdown",
   "metadata": {},
   "source": [
    "エラーの理由：\n",
    "DistにOld関連ファイルがあるから\n",
    "\n",
    "エラー解消<br>\n",
    "\n",
    "1.バージョン情報の取得<br>\n",
    "2.Distファイル内全部のファイル取得<br>\n",
    "3.↑リスト化<br>\n",
    "4.リストからバージョン情報のないアイテムを削除<br>\n",
    "5.リスト内のアイテムをすべてDist_oldに移動<br>"
   ]
  },
  {
   "cell_type": "code",
   "execution_count": 2,
   "metadata": {},
   "outputs": [
    {
     "ename": "ModuleNotFoundError",
     "evalue": "No module named 'seaborn'",
     "output_type": "error",
     "traceback": [
      "\u001b[1;31m---------------------------------------------------------------------------\u001b[0m",
      "\u001b[1;31mModuleNotFoundError\u001b[0m                       Traceback (most recent call last)",
      "\u001b[1;32mc:\\Users\\so12r\\Documents\\intlab\\0.pypi_upload.ipynb セル 4\u001b[0m line \u001b[0;36m1\n\u001b[0;32m      <a href='vscode-notebook-cell:/c%3A/Users/so12r/Documents/intlab/0.pypi_upload.ipynb#W3sZmlsZQ%3D%3D?line=0'>1</a>\u001b[0m \u001b[39m\"\"\"\u001b[39;00m\n\u001b[0;32m      <a href='vscode-notebook-cell:/c%3A/Users/so12r/Documents/intlab/0.pypi_upload.ipynb#W3sZmlsZQ%3D%3D?line=1'>2</a>\u001b[0m \u001b[39m1.バージョン情報の取得<br>\u001b[39;00m\n\u001b[0;32m      <a href='vscode-notebook-cell:/c%3A/Users/so12r/Documents/intlab/0.pypi_upload.ipynb#W3sZmlsZQ%3D%3D?line=2'>3</a>\u001b[0m \u001b[39m2.Distファイル内全部のファイル取得<br>\u001b[39;00m\n\u001b[1;32m   (...)\u001b[0m\n\u001b[0;32m      <a href='vscode-notebook-cell:/c%3A/Users/so12r/Documents/intlab/0.pypi_upload.ipynb#W3sZmlsZQ%3D%3D?line=5'>6</a>\u001b[0m \u001b[39m5.リスト内のアイテムをすべてDist_oldに移動<br>\u001b[39;00m\n\u001b[0;32m      <a href='vscode-notebook-cell:/c%3A/Users/so12r/Documents/intlab/0.pypi_upload.ipynb#W3sZmlsZQ%3D%3D?line=6'>7</a>\u001b[0m \u001b[39m\"\"\"\u001b[39;00m\n\u001b[0;32m      <a href='vscode-notebook-cell:/c%3A/Users/so12r/Documents/intlab/0.pypi_upload.ipynb#W3sZmlsZQ%3D%3D?line=8'>9</a>\u001b[0m \u001b[39mimport\u001b[39;00m \u001b[39mshutil\u001b[39;00m\n\u001b[1;32m---> <a href='vscode-notebook-cell:/c%3A/Users/so12r/Documents/intlab/0.pypi_upload.ipynb#W3sZmlsZQ%3D%3D?line=9'>10</a>\u001b[0m \u001b[39mimport\u001b[39;00m \u001b[39mintlab\u001b[39;00m\n\u001b[0;32m     <a href='vscode-notebook-cell:/c%3A/Users/so12r/Documents/intlab/0.pypi_upload.ipynb#W3sZmlsZQ%3D%3D?line=10'>11</a>\u001b[0m \u001b[39mimport\u001b[39;00m \u001b[39mglob\u001b[39;00m\n\u001b[0;32m     <a href='vscode-notebook-cell:/c%3A/Users/so12r/Documents/intlab/0.pypi_upload.ipynb#W3sZmlsZQ%3D%3D?line=11'>12</a>\u001b[0m \u001b[39mimport\u001b[39;00m \u001b[39mos\u001b[39;00m\n",
      "File \u001b[1;32mc:\\Users\\so12r\\Documents\\intlab\\intlab\\__init__.py:1\u001b[0m\n\u001b[1;32m----> 1\u001b[0m \u001b[39mfrom\u001b[39;00m \u001b[39m.\u001b[39;00m\u001b[39msapnet\u001b[39;00m \u001b[39mimport\u001b[39;00m \u001b[39m*\u001b[39m\n\u001b[0;32m      3\u001b[0m __version__ \u001b[39m=\u001b[39m \u001b[39m'\u001b[39m\u001b[39m1.3.0\u001b[39m\u001b[39m'\u001b[39m\n",
      "File \u001b[1;32mc:\\Users\\so12r\\Documents\\intlab\\intlab\\sapnet.py:8\u001b[0m\n\u001b[0;32m      6\u001b[0m \u001b[39mimport\u001b[39;00m \u001b[39mos\u001b[39;00m\n\u001b[0;32m      7\u001b[0m \u001b[39mimport\u001b[39;00m \u001b[39mdatetime\u001b[39;00m\n\u001b[1;32m----> 8\u001b[0m \u001b[39mimport\u001b[39;00m \u001b[39mseaborn\u001b[39;00m \u001b[39mas\u001b[39;00m \u001b[39msns\u001b[39;00m\n\u001b[0;32m      9\u001b[0m \u001b[39mimport\u001b[39;00m \u001b[39mjapanize_matplotlib\u001b[39;00m\n\u001b[0;32m     10\u001b[0m \u001b[39mimport\u001b[39;00m \u001b[39mnetworkx\u001b[39;00m \u001b[39mas\u001b[39;00m \u001b[39mnx\u001b[39;00m\n",
      "\u001b[1;31mModuleNotFoundError\u001b[0m: No module named 'seaborn'"
     ]
    }
   ],
   "source": [
    "\"\"\"\n",
    "1.バージョン情報の取得<br>\n",
    "2.Distファイル内全部のファイル取得<br>\n",
    "3.↑リスト化<br>\n",
    "4.リストからバージョン情報のないアイテムを削除<br>\n",
    "5.リスト内のアイテムをすべてDist_oldに移動<br>\n",
    "\"\"\"\n",
    "\n",
    "import shutil\n",
    "import intlab\n",
    "import glob\n",
    "import os\n",
    "\n",
    "#1.バージョン情報の取得<br>\n",
    "VERSION = intlab.__version__\n",
    "\n",
    "#2.Distファイル内全部のファイル取得し、リスト化<br>\n",
    "files = glob.glob(\"./dist/*\")\n",
    "files_name=[]\n",
    "for file in files:\n",
    "    print(file)\n",
    "    if VERSION in file:\n",
    "        print(\"true\")\n",
    "    else:\n",
    "        shutil.move(file, \"./dist_old/\")  # \"/path/to/destination/\" は移動先のディレクトリパスに置き換えてください\n"
   ]
  },
  {
   "cell_type": "code",
   "execution_count": null,
   "metadata": {},
   "outputs": [],
   "source": [
    "!twine upload dist/*"
   ]
  },
  {
   "cell_type": "code",
   "execution_count": null,
   "metadata": {},
   "outputs": [],
   "source": [
    "import time\n",
    "\n",
    "time.sleep(30)"
   ]
  },
  {
   "cell_type": "code",
   "execution_count": null,
   "metadata": {},
   "outputs": [
    {
     "name": "stdout",
     "output_type": "stream",
     "text": [
      "Defaulting to user installation because normal site-packages is not writeable\n",
      "Requirement already satisfied: intlab in c:\\users\\owner\\appdata\\roaming\\python\\python310\\site-packages (0.1.3)\n",
      "Collecting intlab\n",
      "  Downloading intlab-0.3.0-py3-none-any.whl.metadata (791 bytes)\n",
      "Requirement already satisfied: pandas>=1.2.4 in c:\\users\\owner\\appdata\\roaming\\python\\python310\\site-packages (from intlab) (1.4.3)\n",
      "Requirement already satisfied: python-dateutil>=2.8.1 in c:\\users\\owner\\appdata\\roaming\\python\\python310\\site-packages (from pandas>=1.2.4->intlab) (2.8.2)\n",
      "Requirement already satisfied: pytz>=2020.1 in c:\\users\\owner\\appdata\\roaming\\python\\python310\\site-packages (from pandas>=1.2.4->intlab) (2023.3)\n",
      "Requirement already satisfied: numpy>=1.21.0 in c:\\users\\owner\\appdata\\roaming\\python\\python310\\site-packages (from pandas>=1.2.4->intlab) (1.23.1)\n",
      "Requirement already satisfied: six>=1.5 in c:\\users\\owner\\appdata\\roaming\\python\\python310\\site-packages (from python-dateutil>=2.8.1->pandas>=1.2.4->intlab) (1.12.0)\n",
      "Downloading intlab-0.3.0-py3-none-any.whl (8.8 kB)\n",
      "Installing collected packages: intlab\n",
      "  Attempting uninstall: intlab\n",
      "    Found existing installation: intlab 0.1.3\n",
      "    Uninstalling intlab-0.1.3:\n",
      "      Successfully uninstalled intlab-0.1.3\n",
      "Successfully installed intlab-0.3.0\n"
     ]
    },
    {
     "name": "stderr",
     "output_type": "stream",
     "text": [
      "DEPRECATION: textract 1.6.5 has a non-standard dependency specifier extract-msg<=0.29.*. pip 24.0 will enforce this behaviour change. A possible replacement is to upgrade to a newer version of textract or contact the author to suggest that they release a version with a conforming dependency specifiers. Discussion can be found at https://github.com/pypa/pip/issues/12063\n"
     ]
    }
   ],
   "source": [
    "!pip install -U intlab"
   ]
  },
  {
   "cell_type": "code",
   "execution_count": null,
   "metadata": {},
   "outputs": [
    {
     "name": "stdout",
     "output_type": "stream",
     "text": [
      "Name: intlab\n",
      "Version: 0.3.0\n",
      "Summary: IISL: SAP-net\n",
      "Home-page: https://github.com/takayasora/intlab\n",
      "Author: Sora Takaya\n",
      "Author-email: so12ra16@outlook.jp\n",
      "License: MIT License\n",
      "Location: c:\\users\\owner\\appdata\\roaming\\python\\python310\\site-packages\n",
      "Requires: pandas\n",
      "Required-by: \n"
     ]
    }
   ],
   "source": [
    "!pip show intlab"
   ]
  },
  {
   "cell_type": "code",
   "execution_count": null,
   "metadata": {},
   "outputs": [
    {
     "name": "stdout",
     "output_type": "stream",
     "text": [
      "DEBUG : (0/8)Generating dataframe for dataframe.\n",
      "DEBUG : (0/8)Converting array to DataFrame\n",
      "\u001b[31mINFO  : Sapnet's algorithm, Start the calculations.\u001b[0m\n",
      "INFO  : (1/8)Generating stimulus pair list for stimulus 1\n",
      "DEBUG : (2/8)Calculating next_Allpair\n",
      "DEBUG : (2/8)Calculating next_Allpair [[1, 2], [1, 6], [1, 4], [1, 7]]\n",
      "DEBUG : (3/8)Removing already pairs [1, 2] [2, 1]\n",
      "DEBUG : (3/8)Removing already pairs [1, 6] [6, 1]\n",
      "DEBUG : (3/8)Removing already pairs [1, 4] [4, 1]\n",
      "DEBUG : (3/8)Removing already pairs [1, 7] [7, 1]\n",
      "DEBUG : (2/8)Calculating next_Allpair\n",
      "DEBUG : (2/8)Calculating next_Allpair [[2, 1], [2, 3], [2, 5]]\n",
      "DEBUG : (3/8)Removing already pairs [2, 3] [3, 2]\n",
      "DEBUG : (3/8)Removing already pairs [2, 5] [5, 2]\n",
      "DEBUG : (2/8)Calculating next_Allpair\n",
      "DEBUG : (2/8)Calculating next_Allpair [[6, 1], [6, 5], [6, 7]]\n",
      "DEBUG : (3/8)Removing already pairs [6, 5] [5, 6]\n",
      "DEBUG : (3/8)Removing already pairs [6, 7] [7, 6]\n",
      "DEBUG : (2/8)Calculating next_Allpair\n",
      "DEBUG : (2/8)Calculating next_Allpair [[4, 5], [4, 3], [4, 1]]\n",
      "DEBUG : (3/8)Removing already pairs [4, 5] [5, 4]\n",
      "DEBUG : (3/8)Removing already pairs [4, 3] [3, 4]\n",
      "DEBUG : (2/8)Calculating next_Allpair\n",
      "DEBUG : (2/8)Calculating next_Allpair [[7, 5], [7, 1], [7, 6], [7, 3]]\n",
      "DEBUG : (3/8)Removing already pairs [7, 5] [5, 7]\n",
      "DEBUG : (3/8)Removing already pairs [7, 3] [3, 7]\n",
      "DEBUG : (2/8)Calculating next_Allpair\n",
      "DEBUG : (2/8)Calculating next_Allpair [[3, 4], [3, 2], [3, 7]]\n",
      "DEBUG : (2/8)Calculating next_Allpair\n",
      "DEBUG : (2/8)Calculating next_Allpair [[5, 4], [5, 7], [5, 6], [5, 2]]\n",
      "DEBUG : (2/8)Calculating next_Allpair\n",
      "DEBUG : (2/8)Calculating next_Allpair [[5, 4], [5, 7], [5, 6], [5, 2]]\n",
      "DEBUG : (2/8)Calculating next_Allpair\n",
      "DEBUG : (2/8)Calculating next_Allpair [[7, 5], [7, 1], [7, 6], [7, 3]]\n",
      "DEBUG : (2/8)Calculating next_Allpair\n",
      "DEBUG : (2/8)Calculating next_Allpair [[5, 4], [5, 7], [5, 6], [5, 2]]\n",
      "DEBUG : (2/8)Calculating next_Allpair\n",
      "DEBUG : (2/8)Calculating next_Allpair [[3, 4], [3, 2], [3, 7]]\n",
      "DEBUG : (2/8)Calculating next_Allpair\n",
      "DEBUG : (2/8)Calculating next_Allpair [[5, 4], [5, 7], [5, 6], [5, 2]]\n",
      "DEBUG : (2/8)Calculating next_Allpair\n",
      "DEBUG : (2/8)Calculating next_Allpair [[3, 4], [3, 2], [3, 7]]\n",
      "INFO  : (3/8)Generating stimulus pair list [[1, 2], [1, 6], [1, 4], [1, 7], [2, 3], [2, 5], [6, 5], [6, 7], [4, 5], [4, 3], [7, 5], [7, 3]]\n",
      "DEBUG : (4/8)Creating last dataframe for stimulus 1 -> [1, 0, 0, 0, 0, 0, 0]\n",
      "DEBUG : (5/8)Counting paths for stimulus 1\n",
      "DEBUG : (5/8)Counting paths for stimulus 1 --> 4\n",
      "DEBUG : (6/8)Calculating path weight for stimulus 1 and receive 2\n",
      "DEBUG : (6/8)Calculating path weight for stimulus 1 -> 2 --> 0.1\n",
      "DEBUG : (7/8)calculation stimulus value for pairA( 1 )and pairB( 2 )\n",
      "DEBUG : (7/8)Lastlist before update: [1, 0, 0, 0, 0, 0, 0]\n",
      "DEBUG : (7/8)pickup last value pair( 1 ): 1\n",
      "DEBUG : (7/8)Calculation -> 1/ 4 * 1  * exp(- 0.1 )\n",
      "DEBUG : (7/8)Calculation ->  0.22620935450898988\n",
      "DEBUG : (7/8)Lastlist after update: [1, 0.22620935450898988, 0, 0, 0, 0, 0]\n",
      "DEBUG : (8/8)Updating DataFrame\n",
      "DEBUG : (8/8)moved from  1  to  2 , adding  0.22620935450898988 .\n",
      "DEBUG : (8/8)DataFrame update completed\n",
      "DEBUG : (5/8)Counting paths for stimulus 1\n",
      "DEBUG : (5/8)Counting paths for stimulus 1 --> 4\n",
      "DEBUG : (6/8)Calculating path weight for stimulus 1 and receive 6\n",
      "DEBUG : (6/8)Calculating path weight for stimulus 1 -> 6 --> 0.3\n",
      "DEBUG : (7/8)calculation stimulus value for pairA( 1 )and pairB( 6 )\n",
      "DEBUG : (7/8)Lastlist before update: [1, 0.22620935450898988, 0, 0, 0, 0, 0]\n",
      "DEBUG : (7/8)pickup last value pair( 1 ): 1\n",
      "DEBUG : (7/8)Calculation -> 1/ 4 * 1  * exp(- 0.3 )\n",
      "DEBUG : (7/8)Calculation ->  0.18520455517042947\n",
      "DEBUG : (7/8)Lastlist after update: [1, 0.22620935450898988, 0, 0, 0, 0.18520455517042947, 0]\n",
      "DEBUG : (8/8)Updating DataFrame\n",
      "DEBUG : (8/8)moved from  1  to  6 , adding  0.18520455517042947 .\n",
      "DEBUG : (8/8)DataFrame update completed\n",
      "DEBUG : (5/8)Counting paths for stimulus 1\n",
      "DEBUG : (5/8)Counting paths for stimulus 1 --> 4\n",
      "DEBUG : (6/8)Calculating path weight for stimulus 1 and receive 4\n",
      "DEBUG : (6/8)Calculating path weight for stimulus 1 -> 4 --> 0.4\n",
      "DEBUG : (7/8)calculation stimulus value for pairA( 1 )and pairB( 4 )\n",
      "DEBUG : (7/8)Lastlist before update: [1, 0.22620935450898988, 0, 0, 0, 0.18520455517042947, 0]\n",
      "DEBUG : (7/8)pickup last value pair( 1 ): 1\n",
      "DEBUG : (7/8)Calculation -> 1/ 4 * 1  * exp(- 0.4 )\n",
      "DEBUG : (7/8)Calculation ->  0.16758001150890983\n",
      "DEBUG : (7/8)Lastlist after update: [1, 0.22620935450898988, 0, 0.16758001150890983, 0, 0.18520455517042947, 0]\n",
      "DEBUG : (8/8)Updating DataFrame\n",
      "DEBUG : (8/8)moved from  1  to  4 , adding  0.16758001150890983 .\n",
      "DEBUG : (8/8)DataFrame update completed\n",
      "DEBUG : (5/8)Counting paths for stimulus 1\n",
      "DEBUG : (5/8)Counting paths for stimulus 1 --> 4\n",
      "DEBUG : (6/8)Calculating path weight for stimulus 1 and receive 7\n",
      "DEBUG : (6/8)Calculating path weight for stimulus 1 -> 7 --> 0.5\n",
      "DEBUG : (7/8)calculation stimulus value for pairA( 1 )and pairB( 7 )\n",
      "DEBUG : (7/8)Lastlist before update: [1, 0.22620935450898988, 0, 0.16758001150890983, 0, 0.18520455517042947, 0]\n",
      "DEBUG : (7/8)pickup last value pair( 1 ): 1\n",
      "DEBUG : (7/8)Calculation -> 1/ 4 * 1  * exp(- 0.5 )\n",
      "DEBUG : (7/8)Calculation ->  0.15163266492815836\n",
      "DEBUG : (7/8)Lastlist after update: [1, 0.22620935450898988, 0, 0.16758001150890983, 0, 0.18520455517042947, 0.15163266492815836]\n",
      "DEBUG : (8/8)Updating DataFrame\n",
      "DEBUG : (8/8)moved from  1  to  7 , adding  0.15163266492815836 .\n",
      "DEBUG : (8/8)DataFrame update completed\n",
      "DEBUG : (5/8)Counting paths for stimulus 2\n",
      "DEBUG : (5/8)Counting paths for stimulus 2 --> 3\n",
      "DEBUG : (6/8)Calculating path weight for stimulus 2 and receive 3\n",
      "DEBUG : (6/8)Calculating path weight for stimulus 2 -> 3 --> 0.4\n",
      "DEBUG : (7/8)calculation stimulus value for pairA( 2 )and pairB( 3 )\n",
      "DEBUG : (7/8)Lastlist before update: [1, 0.22620935450898988, 0, 0.16758001150890983, 0, 0.18520455517042947, 0.15163266492815836]\n",
      "DEBUG : (7/8)pickup last value pair( 2 ): 0.22620935450898988\n",
      "DEBUG : (7/8)Calculation -> 1/ 3 * 0.22620935450898988  * exp(- 0.4 )\n",
      "DEBUG : (7/8)Calculation ->  0.05054422164271945\n",
      "DEBUG : (7/8)Lastlist after update: [1, 0.22620935450898988, 0.05054422164271945, 0.16758001150890983, 0, 0.18520455517042947, 0.15163266492815836]\n",
      "DEBUG : (8/8)Updating DataFrame\n",
      "DEBUG : (8/8)moved from  2  to  3 , adding  0.05054422164271945 .\n",
      "DEBUG : (8/8)DataFrame update completed\n",
      "DEBUG : (5/8)Counting paths for stimulus 2\n",
      "DEBUG : (5/8)Counting paths for stimulus 2 --> 3\n",
      "DEBUG : (6/8)Calculating path weight for stimulus 2 and receive 5\n",
      "DEBUG : (6/8)Calculating path weight for stimulus 2 -> 5 --> 0.6\n",
      "DEBUG : (7/8)calculation stimulus value for pairA( 2 )and pairB( 5 )\n",
      "DEBUG : (7/8)Lastlist before update: [1, 0.22620935450898988, 0.05054422164271945, 0.16758001150890983, 0, 0.18520455517042947, 0.15163266492815836]\n",
      "DEBUG : (7/8)pickup last value pair( 2 ): 0.22620935450898988\n",
      "DEBUG : (7/8)Calculation -> 1/ 3 * 0.22620935450898988  * exp(- 0.6 )\n",
      "DEBUG : (7/8)Calculation ->  0.04138210864928413\n",
      "DEBUG : (7/8)Lastlist after update: [1, 0.22620935450898988, 0.05054422164271945, 0.16758001150890983, 0.04138210864928413, 0.18520455517042947, 0.15163266492815836]\n",
      "DEBUG : (8/8)Updating DataFrame\n",
      "DEBUG : (8/8)moved from  2  to  5 , adding  0.04138210864928413 .\n",
      "DEBUG : (8/8)DataFrame update completed\n",
      "DEBUG : (5/8)Counting paths for stimulus 6\n",
      "DEBUG : (5/8)Counting paths for stimulus 6 --> 3\n",
      "DEBUG : (6/8)Calculating path weight for stimulus 6 and receive 5\n",
      "DEBUG : (6/8)Calculating path weight for stimulus 6 -> 5 --> 0.4\n",
      "DEBUG : (7/8)calculation stimulus value for pairA( 6 )and pairB( 5 )\n",
      "DEBUG : (7/8)Lastlist before update: [1, 0.22620935450898988, 0.05054422164271945, 0.16758001150890983, 0.04138210864928413, 0.18520455517042947, 0.15163266492815836]\n",
      "DEBUG : (7/8)pickup last value pair( 6 ): 0.18520455517042947\n",
      "DEBUG : (7/8)Calculation -> 1/ 3 * 0.18520455517042947  * exp(- 0.4 )\n",
      "DEBUG : (7/8)Calculation ->  0.04138210864928413\n",
      "DEBUG : (7/8)Lastlist after update: [1, 0.22620935450898988, 0.05054422164271945, 0.16758001150890983, 0.04138210864928413, 0.18520455517042947, 0.15163266492815836]\n",
      "DEBUG : (8/8)Updating DataFrame\n",
      "DEBUG : (8/8)moved from  6  to  5 , adding  0.04138210864928413 .\n",
      "DEBUG : (8/8)DataFrame update completed\n",
      "DEBUG : (5/8)Counting paths for stimulus 6\n",
      "DEBUG : (5/8)Counting paths for stimulus 6 --> 3\n",
      "DEBUG : (6/8)Calculating path weight for stimulus 6 and receive 7\n",
      "DEBUG : (6/8)Calculating path weight for stimulus 6 -> 7 --> 0.6\n",
      "DEBUG : (7/8)calculation stimulus value for pairA( 6 )and pairB( 7 )\n",
      "DEBUG : (7/8)Lastlist before update: [1, 0.22620935450898988, 0.05054422164271945, 0.16758001150890983, 0.04138210864928413, 0.18520455517042947, 0.15163266492815836]\n",
      "DEBUG : (7/8)pickup last value pair( 6 ): 0.18520455517042947\n",
      "DEBUG : (7/8)Calculation -> 1/ 3 * 0.18520455517042947  * exp(- 0.6 )\n",
      "DEBUG : (7/8)Calculation ->  0.033880804978383264\n",
      "DEBUG : (7/8)Lastlist after update: [1, 0.22620935450898988, 0.05054422164271945, 0.16758001150890983, 0.04138210864928413, 0.18520455517042947, 0.033880804978383264]\n",
      "DEBUG : (8/8)Updating DataFrame\n",
      "DEBUG : (8/8)moved from  6  to  7 , adding  0.033880804978383264 .\n",
      "DEBUG : (8/8)DataFrame update completed\n",
      "DEBUG : (5/8)Counting paths for stimulus 4\n",
      "DEBUG : (5/8)Counting paths for stimulus 4 --> 3\n",
      "DEBUG : (6/8)Calculating path weight for stimulus 4 and receive 5\n",
      "DEBUG : (6/8)Calculating path weight for stimulus 4 -> 5 --> 0.1\n",
      "DEBUG : (7/8)calculation stimulus value for pairA( 4 )and pairB( 5 )\n",
      "DEBUG : (7/8)Lastlist before update: [1, 0.22620935450898988, 0.05054422164271945, 0.16758001150890983, 0.04138210864928413, 0.18520455517042947, 0.033880804978383264]\n",
      "DEBUG : (7/8)pickup last value pair( 4 ): 0.16758001150890983\n",
      "DEBUG : (7/8)Calculation -> 1/ 3 * 0.16758001150890983  * exp(- 0.1 )\n",
      "DEBUG : (7/8)Calculation ->  0.05054422164271945\n",
      "DEBUG : (7/8)Lastlist after update: [1, 0.22620935450898988, 0.05054422164271945, 0.16758001150890983, 0.05054422164271945, 0.18520455517042947, 0.033880804978383264]\n",
      "DEBUG : (8/8)Updating DataFrame\n",
      "DEBUG : (8/8)moved from  4  to  5 , adding  0.05054422164271945 .\n",
      "DEBUG : (8/8)DataFrame update completed\n",
      "DEBUG : (5/8)Counting paths for stimulus 4\n",
      "DEBUG : (5/8)Counting paths for stimulus 4 --> 3\n",
      "DEBUG : (6/8)Calculating path weight for stimulus 4 and receive 3\n",
      "DEBUG : (6/8)Calculating path weight for stimulus 4 -> 3 --> 0.2\n",
      "DEBUG : (7/8)calculation stimulus value for pairA( 4 )and pairB( 3 )\n",
      "DEBUG : (7/8)Lastlist before update: [1, 0.22620935450898988, 0.05054422164271945, 0.16758001150890983, 0.05054422164271945, 0.18520455517042947, 0.033880804978383264]\n",
      "DEBUG : (7/8)pickup last value pair( 4 ): 0.16758001150890983\n",
      "DEBUG : (7/8)Calculation -> 1/ 3 * 0.16758001150890983  * exp(- 0.2 )\n",
      "DEBUG : (7/8)Calculation ->  0.045734303007835535\n",
      "DEBUG : (7/8)Lastlist after update: [1, 0.22620935450898988, 0.045734303007835535, 0.16758001150890983, 0.05054422164271945, 0.18520455517042947, 0.033880804978383264]\n",
      "DEBUG : (8/8)Updating DataFrame\n",
      "DEBUG : (8/8)moved from  4  to  3 , adding  0.045734303007835535 .\n",
      "DEBUG : (8/8)DataFrame update completed\n",
      "DEBUG : (5/8)Counting paths for stimulus 7\n",
      "DEBUG : (5/8)Counting paths for stimulus 7 --> 4\n",
      "DEBUG : (6/8)Calculating path weight for stimulus 7 and receive 5\n",
      "DEBUG : (6/8)Calculating path weight for stimulus 7 -> 5 --> 0.2\n",
      "DEBUG : (7/8)calculation stimulus value for pairA( 7 )and pairB( 5 )\n",
      "DEBUG : (7/8)Lastlist before update: [1, 0.22620935450898988, 0.045734303007835535, 0.16758001150890983, 0.05054422164271945, 0.18520455517042947, 0.033880804978383264]\n",
      "DEBUG : (7/8)pickup last value pair( 7 ): 0.033880804978383264\n",
      "DEBUG : (7/8)Calculation -> 1/ 4 * 0.033880804978383264  * exp(- 0.2 )\n",
      "DEBUG : (7/8)Calculation ->  0.0069348142437099915\n",
      "DEBUG : (7/8)Lastlist after update: [1, 0.22620935450898988, 0.045734303007835535, 0.16758001150890983, 0.0069348142437099915, 0.18520455517042947, 0.033880804978383264]\n",
      "DEBUG : (8/8)Updating DataFrame\n",
      "DEBUG : (8/8)moved from  7  to  5 , adding  0.0069348142437099915 .\n",
      "DEBUG : (8/8)DataFrame update completed\n",
      "DEBUG : (5/8)Counting paths for stimulus 7\n",
      "DEBUG : (5/8)Counting paths for stimulus 7 --> 4\n",
      "DEBUG : (6/8)Calculating path weight for stimulus 7 and receive 3\n",
      "DEBUG : (6/8)Calculating path weight for stimulus 7 -> 3 --> 0.7\n",
      "DEBUG : (7/8)calculation stimulus value for pairA( 7 )and pairB( 3 )\n",
      "DEBUG : (7/8)Lastlist before update: [1, 0.22620935450898988, 0.045734303007835535, 0.16758001150890983, 0.0069348142437099915, 0.18520455517042947, 0.033880804978383264]\n",
      "DEBUG : (7/8)pickup last value pair( 7 ): 0.033880804978383264\n",
      "DEBUG : (7/8)Calculation -> 1/ 4 * 0.033880804978383264  * exp(- 0.7 )\n",
      "DEBUG : (7/8)Calculation ->  0.004206177458221988\n",
      "DEBUG : (7/8)Lastlist after update: [1, 0.22620935450898988, 0.004206177458221988, 0.16758001150890983, 0.0069348142437099915, 0.18520455517042947, 0.033880804978383264]\n",
      "DEBUG : (8/8)Updating DataFrame\n",
      "DEBUG : (8/8)moved from  7  to  3 , adding  0.004206177458221988 .\n",
      "DEBUG : (8/8)DataFrame update completed\n"
     ]
    }
   ],
   "source": [
    "import intlab\n",
    "\n",
    "sapnet = intlab.sapnet\n",
    "\n",
    "df = sapnet.stimulus_calc()"
   ]
  },
  {
   "cell_type": "markdown",
   "metadata": {},
   "source": [
    "cmdから下記のプロンプトを実行"
   ]
  },
  {
   "cell_type": "markdown",
   "metadata": {},
   "source": [
    "pip uninstall intlab"
   ]
  },
  {
   "cell_type": "code",
   "execution_count": null,
   "metadata": {},
   "outputs": [
    {
     "name": "stdout",
     "output_type": "stream",
     "text": [
      "Name: intlab\n",
      "Version: 0.3.0\n",
      "Summary: IISL: SAP-net\n",
      "Home-page: https://github.com/takayasora/intlab\n",
      "Author: Sora Takaya\n",
      "Author-email: so12ra16@outlook.jp\n",
      "License: MIT License\n",
      "Location: c:\\users\\owner\\appdata\\roaming\\python\\python310\\site-packages\n",
      "Requires: pandas\n",
      "Required-by: \n"
     ]
    }
   ],
   "source": [
    "!pip show intlab"
   ]
  },
  {
   "cell_type": "code",
   "execution_count": 3,
   "metadata": {},
   "outputs": [
    {
     "name": "stdout",
     "output_type": "stream",
     "text": [
      "Defaulting to user installation because normal site-packages is not writeable\n",
      "Collecting intlab==0.0.5\n",
      "  Downloading intlab-0.0.5-py3-none-any.whl.metadata (1.2 kB)\n",
      "Requirement already satisfied: pandas>=1.2.4 in c:\\users\\so12r\\appdata\\roaming\\python\\python311\\site-packages (from intlab==0.0.5) (1.5.3)\n",
      "Requirement already satisfied: python-dateutil>=2.8.1 in c:\\users\\so12r\\appdata\\roaming\\python\\python311\\site-packages (from pandas>=1.2.4->intlab==0.0.5) (2.8.2)\n",
      "Requirement already satisfied: pytz>=2020.1 in c:\\users\\so12r\\appdata\\roaming\\python\\python311\\site-packages (from pandas>=1.2.4->intlab==0.0.5) (2023.3)\n",
      "Requirement already satisfied: numpy>=1.21.0 in c:\\users\\so12r\\appdata\\roaming\\python\\python311\\site-packages (from pandas>=1.2.4->intlab==0.0.5) (1.25.2)\n",
      "Requirement already satisfied: six>=1.5 in c:\\users\\so12r\\appdata\\roaming\\python\\python311\\site-packages (from python-dateutil>=2.8.1->pandas>=1.2.4->intlab==0.0.5) (1.16.0)\n",
      "Downloading intlab-0.0.5-py3-none-any.whl (2.7 kB)\n",
      "Installing collected packages: intlab\n",
      "  Attempting uninstall: intlab\n",
      "    Found existing installation: intlab 0.1.3\n",
      "    Uninstalling intlab-0.1.3:\n",
      "      Successfully uninstalled intlab-0.1.3\n",
      "Successfully installed intlab-0.0.5\n"
     ]
    }
   ],
   "source": [
    "!pip install intlab==0.0.5"
   ]
  },
  {
   "cell_type": "code",
   "execution_count": null,
   "metadata": {},
   "outputs": [],
   "source": [
    "import intlab from "
   ]
  }
 ],
 "metadata": {
  "kernelspec": {
   "display_name": "Python 3",
   "language": "python",
   "name": "python3"
  },
  "language_info": {
   "codemirror_mode": {
    "name": "ipython",
    "version": 3
   },
   "file_extension": ".py",
   "mimetype": "text/x-python",
   "name": "python",
   "nbconvert_exporter": "python",
   "pygments_lexer": "ipython3",
   "version": "3.11.4"
  }
 },
 "nbformat": 4,
 "nbformat_minor": 2
}
