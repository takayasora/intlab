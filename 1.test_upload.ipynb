{
 "cells": [
  {
   "cell_type": "markdown",
   "metadata": {},
   "source": [
    "Test環境へのアップロード用コードです。"
   ]
  },
  {
   "cell_type": "code",
   "execution_count": 1,
   "metadata": {},
   "outputs": [
    {
     "name": "stdout",
     "output_type": "stream",
     "text": [
      "running sdist\n",
      "running egg_info\n",
      "writing intlab.egg-info\\PKG-INFO\n",
      "writing dependency_links to intlab.egg-info\\dependency_links.txt\n",
      "writing requirements to intlab.egg-info\\requires.txt\n",
      "writing top-level names to intlab.egg-info\\top_level.txt\n",
      "reading manifest file 'intlab.egg-info\\SOURCES.txt'\n",
      "adding license file 'LICENSE'\n",
      "writing manifest file 'intlab.egg-info\\SOURCES.txt'\n",
      "running check\n",
      "creating intlab-0.1.0\n",
      "creating intlab-0.1.0\\intlab\n",
      "creating intlab-0.1.0\\intlab.egg-info\n",
      "copying files to intlab-0.1.0...\n",
      "copying LICENSE -> intlab-0.1.0\n",
      "copying README.rst -> intlab-0.1.0\n",
      "copying setup.py -> intlab-0.1.0\n",
      "copying intlab\\__init__.py -> intlab-0.1.0\\intlab\n",
      "copying intlab\\calculator.py -> intlab-0.1.0\\intlab\n",
      "copying intlab\\sapnet.py -> intlab-0.1.0\\intlab\n",
      "copying intlab.egg-info\\PKG-INFO -> intlab-0.1.0\\intlab.egg-info\n",
      "copying intlab.egg-info\\SOURCES.txt -> intlab-0.1.0\\intlab.egg-info\n",
      "copying intlab.egg-info\\dependency_links.txt -> intlab-0.1.0\\intlab.egg-info\n",
      "copying intlab.egg-info\\requires.txt -> intlab-0.1.0\\intlab.egg-info\n",
      "copying intlab.egg-info\\top_level.txt -> intlab-0.1.0\\intlab.egg-info\n",
      "Writing intlab-0.1.0\\setup.cfg\n",
      "Creating tar archive\n",
      "removing 'intlab-0.1.0' (and everything under it)\n"
     ]
    },
    {
     "name": "stderr",
     "output_type": "stream",
     "text": [
      "c:\\Program Files\\Python311\\Lib\\site-packages\\setuptools\\command\\install.py:34: SetuptoolsDeprecationWarning: setup.py install is deprecated. Use build and pip and other standards-based tools.\n",
      "  warnings.warn(\n"
     ]
    },
    {
     "name": "stdout",
     "output_type": "stream",
     "text": [
      "running bdist_wheel\n",
      "running build\n",
      "running build_py\n",
      "installing to build\\bdist.win-amd64\\wheel\n",
      "running install\n",
      "running install_lib\n",
      "creating build\\bdist.win-amd64\\wheel\n",
      "creating build\\bdist.win-amd64\\wheel\\intlab\n",
      "copying build\\lib\\intlab\\calculator.py -> build\\bdist.win-amd64\\wheel\\.\\intlab\n",
      "copying build\\lib\\intlab\\sapnet.py -> build\\bdist.win-amd64\\wheel\\.\\intlab\n",
      "copying build\\lib\\intlab\\__init__.py -> build\\bdist.win-amd64\\wheel\\.\\intlab\n",
      "running install_egg_info\n",
      "running egg_info\n",
      "writing intlab.egg-info\\PKG-INFO\n",
      "writing dependency_links to intlab.egg-info\\dependency_links.txt\n",
      "writing requirements to intlab.egg-info\\requires.txt\n",
      "writing top-level names to intlab.egg-info\\top_level.txt\n",
      "reading manifest file 'intlab.egg-info\\SOURCES.txt'\n",
      "adding license file 'LICENSE'\n",
      "writing manifest file 'intlab.egg-info\\SOURCES.txt'\n",
      "Copying intlab.egg-info to build\\bdist.win-amd64\\wheel\\.\\intlab-0.1.0-py3.11.egg-info\n",
      "running install_scripts\n",
      "creating build\\bdist.win-amd64\\wheel\\intlab-0.1.0.dist-info\\WHEEL\n",
      "creating 'dist\\intlab-0.1.0-py3-none-any.whl' and adding 'build\\bdist.win-amd64\\wheel' to it\n",
      "adding 'intlab/__init__.py'\n",
      "adding 'intlab/calculator.py'\n",
      "adding 'intlab/sapnet.py'\n",
      "adding 'intlab-0.1.0.dist-info/LICENSE'\n",
      "adding 'intlab-0.1.0.dist-info/METADATA'\n",
      "adding 'intlab-0.1.0.dist-info/WHEEL'\n",
      "adding 'intlab-0.1.0.dist-info/top_level.txt'\n",
      "adding 'intlab-0.1.0.dist-info/RECORD'\n",
      "removing build\\bdist.win-amd64\\wheel\n"
     ]
    }
   ],
   "source": [
    "!python setup.py sdist\n",
    "!python setup.py bdist_wheel"
   ]
  },
  {
   "cell_type": "code",
   "execution_count": 2,
   "metadata": {},
   "outputs": [
    {
     "name": "stdout",
     "output_type": "stream",
     "text": [
      "Uploading distributions to https://test.pypi.org/legacy/\n",
      "Uploading intlab-0.0.5-py3-none-any.whl\n",
      "\n",
      "  0% ---------------------------------------- 0.0/7.6 kB • --:-- • ?\n",
      "  0% ---------------------------------------- 0.0/7.6 kB • --:-- • ?\n",
      "  0% ---------------------------------------- 0.0/7.6 kB • --:-- • ?\n",
      "100% ---------------------------------------- 7.6/7.6 kB • 00:00 • ?\n",
      "100% ---------------------------------------- 7.6/7.6 kB • 00:00 • ?\n",
      "100% ---------------------------------------- 7.6/7.6 kB • 00:00 • ?\n",
      "100% ---------------------------------------- 7.6/7.6 kB • 00:00 • ?\n",
      "100% ---------------------------------------- 7.6/7.6 kB • 00:00 • ?\n",
      "100% ---------------------------------------- 7.6/7.6 kB • 00:00 • ?\n",
      "100% ---------------------------------------- 7.6/7.6 kB • 00:00 • ?\n",
      "100% ---------------------------------------- 7.6/7.6 kB • 00:00 • ?\n",
      "100% ---------------------------------------- 7.6/7.6 kB • 00:00 • ?\n",
      "100% ---------------------------------------- 7.6/7.6 kB • 00:00 • ?\n",
      "100% ---------------------------------------- 7.6/7.6 kB • 00:00 • ?\n",
      "100% ---------------------------------------- 7.6/7.6 kB • 00:00 • ?\n",
      "Uploading intlab-0.0.6-py3-none-any.whl\n",
      "\n",
      "  0% ---------------------------------------- 0.0/6.5 kB • --:-- • ?\n",
      "100% ---------------------------------------- 6.5/6.5 kB • 00:00 • ?\n",
      "100% ---------------------------------------- 6.5/6.5 kB • 00:00 • ?\n",
      "100% ---------------------------------------- 6.5/6.5 kB • 00:00 • ?\n",
      "100% ---------------------------------------- 6.5/6.5 kB • 00:00 • ?\n",
      "100% ---------------------------------------- 6.5/6.5 kB • 00:00 • ?\n",
      "100% ---------------------------------------- 6.5/6.5 kB • 00:00 • ?\n",
      "100% ---------------------------------------- 6.5/6.5 kB • 00:00 • ?\n",
      "100% ---------------------------------------- 6.5/6.5 kB • 00:00 • ?\n",
      "100% ---------------------------------------- 6.5/6.5 kB • 00:00 • ?\n",
      "Uploading intlab-0.0.7-py3-none-any.whl\n",
      "\n",
      "  0% ---------------------------------------- 0.0/6.5 kB • --:-- • ?\n",
      "100% ---------------------------------------- 6.5/6.5 kB • 00:00 • ?\n",
      "100% ---------------------------------------- 6.5/6.5 kB • 00:00 • ?\n",
      "100% ---------------------------------------- 6.5/6.5 kB • 00:00 • ?\n",
      "100% ---------------------------------------- 6.5/6.5 kB • 00:00 • ?\n",
      "100% ---------------------------------------- 6.5/6.5 kB • 00:00 • ?\n",
      "100% ---------------------------------------- 6.5/6.5 kB • 00:00 • ?\n",
      "Uploading intlab-0.0.8-py3-none-any.whl\n",
      "\n",
      "  0% ---------------------------------------- 0.0/6.5 kB • --:-- • ?\n",
      "100% ---------------------------------------- 6.5/6.5 kB • 00:00 • ?\n",
      "100% ---------------------------------------- 6.5/6.5 kB • 00:00 • ?\n",
      "100% ---------------------------------------- 6.5/6.5 kB • 00:00 • ?\n",
      "100% ---------------------------------------- 6.5/6.5 kB • 00:00 • ?\n",
      "100% ---------------------------------------- 6.5/6.5 kB • 00:00 • ?\n",
      "100% ---------------------------------------- 6.5/6.5 kB • 00:00 • ?\n",
      "100% ---------------------------------------- 6.5/6.5 kB • 00:00 • ?\n",
      "100% ---------------------------------------- 6.5/6.5 kB • 00:00 • ?\n",
      "100% ---------------------------------------- 6.5/6.5 kB • 00:00 • ?\n",
      "100% ---------------------------------------- 6.5/6.5 kB • 00:00 • ?\n",
      "100% ---------------------------------------- 6.5/6.5 kB • 00:00 • ?\n",
      "100% ---------------------------------------- 6.5/6.5 kB • 00:00 • ?\n",
      "100% ---------------------------------------- 6.5/6.5 kB • 00:00 • ?\n",
      "100% ---------------------------------------- 6.5/6.5 kB • 00:00 • ?\n",
      "Uploading intlab-0.1.0-py3-none-any.whl\n",
      "\n",
      "  0% ---------------------------------------- 0.0/8.1 kB • --:-- • ?\n",
      "100% ---------------------------------------- 8.1/8.1 kB • 00:00 • ?\n",
      "100% ---------------------------------------- 8.1/8.1 kB • 00:00 • ?\n",
      "100% ---------------------------------------- 8.1/8.1 kB • 00:00 • ?\n",
      "100% ---------------------------------------- 8.1/8.1 kB • 00:00 • ?\n",
      "WARNING  Error during upload. Retry with the --verbose option for more details.\n",
      "ERROR    HTTPError: 400 Bad Request from https://test.pypi.org/legacy/         \n",
      "         File already exists. See https://test.pypi.org/help/#file-name-reuse  \n",
      "         for more information.                                                 \n"
     ]
    }
   ],
   "source": [
    "!twine upload --repository testpypi dist/*"
   ]
  },
  {
   "cell_type": "code",
   "execution_count": 3,
   "metadata": {},
   "outputs": [
    {
     "name": "stdout",
     "output_type": "stream",
     "text": [
      "Defaulting to user installation because normal site-packages is not writeable\n",
      "Looking in indexes: https://test.pypi.org/simple/\n",
      "Requirement already satisfied: intlab in c:\\users\\so12r\\appdata\\roaming\\python\\python311\\site-packages (0.0.3)\n",
      "Requirement already satisfied: pandas>=1.2.4 in c:\\users\\so12r\\appdata\\roaming\\python\\python311\\site-packages (from intlab) (1.5.3)\n",
      "Requirement already satisfied: matplotlib>=3.3.4 in c:\\users\\so12r\\appdata\\roaming\\python\\python311\\site-packages (from intlab) (3.8.0)\n",
      "Requirement already satisfied: contourpy>=1.0.1 in c:\\users\\so12r\\appdata\\roaming\\python\\python311\\site-packages (from matplotlib>=3.3.4->intlab) (1.1.1)\n",
      "Requirement already satisfied: cycler>=0.10 in c:\\users\\so12r\\appdata\\roaming\\python\\python311\\site-packages (from matplotlib>=3.3.4->intlab) (0.11.0)\n",
      "Requirement already satisfied: fonttools>=4.22.0 in c:\\users\\so12r\\appdata\\roaming\\python\\python311\\site-packages (from matplotlib>=3.3.4->intlab) (4.42.1)\n",
      "Requirement already satisfied: kiwisolver>=1.0.1 in c:\\users\\so12r\\appdata\\roaming\\python\\python311\\site-packages (from matplotlib>=3.3.4->intlab) (1.4.5)\n",
      "Requirement already satisfied: numpy<2,>=1.21 in c:\\users\\so12r\\appdata\\roaming\\python\\python311\\site-packages (from matplotlib>=3.3.4->intlab) (1.25.2)\n",
      "Requirement already satisfied: packaging>=20.0 in c:\\users\\so12r\\appdata\\roaming\\python\\python311\\site-packages (from matplotlib>=3.3.4->intlab) (23.1)\n",
      "Requirement already satisfied: pillow>=6.2.0 in c:\\users\\so12r\\appdata\\roaming\\python\\python311\\site-packages (from matplotlib>=3.3.4->intlab) (10.0.0)\n",
      "Requirement already satisfied: pyparsing>=2.3.1 in c:\\users\\so12r\\appdata\\roaming\\python\\python311\\site-packages (from matplotlib>=3.3.4->intlab) (3.1.1)\n",
      "Requirement already satisfied: python-dateutil>=2.7 in c:\\users\\so12r\\appdata\\roaming\\python\\python311\\site-packages (from matplotlib>=3.3.4->intlab) (2.8.2)\n",
      "Requirement already satisfied: pytz>=2020.1 in c:\\users\\so12r\\appdata\\roaming\\python\\python311\\site-packages (from pandas>=1.2.4->intlab) (2023.3)\n",
      "Requirement already satisfied: six>=1.5 in c:\\users\\so12r\\appdata\\roaming\\python\\python311\\site-packages (from python-dateutil>=2.7->matplotlib>=3.3.4->intlab) (1.16.0)\n"
     ]
    }
   ],
   "source": [
    "!pip install -i https://test.pypi.org/simple/ intlab"
   ]
  },
  {
   "cell_type": "code",
   "execution_count": 4,
   "metadata": {},
   "outputs": [],
   "source": [
    "import time\n",
    "\n",
    "time.sleep(10)"
   ]
  },
  {
   "cell_type": "code",
   "execution_count": 9,
   "metadata": {},
   "outputs": [
    {
     "name": "stdout",
     "output_type": "stream",
     "text": [
      "Defaulting to user installation because normal site-packages is not writeable\n",
      "Requirement already satisfied: intlab in c:\\users\\so12r\\appdata\\roaming\\python\\python311\\site-packages (0.0.3)\n",
      "Collecting intlab\n",
      "  Downloading intlab-0.0.8-py3-none-any.whl.metadata (791 bytes)\n",
      "Requirement already satisfied: pandas>=1.2.4 in c:\\users\\so12r\\appdata\\roaming\\python\\python311\\site-packages (from intlab) (1.5.3)\n",
      "Requirement already satisfied: python-dateutil>=2.8.1 in c:\\users\\so12r\\appdata\\roaming\\python\\python311\\site-packages (from pandas>=1.2.4->intlab) (2.8.2)\n",
      "Requirement already satisfied: pytz>=2020.1 in c:\\users\\so12r\\appdata\\roaming\\python\\python311\\site-packages (from pandas>=1.2.4->intlab) (2023.3)\n",
      "Requirement already satisfied: numpy>=1.21.0 in c:\\users\\so12r\\appdata\\roaming\\python\\python311\\site-packages (from pandas>=1.2.4->intlab) (1.25.2)\n",
      "Requirement already satisfied: six>=1.5 in c:\\users\\so12r\\appdata\\roaming\\python\\python311\\site-packages (from python-dateutil>=2.8.1->pandas>=1.2.4->intlab) (1.16.0)\n",
      "Downloading intlab-0.0.8-py3-none-any.whl (2.6 kB)\n",
      "Installing collected packages: intlab\n",
      "  Attempting uninstall: intlab\n",
      "    Found existing installation: intlab 0.0.3\n",
      "    Uninstalling intlab-0.0.3:\n",
      "      Successfully uninstalled intlab-0.0.3\n",
      "Successfully installed intlab-0.0.8\n"
     ]
    }
   ],
   "source": [
    "!pip install -U intlab"
   ]
  },
  {
   "cell_type": "code",
   "execution_count": 10,
   "metadata": {},
   "outputs": [
    {
     "name": "stdout",
     "output_type": "stream",
     "text": [
      "Defaulting to user installation because normal site-packages is not writeable\n",
      "Looking in indexes: -U\n",
      "Collecting https://test.pypi.org/simple/\n",
      "  Using cached https://test.pypi.org/simple/ (9.5 MB)\n"
     ]
    },
    {
     "name": "stderr",
     "output_type": "stream",
     "text": [
      "WARNING: The index url \"-U\" seems invalid, please provide a scheme.\n",
      "  ERROR: Cannot unpack file C:\\Users\\so12r\\AppData\\Local\\Temp\\pip-unpack-_jxcvldl\\simple.html (downloaded from C:\\Users\\so12r\\AppData\\Local\\Temp\\pip-req-build-liqgj6rt, content-type: text/html); cannot detect archive format\n",
      "ERROR: Cannot determine archive format of C:\\Users\\so12r\\AppData\\Local\\Temp\\pip-req-build-liqgj6rt\n"
     ]
    }
   ],
   "source": [
    "!pip install -i -U https://test.pypi.org/simple/ intlab"
   ]
  },
  {
   "cell_type": "code",
   "execution_count": 6,
   "metadata": {},
   "outputs": [
    {
     "name": "stdout",
     "output_type": "stream",
     "text": [
      "Name: intlab\n",
      "Version: 0.0.3\n",
      "Summary: IISL: SAP-net\n",
      "Home-page: https://github.com/takayasora/intlab\n",
      "Author: Sora Takaya\n",
      "Author-email: so12ra16@outlook.jp\n",
      "License: MIT License\n",
      "Location: C:\\Users\\so12r\\AppData\\Roaming\\Python\\Python311\\site-packages\n",
      "Requires: matplotlib, pandas\n",
      "Required-by: \n"
     ]
    }
   ],
   "source": [
    "!pip show intlab"
   ]
  },
  {
   "cell_type": "code",
   "execution_count": 7,
   "metadata": {},
   "outputs": [
    {
     "name": "stdout",
     "output_type": "stream",
     "text": [
      "8\n",
      "8\n",
      "24\n",
      "4.0\n",
      "割る数は0にできません\n"
     ]
    }
   ],
   "source": [
    "import intlab\n",
    "\n",
    "calculator = intlab.calc\n",
    "\n",
    "# 例として、各関数を使用する方法\n",
    "result = calculator.add(5, 3)  # 5 + 3 を計算\n",
    "print(result)  # 出力は 8\n",
    "\n",
    "result = calculator.subtract(10, 2)  # 10 - 2 を計算\n",
    "print(result)  # 出力は 8\n",
    "\n",
    "result = calculator.multiply(6, 4)  # 6 * 4 を計算\n",
    "print(result)  # 出力は 24\n",
    "\n",
    "result = calculator.divide(8, 2)  # 8 / 2 を計算\n",
    "print(result)  # 出力は 4\n",
    "\n",
    "result = calculator.divide(6, 0)  # ゼロで割ることはできません\n",
    "print(result)  # 出力は \"割る数は0にできません。\""
   ]
  },
  {
   "cell_type": "code",
   "execution_count": 8,
   "metadata": {},
   "outputs": [
    {
     "name": "stdout",
     "output_type": "stream",
     "text": [
      "^C\n"
     ]
    }
   ],
   "source": [
    "!pip uninstall intlab"
   ]
  },
  {
   "cell_type": "code",
   "execution_count": null,
   "metadata": {},
   "outputs": [],
   "source": [
    "!pip show intlab"
   ]
  }
 ],
 "metadata": {
  "kernelspec": {
   "display_name": "Python 3",
   "language": "python",
   "name": "python3"
  },
  "language_info": {
   "codemirror_mode": {
    "name": "ipython",
    "version": 3
   },
   "file_extension": ".py",
   "mimetype": "text/x-python",
   "name": "python",
   "nbconvert_exporter": "python",
   "pygments_lexer": "ipython3",
   "version": "3.11.4"
  }
 },
 "nbformat": 4,
 "nbformat_minor": 2
}
