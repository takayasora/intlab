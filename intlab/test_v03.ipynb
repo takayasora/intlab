{
 "cells": [
  {
   "cell_type": "markdown",
   "metadata": {},
   "source": [
    "# 単発テスト"
   ]
  },
  {
   "cell_type": "code",
   "execution_count": 9,
   "metadata": {},
   "outputs": [
    {
     "name": "stdout",
     "output_type": "stream",
     "text": [
      "          name  knowledge_1  knowledge_2  knowledge_3  knowledge_4  \\\n",
      "0  knowledge_1     0.151633     0.100000     0.000000     0.400000   \n",
      "1  knowledge_2     0.100000     0.090123     0.400000     0.000000   \n",
      "2  knowledge_3     0.000000     0.400000     0.124146     0.200000   \n",
      "3  knowledge_4     0.400000     0.000000     0.200000     0.105593   \n",
      "4  knowledge_5     0.000000     0.600000     0.000000     0.100000   \n",
      "5  knowledge_6     0.300000     0.000000     0.000000     0.000000   \n",
      "6  knowledge_7     0.500000     0.000000     0.700000     0.000000   \n",
      "\n",
      "   knowledge_5  knowledge_6  knowledge_7  \n",
      "0     0.000000     0.300000          0.5  \n",
      "1     0.600000     0.000000          0.0  \n",
      "2     0.000000     0.000000          0.7  \n",
      "3     0.100000     0.000000          0.0  \n",
      "4     0.204683     0.400000          0.2  \n",
      "5     0.400000     0.199587          0.6  \n",
      "6     0.200000     0.600000          1.0  \n"
     ]
    },
    {
     "data": {
      "text/plain": [
       "'knowledge_7'"
      ]
     },
     "execution_count": 9,
     "metadata": {},
     "output_type": "execute_result"
    }
   ],
   "source": [
    "import random\n",
    "# sapnet.pyをインポート\n",
    "from sapnet import sapnet\n",
    "\n",
    "# 準備\n",
    "df = sapnet.example_dataframe()\n",
    "\n",
    "# 計算\n",
    "df = sapnet.stimulus_calc(df,stimulus=random.randint(1, len(df)))\n",
    "selected_index = sapnet.knowledge_selection(df)\n",
    "df[\"name\"][selected_index]"
   ]
  },
  {
   "cell_type": "code",
   "execution_count": null,
   "metadata": {},
   "outputs": [],
   "source": [
    "#減衰を使用してプログラムを作成する\n",
    "#sap-netの減衰をなくすとどうなるかの検討をする"
   ]
  }
 ],
 "metadata": {
  "kernelspec": {
   "display_name": "Python 3",
   "language": "python",
   "name": "python3"
  },
  "language_info": {
   "codemirror_mode": {
    "name": "ipython",
    "version": 3
   },
   "file_extension": ".py",
   "mimetype": "text/x-python",
   "name": "python",
   "nbconvert_exporter": "python",
   "pygments_lexer": "ipython3",
   "version": "3.11.3"
  }
 },
 "nbformat": 4,
 "nbformat_minor": 2
}
