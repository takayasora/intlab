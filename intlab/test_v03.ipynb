{
 "cells": [
  {
   "cell_type": "markdown",
   "metadata": {},
   "source": [
    "# 単発テスト"
   ]
  },
  {
   "cell_type": "code",
   "execution_count": 2,
   "metadata": {},
   "outputs": [
    {
     "name": "stdout",
     "output_type": "stream",
     "text": [
      "          name  knowledge_1  knowledge_2  knowledge_3  knowledge_4   \n",
      "0  knowledge_1      0.22344     0.100000      0.00000          0.4  \\\n",
      "1  knowledge_2      0.10000     0.152905      0.40000          0.0   \n",
      "2  knowledge_3      0.00000     0.400000      0.27291          0.2   \n",
      "3  knowledge_4      0.40000     0.000000      0.20000          1.0   \n",
      "4  knowledge_5      0.00000     0.600000      0.00000          0.1   \n",
      "5  knowledge_6      0.30000     0.000000      0.00000          0.0   \n",
      "6  knowledge_7      0.50000     0.000000      0.70000          0.0   \n",
      "\n",
      "   knowledge_5  knowledge_6  knowledge_7  \n",
      "0     0.000000     0.300000      0.50000  \n",
      "1     0.600000     0.000000      0.00000  \n",
      "2     0.000000     0.000000      0.70000  \n",
      "3     0.100000     0.000000      0.00000  \n",
      "4     0.301612     0.400000      0.20000  \n",
      "5     0.400000     0.096575      0.60000  \n",
      "6     0.200000     0.600000      0.14079  \n"
     ]
    }
   ],
   "source": [
    "import random\n",
    "# sapnet.pyをインポート\n",
    "from sapnet import sapnet\n",
    "\n",
    "# 準備\n",
    "df = sapnet.example_dataframe()\n",
    "\n",
    "# 計算\n",
    "df = sapnet.stimulus_calc(df,stimulus=random.randint(1, len(df)))\n",
    "print(df)"
   ]
  },
  {
   "cell_type": "code",
   "execution_count": null,
   "metadata": {},
   "outputs": [],
   "source": []
  },
  {
   "cell_type": "code",
   "execution_count": null,
   "metadata": {},
   "outputs": [],
   "source": [
    "#減衰を使用してプログラムを作成する\n",
    "#sap-netの減衰をなくすとどうなるかの検討をする"
   ]
  }
 ],
 "metadata": {
  "kernelspec": {
   "display_name": "Python 3",
   "language": "python",
   "name": "python3"
  },
  "language_info": {
   "codemirror_mode": {
    "name": "ipython",
    "version": 3
   },
   "file_extension": ".py",
   "mimetype": "text/x-python",
   "name": "python",
   "nbconvert_exporter": "python",
   "pygments_lexer": "ipython3",
   "version": "3.11.3"
  }
 },
 "nbformat": 4,
 "nbformat_minor": 2
}
