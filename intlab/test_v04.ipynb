{
 "cells": [
  {
   "cell_type": "code",
   "execution_count": 1,
   "metadata": {},
   "outputs": [
    {
     "name": "stdout",
     "output_type": "stream",
     "text": [
      "[0.3163661446283358, 0.2819012425867518, 0.2730704579118854, 0.32863319162495663, 0.30997985241700726, 0.2412671788162117, 0.27596559992904246]\n",
      "[0.5688233867463213, 0.5753294516013059, 0.5898603742464014, 0.5847587395677837, 0.6202206797631111, 0.4725144353198603, 0.6181069741873211]\n",
      "[1.2848568875926085, 1.0840704611585945, 1.0739621540803317, 1.2158179270264298, 1.2746031579215968, 1.0046198391760728, 1.1400192296188587]\n"
     ]
    }
   ],
   "source": [
    "# sapnet.pyをインポート\n",
    "from sapnet import sapnet\n",
    "import random\n",
    "import numpy as np\n",
    "\n",
    "# 計算\n",
    "getdatas=[1,2,4,8,16,32,64,128,256,512,1024]\n",
    "message=''\n",
    "indexs =[]\n",
    "\n",
    "for getdata in getdatas:\n",
    "    # 10回の施行を見る\n",
    "    line_data = []\n",
    "    for j in range(100):\n",
    "        # 100回の拡散をランダムで行う\n",
    "        df = sapnet.example_dataframe()\n",
    "        for i in range(getdata):\n",
    "            df = sapnet.stimulus_calc(df=df, stimulus=random.randint(1, len(df)))\n",
    "            selected_index = sapnet.knowledge_selection(df)\n",
    "            indexs.append(selected_index)\n",
    "            # df = sapnet.attenuation(df,0.1)\n",
    "            diagonal_matrix = np.diag(df.iloc[:, 1:].values)\n",
    "        line_data.append(diagonal_matrix)\n",
    "\n",
    "    # 行列の転置を求めることにより、それぞれの拡散の値を行列化\n",
    "    # 行列化したそれぞれの要素を平均し、100回の拡散平均を求めます。\n",
    "    transposed_line_data = np.transpose(line_data)\n",
    "\n",
    "    # 各転置行列の平均を算出し、リストに追加\n",
    "    averaged_lists = [np.mean(transposed_row) for transposed_row in transposed_line_data]\n",
    "    print(averaged_lists)\n",
    "    # 最後に生成したリストの平均を求めて出力\n",
    "    overall_average = np.mean(averaged_lists)\n",
    "    \n",
    "    add_message = \"{},{}\".format(averaged_lists, overall_average)\n",
    "    message = message + '\\n' + add_message\n",
    "\n",
    "print(message)\n",
    "print(indexs)\n",
    "print(sapnet.count_elements(indexs))\n",
    "selection_list = sapnet.count_elements(indexs)\n",
    "print(sapnet.create_selection_graph(selection_list))"
   ]
  }
 ],
 "metadata": {
  "kernelspec": {
   "display_name": "Python 3",
   "language": "python",
   "name": "python3"
  },
  "language_info": {
   "codemirror_mode": {
    "name": "ipython",
    "version": 3
   },
   "file_extension": ".py",
   "mimetype": "text/x-python",
   "name": "python",
   "nbconvert_exporter": "python",
   "pygments_lexer": "ipython3",
   "version": "3.11.3"
  }
 },
 "nbformat": 4,
 "nbformat_minor": 2
}
