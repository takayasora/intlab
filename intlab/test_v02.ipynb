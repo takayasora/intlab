{
 "cells": [
  {
   "cell_type": "markdown",
   "metadata": {},
   "source": [
    "# 初回セットアップ"
   ]
  },
  {
   "cell_type": "code",
   "execution_count": 1,
   "metadata": {},
   "outputs": [
    {
     "name": "stdout",
     "output_type": "stream",
     "text": [
      ".gitignore ファイルが作成され、内容が書き込まれました。\n",
      ".env ファイルが作成され、内容が書き込まれました。\n"
     ]
    }
   ],
   "source": [
    "from sapnet import sapnet\n",
    "\n",
    "#sapnet.firstsetup()"
   ]
  },
  {
   "cell_type": "markdown",
   "metadata": {},
   "source": [
    "# プログラム本編"
   ]
  },
  {
   "cell_type": "code",
   "execution_count": 1,
   "metadata": {},
   "outputs": [
    {
     "name": "stdout",
     "output_type": "stream",
     "text": [
      "\n",
      "[1.0, 0.22620935450898988, 0.10048470210877697, 0.16758001150890983, 0.14024325318499767, 0.18520455517042947, 0.1855134699065416],0.2864621923412351\n",
      "[0.2833686098827668, 0.3606429243687197, 1.117802075554884, 0.4991196055349838, 1.1570694340731789, 0.22870034521037144, 0.37021112286663194],0.5738448739273624\n",
      "[0.7302486405731929, 0.6664537263069549, 1.663622577606872, 2.499119605534984, 1.760294379430485, 0.4218500958005632, 0.6517912495460401],1.1990543249712988\n",
      "[2.315229723134613, 2.2533060051846645, 3.105349370615746, 3.318724623547995, 3.2405442787200034, 0.9222716201152875, 1.3332881382475668],2.3555305370808393\n",
      "[6.058880772870561, 6.4793464662857625, 2.0078377763365944, 2.298576164567867, 4.638541257631548, 5.7786963217867955, 4.659229647429497],4.56015834384409\n",
      "[7.7214746200853295, 8.048313844735526, 9.496759115541211, 8.03468619659288, 11.204785583313434, 8.575922482444327, 10.848331027656794],9.132896124338501\n",
      "[21.38615616922592, 16.02844146081699, 18.29248914265362, 20.93936192950927, 18.60542994516571, 13.697232876662152, 20.295291736698402],18.46348618010458\n",
      "[42.627326877712115, 36.224190856436984, 29.128557890623227, 36.85212000853735, 41.07394211939143, 30.95950373656009, 40.95328621307898],36.8312753860486\n",
      "[0, 2, 4, 3, 4, 3, 3, 4, 4, 0, 4, 3, 4, 0, 4, 5, 5, 5, 6, 0, 1, 5, 0, 5, 1, 0, 1, 0, 5, 1, 5, 4, 4, 4, 6, 5, 6, 6, 6, 3, 5, 3, 4, 4, 2, 2, 6, 6, 2, 4, 4, 6, 6, 0, 6, 6, 6, 6, 6, 6, 2, 2, 6, 3, 5, 6, 3, 4, 6, 6, 1, 0, 6, 3, 4, 3, 1, 3, 6, 3, 6, 3, 0, 0, 6, 6, 0, 0, 6, 6, 3, 0, 0, 0, 0, 0, 0, 0, 0, 0, 0, 0, 0, 0, 0, 0, 1, 0, 6, 0, 0, 0, 6, 0, 0, 0, 0, 6, 6, 0, 6, 0, 0, 6, 0, 0, 0, 0, 3, 3, 0, 5, 6, 5, 6, 0, 5, 6, 0, 5, 0, 0, 5, 6, 6, 4, 1, 6, 6, 0, 4, 4, 4, 6, 6, 5, 6, 4, 0, 4, 6, 4, 5, 4, 6, 4, 6, 6, 6, 6, 6, 6, 6, 6, 6, 6, 4, 6, 6, 6, 6, 4, 6, 6, 6, 6, 6, 6, 6, 6, 3, 6, 6, 0, 6, 0, 6, 6, 6, 6, 6, 0, 6, 6, 6, 6, 6, 0, 6, 6, 0, 0, 6, 0, 6, 0, 4, 6, 0, 6, 0, 0, 0, 0, 0, 6, 0, 0, 6, 0, 6, 6, 6, 0, 0, 0, 0, 0, 0, 0, 0, 0, 0, 0, 6, 0, 4, 6, 6, 0, 6, 6, 4, 0, 6]\n",
      "{0: 81, 2: 6, 4: 30, 3: 17, 5: 17, 6: 96, 1: 8}\n"
     ]
    }
   ],
   "source": [
    "# sapnet.pyをインポート\n",
    "from sapnet import sapnet\n",
    "import random\n",
    "import numpy as np\n",
    "\n",
    "# 計算\n",
    "getdatas=[1,2,4,8,16,32,64,128]\n",
    "message=''\n",
    "indexs =[]\n",
    "\n",
    "for getdata in getdatas:\n",
    "    # 10回の施行を見る\n",
    "    line_data = []\n",
    "    for j in range(1):\n",
    "        # 100回の拡散をランダムで行う\n",
    "        df = sapnet.example_dataframe()\n",
    "        for i in range(getdata):\n",
    "            df = sapnet.stimulus_calc(df=df, stimulus=random.randint(1, len(df)))\n",
    "            selected_index = sapnet.knowledge_selection(df)\n",
    "            indexs.append(selected_index)\n",
    "            # df = sapnet.attenuation(df,0.1)\n",
    "            diagonal_matrix = np.diag(df.iloc[:, 1:].values)\n",
    "        line_data.append(diagonal_matrix)\n",
    "\n",
    "    # 行列の転置を求めることにより、それぞれの拡散の値を行列化\n",
    "    # 行列化したそれぞれの要素を平均し、100回の拡散平均を求めます。\n",
    "    transposed_line_data = np.transpose(line_data)\n",
    "\n",
    "    # 各転置行列の平均を算出し、リストに追加\n",
    "    averaged_lists = [np.mean(transposed_row) for transposed_row in transposed_line_data]\n",
    "\n",
    "    # 最後に生成したリストの平均を求めて出力\n",
    "    overall_average = np.mean(averaged_lists)\n",
    "    add_message = \"{},{}\".format(averaged_lists, overall_average)\n",
    "    message = message + '\\n' + add_message\n",
    "\n",
    "print(message)\n",
    "print(indexs)\n",
    "print(sapnet.count_elements(indexs))\n"
   ]
  },
  {
   "cell_type": "code",
   "execution_count": 7,
   "metadata": {},
   "outputs": [
    {
     "name": "stdout",
     "output_type": "stream",
     "text": [
      "0.24693940689390595,0.08651662393392347,0.02632169756968126,0.09192633029200357,0.2234400153452131,1.0,0.2661155953822795,0.27732280991671526\n",
      "0.281530390950835,0.2273259535115496,0.2419484015027365,0.3318019020137679,1.2046826882694954,0.39524976830294584,1.2046826882694954,0.5553173989744036\n",
      "0.7073520584741764,0.7568366699695628,3.026321697569681,0.9106570833699853,0.6946483175647495,1.0991118203324057,0.762700899173689,1.136804078064893\n",
      "2.523975474396447,2.0850052411835223,2.2931234940495058,3.790914541300803,1.8132100209401867,1.7940697749704848,2.165299985833423,2.3522283618106243\n",
      "6.121553474066325,3.2064686579543182,2.1653146294129355,4.242359385351833,6.389305938551835,3.6014836684176164,6.23425265069419,4.565819772064151\n",
      "10.18112505852841,7.228836175695704,7.100616261397606,9.353246939776295,10.55583744689914,8.14298107904995,11.593295680684287,9.165134091718771\n",
      "23.264859842197534,20.399136073300635,16.552467637334942,14.44612481216031,20.84002524672674,14.878481028322541,18.088177563298732,18.35275317190592\n",
      "42.95530255885953,37.68789380630511,32.27633996523062,36.874531185961466,42.41172044664702,32.67664045367752,33.80809434674213,36.95578896620334\n"
     ]
    }
   ],
   "source": [
    "# sapnet.pyをインポート\n",
    "from sapnet import sapnet\n",
    "import random\n",
    "import numpy as np\n",
    "\n",
    "# 計算\n",
    "getdatas = [1, 2, 4, 8, 16, 32, 64, 128]\n",
    "message = []\n",
    "\n",
    "for getdata in getdatas:\n",
    "    # 10回の施行を見る\n",
    "    line_data = []\n",
    "    for j in range(1):\n",
    "        # 100回の拡散をランダムで行う\n",
    "        df = sapnet.example_dataframe()\n",
    "\n",
    "        for i in range(getdata):\n",
    "            df = sapnet.stimulus_calc(df=df, stimulus=random.randint(1, len(df)))\n",
    "            diagonal_matrix = np.diag(df.iloc[:, 1:].values)\n",
    "        line_data.extend(diagonal_matrix)\n",
    "\n",
    "    # 行列の転置を求めることにより、それぞれの拡散の値を行列化\n",
    "    # 行列化したそれぞれの要素を平均し、100回の拡散平均を求めます。\n",
    "    transposed_line_data = np.transpose(line_data)\n",
    "\n",
    "    # 各転置行列の平均を算出し、リストに追加\n",
    "    averaged_lists = [np.mean(transposed_row) for transposed_row in transposed_line_data]\n",
    "\n",
    "    # 最後に生成したリストの平均を求めて出力\n",
    "    overall_average = np.mean(averaged_lists)\n",
    "    add_message = \",\".join(map(str, averaged_lists + [overall_average]))\n",
    "    message.append(add_message)\n",
    "\n",
    "print(\"\\n\".join(message))\n",
    "print(message)"
   ]
  },
  {
   "cell_type": "markdown",
   "metadata": {},
   "source": [
    "# Lineで通知"
   ]
  },
  {
   "cell_type": "code",
   "execution_count": null,
   "metadata": {},
   "outputs": [],
   "source": [
    "#sapnet.send_line_notify(message)"
   ]
  }
 ],
 "metadata": {
  "kernelspec": {
   "display_name": "Python 3",
   "language": "python",
   "name": "python3"
  },
  "language_info": {
   "codemirror_mode": {
    "name": "ipython",
    "version": 3
   },
   "file_extension": ".py",
   "mimetype": "text/x-python",
   "name": "python",
   "nbconvert_exporter": "python",
   "pygments_lexer": "ipython3",
   "version": "3.11.3"
  }
 },
 "nbformat": 4,
 "nbformat_minor": 2
}
