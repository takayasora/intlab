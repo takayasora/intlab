{
 "cells": [
  {
   "cell_type": "markdown",
   "metadata": {},
   "source": [
    "# 初回セットアップ"
   ]
  },
  {
   "cell_type": "code",
   "execution_count": 1,
   "metadata": {},
   "outputs": [
    {
     "name": "stdout",
     "output_type": "stream",
     "text": [
      ".gitignore ファイルが作成され、内容が書き込まれました。\n",
      ".env ファイルが作成され、内容が書き込まれました。\n"
     ]
    }
   ],
   "source": [
    "from sapnet import sapnet\n",
    "\n",
    "#sapnet.firstsetup()"
   ]
  },
  {
   "cell_type": "markdown",
   "metadata": {},
   "source": [
    "# プログラム本編"
   ]
  },
  {
   "cell_type": "code",
   "execution_count": 4,
   "metadata": {},
   "outputs": [
    {
     "name": "stdout",
     "output_type": "stream",
     "text": [
      "\n",
      "[0.15163266492815836, 0.09012304448804297, 0.12414632594785238, 0.10559254750477806, 0.20468268826949546, 0.19958669653670963, 1.0],0.26796628109643383\n",
      "[2.0, 0.45241870901797976, 0.20096940421755394, 0.33516002301781966, 0.2804865063699954, 0.37040911034085894, 0.3710269398130832],0.5729243846824702\n",
      "[0.9236245598459305, 1.329545069391084, 0.6468182898887407, 1.350424278765899, 0.9126723883247039, 1.3826781957657286, 1.5326779546503368],1.1540629623760605\n",
      "[3.3634118506842983, 3.9894217841964497, 2.995435776201046, 1.4452892754819382, 1.3481196988798752, 0.8956202255676096, 2.0794006967924163],2.3023856154005196\n",
      "[6.211245451142805, 2.747795928191605, 5.639407684103042, 5.383208160242168, 3.950333574298084, 3.757528405183202, 4.56345168706788],4.607567270032684\n",
      "[9.560836222251787, 8.697095536860697, 6.045314861051833, 7.536703163980616, 11.24461425369155, 9.10028581947928, 11.683016525009686],9.123980911760778\n",
      "[17.97733312486754, 15.277320385285433, 15.124163127811908, 19.203963055329805, 24.435661042615028, 16.83420789088479, 20.006198030634714],18.40840666534703\n",
      "[42.306828921250556, 37.41871682380672, 35.22491775721719, 33.565091674088876, 34.07925904856514, 33.97392322102966, 40.34772873327456],36.70235231131896\n"
     ]
    }
   ],
   "source": [
    "# sapnet.pyをインポート\n",
    "from sapnet import sapnet\n",
    "import random\n",
    "import numpy as np\n",
    "\n",
    "# 計算\n",
    "getdatas=[1,2,4,8,16,32,64,128]\n",
    "message=''\n",
    "\n",
    "for getdata in getdatas:\n",
    "    # 10回の施行を見る\n",
    "    line_data = []\n",
    "    for j in range(1):\n",
    "        # 100回の拡散をランダムで行う\n",
    "        df = sapnet.example_dataframe()\n",
    "\n",
    "        for i in range(getdata):\n",
    "            df = sapnet.stimulus_calc(df=df, stimulus=random.randint(1, len(df)))\n",
    "            # df = sapnet.attenuation(df,0.1)\n",
    "            diagonal_matrix = np.diag(df.iloc[:, 1:].values)\n",
    "        line_data.append(diagonal_matrix)\n",
    "\n",
    "    # 行列の転置を求めることにより、それぞれの拡散の値を行列化\n",
    "    # 行列化したそれぞれの要素を平均し、100回の拡散平均を求めます。\n",
    "    transposed_line_data = np.transpose(line_data)\n",
    "\n",
    "    # 各転置行列の平均を算出し、リストに追加\n",
    "    averaged_lists = [np.mean(transposed_row) for transposed_row in transposed_line_data]\n",
    "\n",
    "    # 最後に生成したリストの平均を求めて出力\n",
    "    overall_average = np.mean(averaged_lists)\n",
    "    add_message = \"{},{}\".format(averaged_lists, overall_average)\n",
    "    message = message + '\\n' + add_message\n",
    "\n",
    "print(message)\n"
   ]
  },
  {
   "cell_type": "code",
   "execution_count": 7,
   "metadata": {},
   "outputs": [
    {
     "name": "stdout",
     "output_type": "stream",
     "text": [
      "0.24693940689390595,0.08651662393392347,0.02632169756968126,0.09192633029200357,0.2234400153452131,1.0,0.2661155953822795,0.27732280991671526\n",
      "0.281530390950835,0.2273259535115496,0.2419484015027365,0.3318019020137679,1.2046826882694954,0.39524976830294584,1.2046826882694954,0.5553173989744036\n",
      "0.7073520584741764,0.7568366699695628,3.026321697569681,0.9106570833699853,0.6946483175647495,1.0991118203324057,0.762700899173689,1.136804078064893\n",
      "2.523975474396447,2.0850052411835223,2.2931234940495058,3.790914541300803,1.8132100209401867,1.7940697749704848,2.165299985833423,2.3522283618106243\n",
      "6.121553474066325,3.2064686579543182,2.1653146294129355,4.242359385351833,6.389305938551835,3.6014836684176164,6.23425265069419,4.565819772064151\n",
      "10.18112505852841,7.228836175695704,7.100616261397606,9.353246939776295,10.55583744689914,8.14298107904995,11.593295680684287,9.165134091718771\n",
      "23.264859842197534,20.399136073300635,16.552467637334942,14.44612481216031,20.84002524672674,14.878481028322541,18.088177563298732,18.35275317190592\n",
      "42.95530255885953,37.68789380630511,32.27633996523062,36.874531185961466,42.41172044664702,32.67664045367752,33.80809434674213,36.95578896620334\n"
     ]
    }
   ],
   "source": [
    "# sapnet.pyをインポート\n",
    "from sapnet import sapnet\n",
    "import random\n",
    "import numpy as np\n",
    "\n",
    "# 計算\n",
    "getdatas = [1, 2, 4, 8, 16, 32, 64, 128]\n",
    "message = []\n",
    "\n",
    "for getdata in getdatas:\n",
    "    # 10回の施行を見る\n",
    "    line_data = []\n",
    "    for j in range(1):\n",
    "        # 100回の拡散をランダムで行う\n",
    "        df = sapnet.example_dataframe()\n",
    "\n",
    "        for i in range(getdata):\n",
    "            df = sapnet.stimulus_calc(df=df, stimulus=random.randint(1, len(df)))\n",
    "            diagonal_matrix = np.diag(df.iloc[:, 1:].values)\n",
    "        line_data.extend(diagonal_matrix)\n",
    "\n",
    "    # 行列の転置を求めることにより、それぞれの拡散の値を行列化\n",
    "    # 行列化したそれぞれの要素を平均し、100回の拡散平均を求めます。\n",
    "    transposed_line_data = np.transpose(line_data)\n",
    "\n",
    "    # 各転置行列の平均を算出し、リストに追加\n",
    "    averaged_lists = [np.mean(transposed_row) for transposed_row in transposed_line_data]\n",
    "\n",
    "    # 最後に生成したリストの平均を求めて出力\n",
    "    overall_average = np.mean(averaged_lists)\n",
    "    add_message = \",\".join(map(str, averaged_lists + [overall_average]))\n",
    "    message.append(add_message)\n",
    "\n",
    "print(\"\\n\".join(message))\n"
   ]
  },
  {
   "cell_type": "markdown",
   "metadata": {},
   "source": [
    "# Lineで通知"
   ]
  },
  {
   "cell_type": "code",
   "execution_count": null,
   "metadata": {},
   "outputs": [],
   "source": [
    "#sapnet.send_line_notify(message)"
   ]
  }
 ],
 "metadata": {
  "kernelspec": {
   "display_name": "Python 3",
   "language": "python",
   "name": "python3"
  },
  "language_info": {
   "codemirror_mode": {
    "name": "ipython",
    "version": 3
   },
   "file_extension": ".py",
   "mimetype": "text/x-python",
   "name": "python",
   "nbconvert_exporter": "python",
   "pygments_lexer": "ipython3",
   "version": "3.11.4"
  }
 },
 "nbformat": 4,
 "nbformat_minor": 2
}
