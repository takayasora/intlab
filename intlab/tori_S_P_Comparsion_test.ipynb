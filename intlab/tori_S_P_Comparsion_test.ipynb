{
 "cells": [
  {
   "cell_type": "markdown",
   "metadata": {},
   "source": [
    "# P-SAPとの比較実験"
   ]
  },
  {
   "cell_type": "code",
   "execution_count": 6,
   "metadata": {},
   "outputs": [],
   "source": [
    "from sapnet import sapnet\n",
    "import random\n",
    "data = [[\"knowledge\", 0.1, 0.1, 0.3, 0.2],\n",
    "        [\"knowledge\", 0.1, 0.1, 0.3, 0.2],\n",
    "        [\"knowledge\", 0.3, 0.3, 0.1, 0],\n",
    "        [\"knowledge\", 0.2, 0.2, 0, 0.1]]\n",
    "df = sapnet.array4DataFrame(data)\n",
    "\n",
    "\n",
    "df = sapnet.stimulus_calc(df,1)"
   ]
  },
  {
   "cell_type": "code",
   "execution_count": 7,
   "metadata": {},
   "outputs": [
    {
     "name": "stdout",
     "output_type": "stream",
     "text": [
      "          name  knowledge_1  knowledge_2  knowledge_3  knowledge_4\n",
      "0  knowledge_1          1.1     0.100000     0.300000     0.200000\n",
      "1  knowledge_2          0.1     0.401612     0.300000     0.200000\n",
      "2  knowledge_3          0.3     0.300000     0.421419     0.000000\n",
      "3  knowledge_4          0.2     0.200000     0.000000     0.455223\n"
     ]
    }
   ],
   "source": [
    "print(df)"
   ]
  },
  {
   "cell_type": "markdown",
   "metadata": {},
   "source": [
    "### ノード4　5回活性化"
   ]
  },
  {
   "cell_type": "code",
   "execution_count": 8,
   "metadata": {},
   "outputs": [
    {
     "name": "stderr",
     "output_type": "stream",
     "text": [
      "INFO:sapnet:Sapnet's algorithm, Start the calculations.\n",
      "INFO:sapnet:(1/10)Generating stimulus pair list for stimulus 1\n",
      "INFO:sapnet:(3/10)Generating stimulus pair list: [[1, 2], [1, 4], [1, 3], [2, 4], [2, 3]]\n",
      "INFO:sapnet:Sapnet's algorithm, Start the calculations.\n",
      "INFO:sapnet:(1/10)Generating stimulus pair list for stimulus 2\n",
      "INFO:sapnet:(3/10)Generating stimulus pair list: [[2, 1], [2, 4], [2, 3], [1, 4], [1, 3]]\n",
      "INFO:sapnet:Sapnet's algorithm, Start the calculations.\n",
      "INFO:sapnet:(1/10)Generating stimulus pair list for stimulus 3\n",
      "INFO:sapnet:(3/10)Generating stimulus pair list: [[3, 1], [3, 2], [1, 2], [1, 4], [2, 4]]\n",
      "INFO:sapnet:Sapnet's algorithm, Start the calculations.\n",
      "INFO:sapnet:(1/10)Generating stimulus pair list for stimulus 4\n",
      "INFO:sapnet:(3/10)Generating stimulus pair list: [[4, 1], [4, 2], [1, 2], [1, 3], [2, 3]]\n",
      "INFO:sapnet:Sapnet's algorithm, Start the calculations.\n",
      "INFO:sapnet:(1/10)Generating stimulus pair list for stimulus 1\n",
      "INFO:sapnet:(3/10)Generating stimulus pair list: [[1, 2], [1, 4], [1, 3], [2, 4], [2, 3]]\n"
     ]
    },
    {
     "name": "stdout",
     "output_type": "stream",
     "text": [
      "          name  knowledge_1  knowledge_2  knowledge_3  knowledge_4\n",
      "0  knowledge_1          0.2     0.100000     0.300000     0.200000\n",
      "1  knowledge_2          0.1     0.130161     0.300000     0.200000\n",
      "2  knowledge_3          0.3     0.300000     0.132142     0.000000\n",
      "3  knowledge_4          0.2     0.200000     0.000000     0.135522\n",
      "          name  knowledge_1  knowledge_2  knowledge_3  knowledge_4\n",
      "0  knowledge_1     0.230161     0.100000     0.300000     0.200000\n",
      "1  knowledge_2     0.100000     0.230161     0.300000     0.200000\n",
      "2  knowledge_3     0.300000     0.300000     0.164284     0.000000\n",
      "3  knowledge_4     0.200000     0.200000     0.000000     0.171045\n",
      "          name  knowledge_1  knowledge_2  knowledge_3  knowledge_4\n",
      "0  knowledge_1     0.267202     0.100000     0.300000     0.200000\n",
      "1  knowledge_2     0.100000     0.278374     0.300000     0.200000\n",
      "2  knowledge_3     0.300000     0.300000     0.264284     0.000000\n",
      "3  knowledge_4     0.200000     0.200000     0.000000     0.184202\n",
      "          name  knowledge_1  knowledge_2  knowledge_3  knowledge_4\n",
      "0  knowledge_1     0.308139     0.100000     0.300000     0.200000\n",
      "1  knowledge_2     0.100000     0.331658     0.300000     0.200000\n",
      "2  knowledge_3     0.300000     0.300000     0.277442     0.000000\n",
      "3  knowledge_4     0.200000     0.200000     0.000000     0.284202\n",
      "          name  knowledge_1  knowledge_2  knowledge_3  knowledge_4\n",
      "0  knowledge_1     0.408139     0.100000     0.300000     0.200000\n",
      "1  knowledge_2     0.100000     0.361819     0.300000     0.200000\n",
      "2  knowledge_3     0.300000     0.300000     0.309584     0.000000\n",
      "3  knowledge_4     0.200000     0.200000     0.000000     0.319725\n"
     ]
    }
   ],
   "source": [
    "from sapnet import sapnet\n",
    "import random\n",
    "data = [[\"knowledge\", 0.1, 0.1, 0.3, 0.2],\n",
    "        [\"knowledge\", 0.1, 0.1, 0.3, 0.2],\n",
    "        [\"knowledge\", 0.3, 0.3, 0.1, 0],\n",
    "        [\"knowledge\", 0.2, 0.2, 0, 0.1]]\n",
    "df = sapnet.array4DataFrame(data)\n",
    "pattern = [1,2,3,4,1]\n",
    "for i in pattern:\n",
    "    df = sapnet.stimulus_calc(df=df,stimulus=pattern[i-1],first_stimulus_value=0.1,debug=1)\n",
    "    print(df)\n",
    "    #df = sapnet.attenuation(df,0.1)"
   ]
  },
  {
   "cell_type": "markdown",
   "metadata": {},
   "source": [
    "### さらに多い回数の拡散"
   ]
  },
  {
   "cell_type": "code",
   "execution_count": 10,
   "metadata": {},
   "outputs": [
    {
     "name": "stdout",
     "output_type": "stream",
     "text": [
      "          name  knowledge_1  knowledge_2  knowledge_3  knowledge_4\n",
      "0  knowledge_1          0.2     0.100000     0.300000     0.200000\n",
      "1  knowledge_2          0.1     0.130161     0.300000     0.200000\n",
      "2  knowledge_3          0.3     0.300000     0.132142     0.000000\n",
      "3  knowledge_4          0.2     0.200000     0.000000     0.135522\n",
      "          name  knowledge_1  knowledge_2  knowledge_3  knowledge_4\n",
      "0  knowledge_1     0.230161     0.100000     0.300000     0.200000\n",
      "1  knowledge_2     0.100000     0.230161     0.300000     0.200000\n",
      "2  knowledge_3     0.300000     0.300000     0.164284     0.000000\n",
      "3  knowledge_4     0.200000     0.200000     0.000000     0.171045\n",
      "          name  knowledge_1  knowledge_2  knowledge_3  knowledge_4\n",
      "0  knowledge_1     0.267202     0.100000     0.300000     0.200000\n",
      "1  knowledge_2     0.100000     0.278374     0.300000     0.200000\n",
      "2  knowledge_3     0.300000     0.300000     0.264284     0.000000\n",
      "3  knowledge_4     0.200000     0.200000     0.000000     0.184202\n",
      "          name  knowledge_1  knowledge_2  knowledge_3  knowledge_4\n",
      "0  knowledge_1     0.308139     0.100000     0.300000     0.200000\n",
      "1  knowledge_2     0.100000     0.331658     0.300000     0.200000\n",
      "2  knowledge_3     0.300000     0.300000     0.277442     0.000000\n",
      "3  knowledge_4     0.200000     0.200000     0.000000     0.284202\n",
      "          name  knowledge_1  knowledge_2  knowledge_3  knowledge_4\n",
      "0  knowledge_1     0.408139     0.100000     0.300000     0.200000\n",
      "1  knowledge_2     0.100000     0.361819     0.300000     0.200000\n",
      "2  knowledge_3     0.300000     0.300000     0.309584     0.000000\n",
      "3  knowledge_4     0.200000     0.200000     0.000000     0.319725\n",
      "          name  knowledge_1  knowledge_2  knowledge_3  knowledge_4\n",
      "0  knowledge_1       0.4383     0.100000     0.300000     0.200000\n",
      "1  knowledge_2       0.1000     0.461819     0.300000     0.200000\n",
      "2  knowledge_3       0.3000     0.300000     0.341726     0.000000\n",
      "3  knowledge_4       0.2000     0.200000     0.000000     0.355247\n",
      "          name  knowledge_1  knowledge_2  knowledge_3  knowledge_4\n",
      "0  knowledge_1     0.475341     0.100000     0.300000     0.200000\n",
      "1  knowledge_2     0.100000     0.510032     0.300000     0.200000\n",
      "2  knowledge_3     0.300000     0.300000     0.441726     0.000000\n",
      "3  knowledge_4     0.200000     0.200000     0.000000     0.368405\n",
      "          name  knowledge_1  knowledge_2  knowledge_3  knowledge_4\n",
      "0  knowledge_1     0.516277     0.100000     0.300000     0.200000\n",
      "1  knowledge_2     0.100000     0.563315     0.300000     0.200000\n",
      "2  knowledge_3     0.300000     0.300000     0.454883     0.000000\n",
      "3  knowledge_4     0.200000     0.200000     0.000000     0.468405\n",
      "          name  knowledge_1  knowledge_2  knowledge_3  knowledge_4\n",
      "0  knowledge_1     0.616277     0.100000     0.300000     0.200000\n",
      "1  knowledge_2     0.100000     0.593477     0.300000     0.200000\n",
      "2  knowledge_3     0.300000     0.300000     0.487025     0.000000\n",
      "3  knowledge_4     0.200000     0.200000     0.000000     0.503927\n",
      "          name  knowledge_1  knowledge_2  knowledge_3  knowledge_4\n",
      "0  knowledge_1     0.646439     0.100000     0.300000      0.20000\n",
      "1  knowledge_2     0.100000     0.693477     0.300000      0.20000\n",
      "2  knowledge_3     0.300000     0.300000     0.519167      0.00000\n",
      "3  knowledge_4     0.200000     0.200000     0.000000      0.53945\n",
      "          name  knowledge_1  knowledge_2  knowledge_3  knowledge_4\n",
      "0  knowledge_1      0.68348     0.100000     0.300000     0.200000\n",
      "1  knowledge_2      0.10000     0.741689     0.300000     0.200000\n",
      "2  knowledge_3      0.30000     0.300000     0.619167     0.000000\n",
      "3  knowledge_4      0.20000     0.200000     0.000000     0.552607\n",
      "          name  knowledge_1  knowledge_2  knowledge_3  knowledge_4\n",
      "0  knowledge_1     0.724416     0.100000     0.300000     0.200000\n",
      "1  knowledge_2     0.100000     0.794973     0.300000     0.200000\n",
      "2  knowledge_3     0.300000     0.300000     0.632325     0.000000\n",
      "3  knowledge_4     0.200000     0.200000     0.000000     0.652607\n",
      "          name  knowledge_1  knowledge_2  knowledge_3  knowledge_4\n",
      "0  knowledge_1     0.824416     0.100000     0.300000      0.20000\n",
      "1  knowledge_2     0.100000     0.825134     0.300000      0.20000\n",
      "2  knowledge_3     0.300000     0.300000     0.664467      0.00000\n",
      "3  knowledge_4     0.200000     0.200000     0.000000      0.68813\n",
      "          name  knowledge_1  knowledge_2  knowledge_3  knowledge_4\n",
      "0  knowledge_1     0.854577     0.100000     0.300000     0.200000\n",
      "1  knowledge_2     0.100000     0.925134     0.300000     0.200000\n",
      "2  knowledge_3     0.300000     0.300000     0.696609     0.000000\n",
      "3  knowledge_4     0.200000     0.200000     0.000000     0.723652\n",
      "          name  knowledge_1  knowledge_2  knowledge_3  knowledge_4\n",
      "0  knowledge_1     0.891618     0.100000     0.300000      0.20000\n",
      "1  knowledge_2     0.100000     0.973347     0.300000      0.20000\n",
      "2  knowledge_3     0.300000     0.300000     0.796609      0.00000\n",
      "3  knowledge_4     0.200000     0.200000     0.000000      0.73681\n",
      "          name  knowledge_1  knowledge_2  knowledge_3  knowledge_4\n",
      "0  knowledge_1     0.932555     0.100000     0.300000      0.20000\n",
      "1  knowledge_2     0.100000     1.026631     0.300000      0.20000\n",
      "2  knowledge_3     0.300000     0.300000     0.809767      0.00000\n",
      "3  knowledge_4     0.200000     0.200000     0.000000      0.83681\n",
      "          name  knowledge_1  knowledge_2  knowledge_3  knowledge_4\n",
      "0  knowledge_1     1.032555     0.100000     0.300000     0.200000\n",
      "1  knowledge_2     0.100000     1.056792     0.300000     0.200000\n",
      "2  knowledge_3     0.300000     0.300000     0.841909     0.000000\n",
      "3  knowledge_4     0.200000     0.200000     0.000000     0.872332\n",
      "          name  knowledge_1  knowledge_2  knowledge_3  knowledge_4\n",
      "0  knowledge_1     1.062716     0.100000     0.300000     0.200000\n",
      "1  knowledge_2     0.100000     1.156792     0.300000     0.200000\n",
      "2  knowledge_3     0.300000     0.300000     0.874051     0.000000\n",
      "3  knowledge_4     0.200000     0.200000     0.000000     0.907855\n",
      "          name  knowledge_1  knowledge_2  knowledge_3  knowledge_4\n",
      "0  knowledge_1     1.099757     0.100000     0.300000     0.200000\n",
      "1  knowledge_2     0.100000     1.205005     0.300000     0.200000\n",
      "2  knowledge_3     0.300000     0.300000     0.974051     0.000000\n",
      "3  knowledge_4     0.200000     0.200000     0.000000     0.921012\n",
      "          name  knowledge_1  knowledge_2  knowledge_3  knowledge_4\n",
      "0  knowledge_1     1.140693     0.100000     0.300000     0.200000\n",
      "1  knowledge_2     0.100000     1.258288     0.300000     0.200000\n",
      "2  knowledge_3     0.300000     0.300000     0.987208     0.000000\n",
      "3  knowledge_4     0.200000     0.200000     0.000000     1.021012\n",
      "          name  knowledge_1  knowledge_2  knowledge_3  knowledge_4\n",
      "0  knowledge_1     1.240693      0.10000      0.30000     0.200000\n",
      "1  knowledge_2     0.100000      1.28845      0.30000     0.200000\n",
      "2  knowledge_3     0.300000      0.30000      1.01935     0.000000\n",
      "3  knowledge_4     0.200000      0.20000      0.00000     1.056535\n",
      "          name  knowledge_1  knowledge_2  knowledge_3  knowledge_4\n",
      "0  knowledge_1     1.270855      0.10000     0.300000     0.200000\n",
      "1  knowledge_2     0.100000      1.38845     0.300000     0.200000\n",
      "2  knowledge_3     0.300000      0.30000     1.051492     0.000000\n",
      "3  knowledge_4     0.200000      0.20000     0.000000     1.092057\n",
      "          name  knowledge_1  knowledge_2  knowledge_3  knowledge_4\n",
      "0  knowledge_1     1.307896     0.100000     0.300000     0.200000\n",
      "1  knowledge_2     0.100000     1.436662     0.300000     0.200000\n",
      "2  knowledge_3     0.300000     0.300000     1.151492     0.000000\n",
      "3  knowledge_4     0.200000     0.200000     0.000000     1.105215\n",
      "          name  knowledge_1  knowledge_2  knowledge_3  knowledge_4\n",
      "0  knowledge_1     1.348832     0.100000      0.30000     0.200000\n",
      "1  knowledge_2     0.100000     1.489946      0.30000     0.200000\n",
      "2  knowledge_3     0.300000     0.300000      1.16465     0.000000\n",
      "3  knowledge_4     0.200000     0.200000      0.00000     1.205215\n",
      "          name  knowledge_1  knowledge_2  knowledge_3  knowledge_4\n",
      "0  knowledge_1     1.448832     0.100000     0.300000     0.200000\n",
      "1  knowledge_2     0.100000     1.520107     0.300000     0.200000\n",
      "2  knowledge_3     0.300000     0.300000     1.196792     0.000000\n",
      "3  knowledge_4     0.200000     0.200000     0.000000     1.240737\n"
     ]
    }
   ],
   "source": [
    "from sapnet import sapnet\n",
    "import random\n",
    "data = [[\"knowledge\", 0.1, 0.1, 0.3, 0.2],\n",
    "        [\"knowledge\", 0.1, 0.1, 0.3, 0.2],\n",
    "        [\"knowledge\", 0.3, 0.3, 0.1, 0],\n",
    "        [\"knowledge\", 0.2, 0.2, 0, 0.1]]\n",
    "df = sapnet.array4DataFrame(data)\n",
    "pattern = [1, 2, 3, 4, 1, 2, 3, 4, 1, 2, 3, 4, 1, 2, 3, 4, 1, 2, 3, 4, 1, 2, 3, 4, 1]\n",
    "for i in pattern:\n",
    "    df = sapnet.stimulus_calc(df=df,stimulus=pattern[i-1],first_stimulus_value=0.1)\n",
    "    print(df)\n",
    "    #df = sapnet.attenuation(df,0.1)"
   ]
  },
  {
   "cell_type": "markdown",
   "metadata": {},
   "source": [
    "### ノード数10"
   ]
  },
  {
   "cell_type": "markdown",
   "metadata": {},
   "source": [
    "- 上記二つの実験では数値に大幅なずれが生じた\n",
    "- これはシーケンシャルとパラレルでの経路選択時の差と、パス選択のルールが異なるためであった\n",
    "- ノード数を増えすことで、その差が小さくなるかのテスト"
   ]
  },
  {
   "cell_type": "code",
   "execution_count": null,
   "metadata": {},
   "outputs": [],
   "source": [
    "from sapnet import sapnet\n",
    "import random\n",
    "data = [[\"knowledge\", 0.1, 0.5, 0.6, 0.6, 0.7, 0.7, 0.8, 0.8, 0.9, 0.9],\n",
    "        [\"knowledge\", 0.5, 0.1, 0.5, 0.5, 0.7, 0.7, 0, 0, 1.0, 1.0],\n",
    "        [\"knowledge\", 0.6, 0.5, 0.1, 0, 0.5, 0, 0.7, 0, 0.9, 0],\n",
    "        [\"knowledge\", 0.6, 0.5, 0, 0.1, 0, 0.5, 0, 0.7, 0, 0.9],\n",
    "        [\"knowledge\", 0.7, 0.7, 0.5, 0, 0.1, 0, 0.5, 0, 0.7, 0],\n",
    "        [\"knowledge\", 0.7, 0.7, 0, 0.5, 0, 0.1, 0, 0.5, 0, 0.7],\n",
    "        [\"knowledge\", 0.8, 0, 0.7, 0, 0.5, 0, 0.1, 0, 0.5, 0],\n",
    "        [\"knowledge\", 0.8, 0, 0, 0.7, 0, 0.5, 0, 0.1, 0, 0.5],\n",
    "        [\"knowledge\", 0.9, 1.0, 0.9, 0, 0.7, 0, 0.5, 0, 0.1, 0],\n",
    "        [\"knowledge\", 0.9, 1.0, 0, 0.9, 0, 0.7, 0, 0.5, 0, 0.1]]\n",
    "df = sapnet.array4DataFrame(data)\n",
    "pattern = [1, 2, 3, 4, 1, 2, 3, 4, 1, 2, 3, 4, 1, 2, 3, 4, 1, 2, 3, 4, 1, 2, 3, 4, 1]\n",
    "for i in pattern:\n",
    "    df = sapnet.stimulus_calc(df=df,stimulus=pattern[i-1],first_stimulus_value=0.1)\n",
    "    print(df)"
   ]
  }
 ],
 "metadata": {
  "kernelspec": {
   "display_name": "Python 3",
   "language": "python",
   "name": "python3"
  },
  "language_info": {
   "codemirror_mode": {
    "name": "ipython",
    "version": 3
   },
   "file_extension": ".py",
   "mimetype": "text/x-python",
   "name": "python",
   "nbconvert_exporter": "python",
   "pygments_lexer": "ipython3",
   "version": "3.11.3"
  }
 },
 "nbformat": 4,
 "nbformat_minor": 2
}
