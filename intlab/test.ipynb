{
 "cells": [
  {
   "cell_type": "markdown",
   "metadata": {},
   "source": [
    "# 単発テスト"
   ]
  },
  {
   "cell_type": "code",
   "execution_count": 4,
   "metadata": {},
   "outputs": [
    {
     "name": "stdout",
     "output_type": "stream",
     "text": [
      "          name  knowledge_1  knowledge_2  knowledge_3  knowledge_4  \\\n",
      "0  knowledge_1     3.578472     0.100000     0.000000     0.400000   \n",
      "1  knowledge_2     0.100000     1.792378     0.400000     0.000000   \n",
      "2  knowledge_3     0.000000     0.400000     1.913405     0.200000   \n",
      "3  knowledge_4     0.400000     0.000000     0.200000     2.325776   \n",
      "4  knowledge_5     0.000000     0.600000     0.000000     0.100000   \n",
      "5  knowledge_6     0.300000     0.000000     0.000000     0.000000   \n",
      "6  knowledge_7     0.500000     0.000000     0.700000     0.000000   \n",
      "\n",
      "   knowledge_5  knowledge_6  knowledge_7  \n",
      "0      0.00000     0.300000     0.500000  \n",
      "1      0.60000     0.000000     0.000000  \n",
      "2      0.00000     0.000000     0.700000  \n",
      "3      0.10000     0.000000     0.000000  \n",
      "4      2.44422     0.400000     0.200000  \n",
      "5      0.40000     3.260299     0.600000  \n",
      "6      0.20000     0.600000     2.681287  \n",
      "          name  knowledge_1  knowledge_2  knowledge_3  knowledge_4  \\\n",
      "0  knowledge_1     3.296647      0.10000     0.000000     0.400000   \n",
      "1  knowledge_2     0.100000      3.34742     0.400000     0.000000   \n",
      "2  knowledge_3     0.000000      0.40000     3.580664     0.200000   \n",
      "3  knowledge_4     0.400000      0.00000     0.200000     1.674953   \n",
      "4  knowledge_5     0.000000      0.60000     0.000000     0.100000   \n",
      "5  knowledge_6     0.300000      0.00000     0.000000     0.000000   \n",
      "6  knowledge_7     0.500000      0.00000     0.700000     0.000000   \n",
      "\n",
      "   knowledge_5  knowledge_6  knowledge_7  \n",
      "0     0.000000     0.300000     0.500000  \n",
      "1     0.600000     0.000000     0.000000  \n",
      "2     0.000000     0.000000     0.700000  \n",
      "3     0.100000     0.000000     0.000000  \n",
      "4     1.986966     0.400000     0.200000  \n",
      "5     0.400000     1.578357     0.600000  \n",
      "6     0.200000     0.600000     2.532629  \n"
     ]
    }
   ],
   "source": [
    "# sapnet.pyをインポート\n",
    "from sapnet import sapnet\n",
    "import random\n",
    "\n",
    "# 計算\n",
    "\n",
    "df = sapnet.example_dataframe()\n",
    "\n",
    "for i in range(100):\n",
    "    df = sapnet.stimulus_calc(df=df,stimulus=random.randint(1, len(df)))\n",
    "    df = sapnet.attenuation(df,0.1)\n",
    "\n",
    "print(df)\n",
    "\n",
    "# 計算\n",
    "df = sapnet.example_dataframe()\n",
    "\n",
    "for i in range(100):\n",
    "    df = sapnet.stimulus_calc(df=df,stimulus=random.randint(1, len(df)))\n",
    "    df = sapnet.attenuation(df,0.1)\n",
    "\n",
    "print(df)\n"
   ]
  },
  {
   "cell_type": "code",
   "execution_count": null,
   "metadata": {},
   "outputs": [],
   "source": [
    "#減衰を使用してプログラムを作成する\n",
    "#sap-netの減衰をなくすとどうなるかの検討をする"
   ]
  },
  {
   "cell_type": "markdown",
   "metadata": {},
   "source": [
    "# 複数テスト"
   ]
  },
  {
   "cell_type": "code",
   "execution_count": 12,
   "metadata": {},
   "outputs": [
    {
     "name": "stdout",
     "output_type": "stream",
     "text": [
      "10\n",
      "[array([32.6940529 , 22.92528769, 25.7412214 , 33.40317428, 31.18163692,\n",
      "       26.44073824, 29.72044598]), array([28.45138335, 26.76144621, 31.58021998, 33.03471179, 34.04355304,\n",
      "       22.04974805, 26.76182666]), array([29.51253287, 27.40664598, 25.2477133 , 32.04682288, 29.77092474,\n",
      "       27.71246362, 30.36405972]), array([30.95004195, 27.0763405 , 24.66147113, 28.9742681 , 36.9928468 ,\n",
      "       25.05655691, 28.07324202]), array([30.20691544, 23.9721846 , 25.17549365, 28.70551731, 30.07025537,\n",
      "       27.57714056, 34.77293275]), array([32.80558848, 30.29481358, 29.98614564, 32.14501076, 27.46901606,\n",
      "       23.50525365, 26.57068254]), array([39.13968087, 26.73793096, 22.78200631, 27.1526176 , 28.35904955,\n",
      "       23.09991257, 33.48558382]), array([27.71438648, 28.78868262, 30.69633761, 32.10699201, 29.45793417,\n",
      "       25.1310465 , 28.43895443]), array([31.17812559, 26.79494014, 25.46488976, 24.95290798, 31.81302659,\n",
      "       28.36070031, 31.67750488]), array([34.36171733, 27.6122237 , 25.07903449, 30.67651487, 34.50548204,\n",
      "       23.20394897, 26.95059677])]\n",
      "7\n",
      "[[32.6940529  28.45138335 29.51253287 30.95004195 30.20691544 32.80558848\n",
      "  39.13968087 27.71438648 31.17812559 34.36171733]\n",
      " [22.92528769 26.76144621 27.40664598 27.0763405  23.9721846  30.29481358\n",
      "  26.73793096 28.78868262 26.79494014 27.6122237 ]\n",
      " [25.7412214  31.58021998 25.2477133  24.66147113 25.17549365 29.98614564\n",
      "  22.78200631 30.69633761 25.46488976 25.07903449]\n",
      " [33.40317428 33.03471179 32.04682288 28.9742681  28.70551731 32.14501076\n",
      "  27.1526176  32.10699201 24.95290798 30.67651487]\n",
      " [31.18163692 34.04355304 29.77092474 36.9928468  30.07025537 27.46901606\n",
      "  28.35904955 29.45793417 31.81302659 34.50548204]\n",
      " [26.44073824 22.04974805 27.71246362 25.05655691 27.57714056 23.50525365\n",
      "  23.09991257 25.1310465  28.36070031 23.20394897]\n",
      " [29.72044598 26.76182666 30.36405972 28.07324202 34.77293275 26.57068254\n",
      "  33.48558382 28.43895443 31.67750488 26.95059677]]\n"
     ]
    },
    {
     "ename": "NameError",
     "evalue": "name 'averaged_lists' is not defined",
     "output_type": "error",
     "traceback": [
      "\u001b[1;31m---------------------------------------------------------------------------\u001b[0m",
      "\u001b[1;31mNameError\u001b[0m                                 Traceback (most recent call last)",
      "\u001b[1;32mc:\\Users\\so12r\\Documents\\intlab\\intlab\\test.ipynb セル 5\u001b[0m line \u001b[0;36m2\n\u001b[0;32m     <a href='vscode-notebook-cell:/c%3A/Users/so12r/Documents/intlab/intlab/test.ipynb#W4sZmlsZQ%3D%3D?line=25'>26</a>\u001b[0m \u001b[39mprint\u001b[39m(\u001b[39mlen\u001b[39m(transposed_line_data))\n\u001b[0;32m     <a href='vscode-notebook-cell:/c%3A/Users/so12r/Documents/intlab/intlab/test.ipynb#W4sZmlsZQ%3D%3D?line=26'>27</a>\u001b[0m \u001b[39mprint\u001b[39m(transposed_line_data)\n\u001b[1;32m---> <a href='vscode-notebook-cell:/c%3A/Users/so12r/Documents/intlab/intlab/test.ipynb#W4sZmlsZQ%3D%3D?line=27'>28</a>\u001b[0m \u001b[39mprint\u001b[39m(averaged_lists)\n",
      "\u001b[1;31mNameError\u001b[0m: name 'averaged_lists' is not defined"
     ]
    }
   ],
   "source": [
    "# sapnet.pyをインポート\n",
    "from sapnet import sapnet\n",
    "import random\n",
    "import numpy as np\n",
    "\n",
    "# 計算\n",
    "#10回の施行を見る\n",
    "line_data = []\n",
    "for j in range(10):\n",
    "    #100回の拡散をランダムで行う\n",
    "    df = sapnet.example_dataframe()\n",
    "\n",
    "    for i in range(100):\n",
    "        df = sapnet.stimulus_calc(df=df,stimulus=random.randint(1, len(df)))\n",
    "        #df = sapnet.attenuation(df,0.1)\n",
    "        diagonal_matrix = np.diag(df.iloc[:, 1:].values)\n",
    "    line_data.append(diagonal_matrix)\n",
    "        \n",
    "print(len(line_data))\n",
    "print(line_data)\n",
    "\n",
    "#行列の転値を求めることにより、それぞれの拡散の値を行列化\n",
    "#行列化したそれぞれの要素を平均し、100回の拡散平均を求めます。\n",
    "transposed_line_data = np.transpose(line_data)\n",
    "\n",
    "print(len(transposed_line_data))\n",
    "print(transposed_line_data)"
   ]
  },
  {
   "cell_type": "code",
   "execution_count": 15,
   "metadata": {},
   "outputs": [
    {
     "name": "stdout",
     "output_type": "stream",
     "text": [
      "10\n",
      "[array([1.        , 0.22620935, 0.1004847 , 0.16758001, 0.14024325,\n",
      "       0.18520456, 0.18551347]), array([0.22344002, 0.1529054 , 0.27291025, 1.        , 0.30161247,\n",
      "       0.09657488, 0.14079006]), array([0.12989773, 0.13720291, 0.11780208, 0.22620935, 1.        ,\n",
      "       0.19566307, 0.20468269]), array([1.        , 0.22620935, 0.1004847 , 0.16758001, 0.14024325,\n",
      "       0.18520456, 0.18551347]), array([0.24693941, 0.08651662, 0.0263217 , 0.09192633, 0.22344002,\n",
      "       1.        , 0.2661156 ]), array([0.30161247, 1.        , 0.22344002, 0.1529054 , 0.18293721,\n",
      "       0.08651662, 0.1257723 ]), array([0.15347088, 0.22344002, 1.        , 0.27291025, 0.15706943,\n",
      "       0.03303727, 0.16552843]), array([0.24693941, 0.08651662, 0.0263217 , 0.09192633, 0.22344002,\n",
      "       1.        , 0.2661156 ]), array([0.24693941, 0.08651662, 0.0263217 , 0.09192633, 0.22344002,\n",
      "       1.        , 0.2661156 ]), array([1.        , 0.22620935, 0.1004847 , 0.16758001, 0.14024325,\n",
      "       0.18520456, 0.18551347])]\n",
      "7\n",
      "[[1.         0.22344002 0.12989773 1.         0.24693941 0.30161247\n",
      "  0.15347088 0.24693941 0.24693941 1.        ]\n",
      " [0.22620935 0.1529054  0.13720291 0.22620935 0.08651662 1.\n",
      "  0.22344002 0.08651662 0.08651662 0.22620935]\n",
      " [0.1004847  0.27291025 0.11780208 0.1004847  0.0263217  0.22344002\n",
      "  1.         0.0263217  0.0263217  0.1004847 ]\n",
      " [0.16758001 1.         0.22620935 0.16758001 0.09192633 0.1529054\n",
      "  0.27291025 0.09192633 0.09192633 0.16758001]\n",
      " [0.14024325 0.30161247 1.         0.14024325 0.22344002 0.18293721\n",
      "  0.15706943 0.22344002 0.22344002 0.14024325]\n",
      " [0.18520456 0.09657488 0.19566307 0.18520456 1.         0.08651662\n",
      "  0.03303727 1.         1.         0.18520456]\n",
      " [0.18551347 0.14079006 0.20468269 0.18551347 0.2661156  0.1257723\n",
      "  0.16552843 0.2661156  0.2661156  0.18551347]]\n",
      "\n",
      "Averaged Lists:\n",
      "[0.45492393185883506, 0.2451726260666578, 0.19945715409614656, 0.24305440319068414, 0.27326689243738067, 0.39674055099506794, 0.19916606780011525]\n",
      "\n",
      "Overall Average:\n",
      "0.28739737520641245\n"
     ]
    }
   ],
   "source": [
    "# sapnet.pyをインポート\n",
    "from sapnet import sapnet\n",
    "import random\n",
    "import numpy as np\n",
    "\n",
    "# 計算\n",
    "# 10回の施行を見る\n",
    "line_data = []\n",
    "for j in range(10):\n",
    "    # 100回の拡散をランダムで行う\n",
    "    df = sapnet.example_dataframe()\n",
    "\n",
    "    for i in range(1):\n",
    "        df = sapnet.stimulus_calc(df=df, stimulus=random.randint(1, len(df)))\n",
    "        # df = sapnet.attenuation(df,0.1)\n",
    "        diagonal_matrix = np.diag(df.iloc[:, 1:].values)\n",
    "    line_data.append(diagonal_matrix)\n",
    "\n",
    "print(len(line_data))\n",
    "print(line_data)\n",
    "\n",
    "# 行列の転置を求めることにより、それぞれの拡散の値を行列化\n",
    "# 行列化したそれぞれの要素を平均し、100回の拡散平均を求めます。\n",
    "transposed_line_data = np.transpose(line_data)\n",
    "\n",
    "print(len(transposed_line_data))\n",
    "print(transposed_line_data)\n",
    "\n",
    "# 各転置行列の平均を算出し、リストに追加\n",
    "averaged_lists = [np.mean(transposed_row) for transposed_row in transposed_line_data]\n",
    "print(\"\\nAveraged Lists:\")\n",
    "print(averaged_lists)\n",
    "\n",
    "# 最後に生成したリストの平均を求めて出力\n",
    "overall_average = np.mean(averaged_lists)\n",
    "print(\"\\nOverall Average:\")\n",
    "print(overall_average)\n"
   ]
  },
  {
   "cell_type": "markdown",
   "metadata": {},
   "source": [
    "指数関数上に増えた場合の各要素の増加量"
   ]
  },
  {
   "cell_type": "code",
   "execution_count": 1,
   "metadata": {},
   "outputs": [],
   "source": [
    "# sapnet.pyをインポート\n",
    "from sapnet import sapnet\n",
    "import random\n",
    "import numpy as np\n",
    "\n",
    "# 計算\n",
    "getdatas=[1,2,4,8,16,32,64,128]\n",
    "message=''\n",
    "\n",
    "for getdata in getdatas:\n",
    "    # 10回の施行を見る\n",
    "    line_data = []\n",
    "    for j in range(1):\n",
    "        # 100回の拡散をランダムで行う\n",
    "        df = sapnet.example_dataframe()\n",
    "\n",
    "        for i in range(getdata):\n",
    "            df = sapnet.stimulus_calc(df=df, stimulus=random.randint(1, len(df)))\n",
    "            # df = sapnet.attenuation(df,0.1)\n",
    "            diagonal_matrix = np.diag(df.iloc[:, 1:].values)\n",
    "        line_data.append(diagonal_matrix)\n",
    "\n",
    "    #print(len(line_data))\n",
    "    #print(line_data)\n",
    "\n",
    "    # 行列の転置を求めることにより、それぞれの拡散の値を行列化\n",
    "    # 行列化したそれぞれの要素を平均し、100回の拡散平均を求めます。\n",
    "    transposed_line_data = np.transpose(line_data)\n",
    "\n",
    "    #print(len(transposed_line_data))\n",
    "    #print(transposed_line_data)\n",
    "\n",
    "    # 各転置行列の平均を算出し、リストに追加\n",
    "    averaged_lists = [np.mean(transposed_row) for transposed_row in transposed_line_data]\n",
    "    #print(\"\\nAveraged Lists:\")\n",
    "    #print(averaged_lists)\n",
    "\n",
    "    # 最後に生成したリストの平均を求めて出力\n",
    "    overall_average = np.mean(averaged_lists)\n",
    "    add_message = \"{},{}\".format(averaged_lists, overall_average)\n",
    "    message = message + '\\n' + add_message\n",
    "\n",
    "sapnet.send_line_notify(message)"
   ]
  },
  {
   "cell_type": "code",
   "execution_count": 1,
   "metadata": {},
   "outputs": [],
   "source": [
    "# sapnet.pyをインポート\n",
    "from sapnet import sapnet\n"
   ]
  }
 ],
 "metadata": {
  "kernelspec": {
   "display_name": "Python 3",
   "language": "python",
   "name": "python3"
  },
  "language_info": {
   "codemirror_mode": {
    "name": "ipython",
    "version": 3
   },
   "file_extension": ".py",
   "mimetype": "text/x-python",
   "name": "python",
   "nbconvert_exporter": "python",
   "pygments_lexer": "ipython3",
   "version": "3.11.4"
  }
 },
 "nbformat": 4,
 "nbformat_minor": 2
}
