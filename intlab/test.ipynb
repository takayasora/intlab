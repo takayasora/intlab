{
 "cells": [
  {
   "cell_type": "code",
   "execution_count": 1,
   "metadata": {},
   "outputs": [
    {
     "name": "stdout",
     "output_type": "stream",
     "text": [
      "          name  knowledge_1  knowledge_2  knowledge_3  knowledge_4   \n",
      "0  knowledge_1          0.0          0.1          0.0          0.4  \\\n",
      "1  knowledge_2          0.1          0.0          0.4          0.0   \n",
      "2  knowledge_3          0.0          0.4          0.0          0.2   \n",
      "3  knowledge_4          0.4          0.0          0.2          0.0   \n",
      "4  knowledge_5          0.0          0.6          0.0          0.1   \n",
      "5  knowledge_6          0.3          0.0          0.0          0.0   \n",
      "6  knowledge_7          0.5          0.0          0.7          0.0   \n",
      "\n",
      "   knowledge_5  knowledge_6  knowledge_7  \n",
      "0          0.0          0.3          0.5  \n",
      "1          0.6          0.0          0.0  \n",
      "2          0.0          0.0          0.7  \n",
      "3          0.1          0.0          0.0  \n",
      "4          0.0          0.4          0.2  \n",
      "5          0.4          0.0          0.6  \n",
      "6          0.2          0.6          0.0  \n",
      "[[1, 2], [1, 6], [1, 4], [1, 7], [2, 3], [2, 5], [6, 5], [6, 7], [4, 5], [4, 3], [7, 5], [7, 3]]\n",
      "4\n",
      "0.3\n",
      "0.18520455517042947\n"
     ]
    }
   ],
   "source": [
    "# sapnet.pyをインポート\n",
    "from sapnet import sapnet\n",
    "\n",
    "# sapnetクラスのexample_dataframeメソッドを直接呼び出してDataFrameを取得\n",
    "df = sapnet.example_dataframe()\n",
    "# DataFrameを出力\n",
    "print(df)\n",
    "\n",
    "stimulus = 1\n",
    "pair_list = sapnet.stimulus_pairlist(df,stimulus)\n",
    "print(pair_list)\n",
    "\n",
    "#一番目のみ取得\n",
    "path1 = pair_list[1]\n",
    "paths = sapnet.path_count(df,path1[0])\n",
    "print(paths)\n",
    "\n",
    "weight = sapnet.path_weight(df,path1[0],path1[1])\n",
    "print(weight)\n",
    "\n",
    "stimulus_value = sapnet.stimulus_value_calc(paths,weight)\n",
    "print(stimulus_value)"
   ]
  },
  {
   "cell_type": "code",
   "execution_count": 2,
   "metadata": {},
   "outputs": [
    {
     "name": "stdout",
     "output_type": "stream",
     "text": [
      "[['knowledge_1', 0, 0.1, 0, 0.4, 0, 0.3, 0.5], ['knowledge_2', 0.1, 0, 0.4, 0, 0.6, 0, 0], ['knowledge_3', 0, 0.4, 0, 0.2, 0, 0, 0.7], ['knowledge_4', 0.4, 0, 0.2, 0, 0.1, 0, 0], ['knowledge_5', 0, 0.6, 0, 0.1, 0, 0.4, 0.2], ['knowledge_6', 0.3, 0, 0, 0, 0.4, 0, 0.6], ['knowledge_7', 0.5, 0, 0.7, 0, 0.2, 0.6, 0]]\n",
      "          name  knowledge_1  knowledge_2  knowledge_3  knowledge_4   \n",
      "0  knowledge_1          0.0          0.1          0.0          0.4  \\\n",
      "1  knowledge_2          0.1          0.0          0.4          0.0   \n",
      "2  knowledge_3          0.0          0.4          0.0          0.2   \n",
      "3  knowledge_4          0.4          0.0          0.2          0.0   \n",
      "4  knowledge_5          0.0          0.6          0.0          0.1   \n",
      "5  knowledge_6          0.3          0.0          0.0          0.0   \n",
      "6  knowledge_7          0.5          0.0          0.7          0.0   \n",
      "\n",
      "   knowledge_5  knowledge_6  knowledge_7  \n",
      "0          0.0          0.3          0.5  \n",
      "1          0.6          0.0          0.0  \n",
      "2          0.0          0.0          0.7  \n",
      "3          0.1          0.0          0.0  \n",
      "4          0.0          0.4          0.2  \n",
      "5          0.4          0.0          0.6  \n",
      "6          0.2          0.6          0.0  \n",
      "[['knowledge_1', 0.0, 0.1, 0.0, 0.4, 0.0, 0.3, 0.5], ['knowledge_2', 0.1, 0.0, 0.4, 0.0, 0.6, 0.0, 0.0], ['knowledge_3', 0.0, 0.4, 0.0, 0.2, 0.0, 0.0, 0.7], ['knowledge_4', 0.4, 0.0, 0.2, 0.0, 0.1, 0.0, 0.0], ['knowledge_5', 0.0, 0.6, 0.0, 0.1, 0.0, 0.4, 0.2], ['knowledge_6', 0.3, 0.0, 0.0, 0.0, 0.4, 0.0, 0.6], ['knowledge_7', 0.5, 0.0, 0.7, 0.0, 0.2, 0.6, 0.0]]\n",
      "True\n"
     ]
    }
   ],
   "source": [
    "# 形式の変換を行うプログラム実験\n",
    "\n",
    "# sapnet.pyをインポート\n",
    "from sapnet import sapnet\n",
    "\n",
    "# sapnetクラスのexample_dataframeメソッドを直接呼び出してDataFrameを取得\n",
    "example_data = sapnet.example_data()\n",
    "example_df = sapnet.array4DataFrame(example_data)\n",
    "return_data = sapnet.DataFrame4array(example_df)\n",
    "\n",
    "print(example_data)\n",
    "print(example_df)\n",
    "print(return_data)\n",
    "\n",
    "print(example_data == return_data)"
   ]
  }
 ],
 "metadata": {
  "kernelspec": {
   "display_name": "Python 3",
   "language": "python",
   "name": "python3"
  },
  "language_info": {
   "codemirror_mode": {
    "name": "ipython",
    "version": 3
   },
   "file_extension": ".py",
   "mimetype": "text/x-python",
   "name": "python",
   "nbconvert_exporter": "python",
   "pygments_lexer": "ipython3",
   "version": "3.11.3"
  }
 },
 "nbformat": 4,
 "nbformat_minor": 2
}
