{
 "cells": [
  {
   "cell_type": "markdown",
   "metadata": {},
   "source": [
    "# 単発テスト"
   ]
  },
  {
   "cell_type": "code",
   "execution_count": 4,
   "metadata": {},
   "outputs": [
    {
     "name": "stdout",
     "output_type": "stream",
     "text": [
      "          name  knowledge_1  knowledge_2  knowledge_3  knowledge_4  \\\n",
      "0  knowledge_1     3.578472     0.100000     0.000000     0.400000   \n",
      "1  knowledge_2     0.100000     1.792378     0.400000     0.000000   \n",
      "2  knowledge_3     0.000000     0.400000     1.913405     0.200000   \n",
      "3  knowledge_4     0.400000     0.000000     0.200000     2.325776   \n",
      "4  knowledge_5     0.000000     0.600000     0.000000     0.100000   \n",
      "5  knowledge_6     0.300000     0.000000     0.000000     0.000000   \n",
      "6  knowledge_7     0.500000     0.000000     0.700000     0.000000   \n",
      "\n",
      "   knowledge_5  knowledge_6  knowledge_7  \n",
      "0      0.00000     0.300000     0.500000  \n",
      "1      0.60000     0.000000     0.000000  \n",
      "2      0.00000     0.000000     0.700000  \n",
      "3      0.10000     0.000000     0.000000  \n",
      "4      2.44422     0.400000     0.200000  \n",
      "5      0.40000     3.260299     0.600000  \n",
      "6      0.20000     0.600000     2.681287  \n",
      "          name  knowledge_1  knowledge_2  knowledge_3  knowledge_4  \\\n",
      "0  knowledge_1     3.296647      0.10000     0.000000     0.400000   \n",
      "1  knowledge_2     0.100000      3.34742     0.400000     0.000000   \n",
      "2  knowledge_3     0.000000      0.40000     3.580664     0.200000   \n",
      "3  knowledge_4     0.400000      0.00000     0.200000     1.674953   \n",
      "4  knowledge_5     0.000000      0.60000     0.000000     0.100000   \n",
      "5  knowledge_6     0.300000      0.00000     0.000000     0.000000   \n",
      "6  knowledge_7     0.500000      0.00000     0.700000     0.000000   \n",
      "\n",
      "   knowledge_5  knowledge_6  knowledge_7  \n",
      "0     0.000000     0.300000     0.500000  \n",
      "1     0.600000     0.000000     0.000000  \n",
      "2     0.000000     0.000000     0.700000  \n",
      "3     0.100000     0.000000     0.000000  \n",
      "4     1.986966     0.400000     0.200000  \n",
      "5     0.400000     1.578357     0.600000  \n",
      "6     0.200000     0.600000     2.532629  \n"
     ]
    }
   ],
   "source": [
    "# sapnet.pyをインポート\n",
    "from sapnet import sapnet\n",
    "import random\n",
    "\n",
    "# 計算\n",
    "\n",
    "df = sapnet.example_dataframe()\n",
    "\n",
    "for i in range(100):\n",
    "    df = sapnet.stimulus_calc(df=df,stimulus=random.randint(1, len(df)))\n",
    "    df = sapnet.attenuation(df,0.1)\n",
    "\n",
    "print(df)\n",
    "\n",
    "# 計算\n",
    "df = sapnet.example_dataframe()\n",
    "\n",
    "for i in range(100):\n",
    "    df = sapnet.stimulus_calc(df=df,stimulus=random.randint(1, len(df)))\n",
    "    df = sapnet.attenuation(df,0.1)\n",
    "\n",
    "print(df)\n"
   ]
  },
  {
   "cell_type": "code",
   "execution_count": null,
   "metadata": {},
   "outputs": [],
   "source": [
    "#減衰を使用してプログラムを作成する\n",
    "#sap-netの減衰をなくすとどうなるかの検討をする"
   ]
  },
  {
   "cell_type": "markdown",
   "metadata": {},
   "source": [
    "# 複数テスト"
   ]
  },
  {
   "cell_type": "code",
   "execution_count": 12,
   "metadata": {},
   "outputs": [
    {
     "name": "stdout",
     "output_type": "stream",
     "text": [
      "10\n",
      "[array([32.6940529 , 22.92528769, 25.7412214 , 33.40317428, 31.18163692,\n",
      "       26.44073824, 29.72044598]), array([28.45138335, 26.76144621, 31.58021998, 33.03471179, 34.04355304,\n",
      "       22.04974805, 26.76182666]), array([29.51253287, 27.40664598, 25.2477133 , 32.04682288, 29.77092474,\n",
      "       27.71246362, 30.36405972]), array([30.95004195, 27.0763405 , 24.66147113, 28.9742681 , 36.9928468 ,\n",
      "       25.05655691, 28.07324202]), array([30.20691544, 23.9721846 , 25.17549365, 28.70551731, 30.07025537,\n",
      "       27.57714056, 34.77293275]), array([32.80558848, 30.29481358, 29.98614564, 32.14501076, 27.46901606,\n",
      "       23.50525365, 26.57068254]), array([39.13968087, 26.73793096, 22.78200631, 27.1526176 , 28.35904955,\n",
      "       23.09991257, 33.48558382]), array([27.71438648, 28.78868262, 30.69633761, 32.10699201, 29.45793417,\n",
      "       25.1310465 , 28.43895443]), array([31.17812559, 26.79494014, 25.46488976, 24.95290798, 31.81302659,\n",
      "       28.36070031, 31.67750488]), array([34.36171733, 27.6122237 , 25.07903449, 30.67651487, 34.50548204,\n",
      "       23.20394897, 26.95059677])]\n",
      "7\n",
      "[[32.6940529  28.45138335 29.51253287 30.95004195 30.20691544 32.80558848\n",
      "  39.13968087 27.71438648 31.17812559 34.36171733]\n",
      " [22.92528769 26.76144621 27.40664598 27.0763405  23.9721846  30.29481358\n",
      "  26.73793096 28.78868262 26.79494014 27.6122237 ]\n",
      " [25.7412214  31.58021998 25.2477133  24.66147113 25.17549365 29.98614564\n",
      "  22.78200631 30.69633761 25.46488976 25.07903449]\n",
      " [33.40317428 33.03471179 32.04682288 28.9742681  28.70551731 32.14501076\n",
      "  27.1526176  32.10699201 24.95290798 30.67651487]\n",
      " [31.18163692 34.04355304 29.77092474 36.9928468  30.07025537 27.46901606\n",
      "  28.35904955 29.45793417 31.81302659 34.50548204]\n",
      " [26.44073824 22.04974805 27.71246362 25.05655691 27.57714056 23.50525365\n",
      "  23.09991257 25.1310465  28.36070031 23.20394897]\n",
      " [29.72044598 26.76182666 30.36405972 28.07324202 34.77293275 26.57068254\n",
      "  33.48558382 28.43895443 31.67750488 26.95059677]]\n"
     ]
    },
    {
     "ename": "NameError",
     "evalue": "name 'averaged_lists' is not defined",
     "output_type": "error",
     "traceback": [
      "\u001b[1;31m---------------------------------------------------------------------------\u001b[0m",
      "\u001b[1;31mNameError\u001b[0m                                 Traceback (most recent call last)",
      "\u001b[1;32mc:\\Users\\so12r\\Documents\\intlab\\intlab\\test.ipynb セル 5\u001b[0m line \u001b[0;36m2\n\u001b[0;32m     <a href='vscode-notebook-cell:/c%3A/Users/so12r/Documents/intlab/intlab/test.ipynb#W4sZmlsZQ%3D%3D?line=25'>26</a>\u001b[0m \u001b[39mprint\u001b[39m(\u001b[39mlen\u001b[39m(transposed_line_data))\n\u001b[0;32m     <a href='vscode-notebook-cell:/c%3A/Users/so12r/Documents/intlab/intlab/test.ipynb#W4sZmlsZQ%3D%3D?line=26'>27</a>\u001b[0m \u001b[39mprint\u001b[39m(transposed_line_data)\n\u001b[1;32m---> <a href='vscode-notebook-cell:/c%3A/Users/so12r/Documents/intlab/intlab/test.ipynb#W4sZmlsZQ%3D%3D?line=27'>28</a>\u001b[0m \u001b[39mprint\u001b[39m(averaged_lists)\n",
      "\u001b[1;31mNameError\u001b[0m: name 'averaged_lists' is not defined"
     ]
    }
   ],
   "source": [
    "# sapnet.pyをインポート\n",
    "from sapnet import sapnet\n",
    "import random\n",
    "import numpy as np\n",
    "\n",
    "# 計算\n",
    "#10回の施行を見る\n",
    "line_data = []\n",
    "for j in range(10):\n",
    "    #100回の拡散をランダムで行う\n",
    "    df = sapnet.example_dataframe()\n",
    "\n",
    "    for i in range(100):\n",
    "        df = sapnet.stimulus_calc(df=df,stimulus=random.randint(1, len(df)))\n",
    "        #df = sapnet.attenuation(df,0.1)\n",
    "        diagonal_matrix = np.diag(df.iloc[:, 1:].values)\n",
    "    line_data.append(diagonal_matrix)\n",
    "        \n",
    "print(len(line_data))\n",
    "print(line_data)\n",
    "\n",
    "#行列の転値を求めることにより、それぞれの拡散の値を行列化\n",
    "#行列化したそれぞれの要素を平均し、100回の拡散平均を求めます。\n",
    "transposed_line_data = np.transpose(line_data)\n",
    "\n",
    "print(len(transposed_line_data))\n",
    "print(transposed_line_data)"
   ]
  },
  {
   "cell_type": "code",
   "execution_count": 15,
   "metadata": {},
   "outputs": [
    {
     "name": "stdout",
     "output_type": "stream",
     "text": [
      "10\n",
      "[array([1.        , 0.22620935, 0.1004847 , 0.16758001, 0.14024325,\n",
      "       0.18520456, 0.18551347]), array([0.22344002, 0.1529054 , 0.27291025, 1.        , 0.30161247,\n",
      "       0.09657488, 0.14079006]), array([0.12989773, 0.13720291, 0.11780208, 0.22620935, 1.        ,\n",
      "       0.19566307, 0.20468269]), array([1.        , 0.22620935, 0.1004847 , 0.16758001, 0.14024325,\n",
      "       0.18520456, 0.18551347]), array([0.24693941, 0.08651662, 0.0263217 , 0.09192633, 0.22344002,\n",
      "       1.        , 0.2661156 ]), array([0.30161247, 1.        , 0.22344002, 0.1529054 , 0.18293721,\n",
      "       0.08651662, 0.1257723 ]), array([0.15347088, 0.22344002, 1.        , 0.27291025, 0.15706943,\n",
      "       0.03303727, 0.16552843]), array([0.24693941, 0.08651662, 0.0263217 , 0.09192633, 0.22344002,\n",
      "       1.        , 0.2661156 ]), array([0.24693941, 0.08651662, 0.0263217 , 0.09192633, 0.22344002,\n",
      "       1.        , 0.2661156 ]), array([1.        , 0.22620935, 0.1004847 , 0.16758001, 0.14024325,\n",
      "       0.18520456, 0.18551347])]\n",
      "7\n",
      "[[1.         0.22344002 0.12989773 1.         0.24693941 0.30161247\n",
      "  0.15347088 0.24693941 0.24693941 1.        ]\n",
      " [0.22620935 0.1529054  0.13720291 0.22620935 0.08651662 1.\n",
      "  0.22344002 0.08651662 0.08651662 0.22620935]\n",
      " [0.1004847  0.27291025 0.11780208 0.1004847  0.0263217  0.22344002\n",
      "  1.         0.0263217  0.0263217  0.1004847 ]\n",
      " [0.16758001 1.         0.22620935 0.16758001 0.09192633 0.1529054\n",
      "  0.27291025 0.09192633 0.09192633 0.16758001]\n",
      " [0.14024325 0.30161247 1.         0.14024325 0.22344002 0.18293721\n",
      "  0.15706943 0.22344002 0.22344002 0.14024325]\n",
      " [0.18520456 0.09657488 0.19566307 0.18520456 1.         0.08651662\n",
      "  0.03303727 1.         1.         0.18520456]\n",
      " [0.18551347 0.14079006 0.20468269 0.18551347 0.2661156  0.1257723\n",
      "  0.16552843 0.2661156  0.2661156  0.18551347]]\n",
      "\n",
      "Averaged Lists:\n",
      "[0.45492393185883506, 0.2451726260666578, 0.19945715409614656, 0.24305440319068414, 0.27326689243738067, 0.39674055099506794, 0.19916606780011525]\n",
      "\n",
      "Overall Average:\n",
      "0.28739737520641245\n"
     ]
    }
   ],
   "source": [
    "# sapnet.pyをインポート\n",
    "from sapnet import sapnet\n",
    "import random\n",
    "import numpy as np\n",
    "\n",
    "# 計算\n",
    "# 10回の施行を見る\n",
    "line_data = []\n",
    "for j in range(10):\n",
    "    # 100回の拡散をランダムで行う\n",
    "    df = sapnet.example_dataframe()\n",
    "\n",
    "    for i in range(1):\n",
    "        df = sapnet.stimulus_calc(df=df, stimulus=random.randint(1, len(df)))\n",
    "        # df = sapnet.attenuation(df,0.1)\n",
    "        diagonal_matrix = np.diag(df.iloc[:, 1:].values)\n",
    "    line_data.append(diagonal_matrix)\n",
    "\n",
    "print(len(line_data))\n",
    "print(line_data)\n",
    "\n",
    "# 行列の転置を求めることにより、それぞれの拡散の値を行列化\n",
    "# 行列化したそれぞれの要素を平均し、100回の拡散平均を求めます。\n",
    "transposed_line_data = np.transpose(line_data)\n",
    "\n",
    "print(len(transposed_line_data))\n",
    "print(transposed_line_data)\n",
    "\n",
    "# 各転置行列の平均を算出し、リストに追加\n",
    "averaged_lists = [np.mean(transposed_row) for transposed_row in transposed_line_data]\n",
    "print(\"\\nAveraged Lists:\")\n",
    "print(averaged_lists)\n",
    "\n",
    "# 最後に生成したリストの平均を求めて出力\n",
    "overall_average = np.mean(averaged_lists)\n",
    "print(\"\\nOverall Average:\")\n",
    "print(overall_average)\n"
   ]
  },
  {
   "cell_type": "markdown",
   "metadata": {},
   "source": [
    "指数関数上に増えた場合の各要素の増加量"
   ]
  },
  {
   "cell_type": "code",
   "execution_count": 22,
   "metadata": {},
   "outputs": [
    {
     "name": "stdout",
     "output_type": "stream",
     "text": [
      "[0.3167996143114929, 0.2600566272395689, 0.2475969165127366, 0.2265021015398353, 0.3369861041564412, 0.22505513684380593, 0.37819984206005386],0.28445662038056213\n",
      "[0.6390383012800007, 0.4859913311776847, 0.47025201355930785, 0.6076248678561942, 0.6735496637334372, 0.4916746300750197, 0.6578138029634473],0.5751349443778702\n",
      "[1.203563683772563, 1.082238282003004, 1.0112590200813016, 1.1228694187803347, 1.2364815771384514, 1.0531125755965562, 1.3244566297648672],1.1477115981624397\n",
      "[2.339351590849795, 2.144130404405055, 2.1736735572448556, 2.4466201006092216, 2.5875005919161542, 2.108168218247132, 2.345375512027296],2.3064028536142156\n",
      "[4.974072449678314, 4.476571554706062, 4.417049554745542, 4.758769713310814, 5.1549085744091405, 3.853028372783809, 4.655476186927157],4.612839486651548\n",
      "[10.317564357231042, 8.743207616421317, 8.625089411000307, 9.346460930727343, 9.90112813341392, 8.083745359297172, 9.478028647981214],9.213603493724618\n",
      "[19.6033171867072, 17.25433401881695, 17.257479438083063, 18.72569384541449, 20.154761344590348, 16.816070277285586, 19.124372334595215],18.41943263507041\n",
      "[40.414015449770396, 35.255624951754214, 33.84659239916215, 36.790607395001956, 40.46942578231789, 32.56169695173665, 38.48024083460279],36.83117196633515\n",
      "[81.88074006719667, 70.52013988009654, 67.83203010039102, 73.71488608076355, 80.56353758327614, 65.54896261782989, 75.74023641371404],73.68579039189542\n"
     ]
    },
    {
     "ename": "KeyboardInterrupt",
     "evalue": "",
     "output_type": "error",
     "traceback": [
      "\u001b[1;31m---------------------------------------------------------------------------\u001b[0m",
      "\u001b[1;31mKeyboardInterrupt\u001b[0m                         Traceback (most recent call last)",
      "\u001b[1;32mc:\\Users\\so12r\\Documents\\intlab\\intlab\\test.ipynb セル 8\u001b[0m line \u001b[0;36m1\n\u001b[0;32m     <a href='vscode-notebook-cell:/c%3A/Users/so12r/Documents/intlab/intlab/test.ipynb#X10sZmlsZQ%3D%3D?line=12'>13</a>\u001b[0m df \u001b[39m=\u001b[39m sapnet\u001b[39m.\u001b[39mexample_dataframe()\n\u001b[0;32m     <a href='vscode-notebook-cell:/c%3A/Users/so12r/Documents/intlab/intlab/test.ipynb#X10sZmlsZQ%3D%3D?line=14'>15</a>\u001b[0m \u001b[39mfor\u001b[39;00m i \u001b[39min\u001b[39;00m \u001b[39mrange\u001b[39m(getdata):\n\u001b[1;32m---> <a href='vscode-notebook-cell:/c%3A/Users/so12r/Documents/intlab/intlab/test.ipynb#X10sZmlsZQ%3D%3D?line=15'>16</a>\u001b[0m     df \u001b[39m=\u001b[39m sapnet\u001b[39m.\u001b[39;49mstimulus_calc(df\u001b[39m=\u001b[39;49mdf, stimulus\u001b[39m=\u001b[39;49mrandom\u001b[39m.\u001b[39;49mrandint(\u001b[39m1\u001b[39;49m, \u001b[39mlen\u001b[39;49m(df)))\n\u001b[0;32m     <a href='vscode-notebook-cell:/c%3A/Users/so12r/Documents/intlab/intlab/test.ipynb#X10sZmlsZQ%3D%3D?line=16'>17</a>\u001b[0m     \u001b[39m# df = sapnet.attenuation(df,0.1)\u001b[39;00m\n\u001b[0;32m     <a href='vscode-notebook-cell:/c%3A/Users/so12r/Documents/intlab/intlab/test.ipynb#X10sZmlsZQ%3D%3D?line=17'>18</a>\u001b[0m     diagonal_matrix \u001b[39m=\u001b[39m np\u001b[39m.\u001b[39mdiag(df\u001b[39m.\u001b[39miloc[:, \u001b[39m1\u001b[39m:]\u001b[39m.\u001b[39mvalues)\n",
      "File \u001b[1;32mc:\\Users\\so12r\\Documents\\intlab\\intlab\\sapnet.py:401\u001b[0m, in \u001b[0;36msapnet.stimulus_calc\u001b[1;34m(df, stimulus, first_stimulus_value, debug, graph)\u001b[0m\n\u001b[0;32m    399\u001b[0m     \u001b[39mif\u001b[39;00m graph \u001b[39m==\u001b[39m \u001b[39m1\u001b[39m:\n\u001b[0;32m    400\u001b[0m         plotpoint_list\u001b[39m=\u001b[39msapnet\u001b[39m.\u001b[39mcreate_graph(df,GIF_source_path,plotpoint_list)\n\u001b[1;32m--> 401\u001b[0m     df \u001b[39m=\u001b[39m sapnet\u001b[39m.\u001b[39;49mdf_update(df,stimulus_value,pair[\u001b[39m0\u001b[39;49m],pair[\u001b[39m1\u001b[39;49m])\n\u001b[0;32m    403\u001b[0m \u001b[39mif\u001b[39;00m graph \u001b[39m==\u001b[39m \u001b[39m1\u001b[39m:\n\u001b[0;32m    404\u001b[0m     plotpoint_list\u001b[39m=\u001b[39msapnet\u001b[39m.\u001b[39mcreate_graph(df,GIF_source_path,plotpoint_list)\n",
      "File \u001b[1;32mc:\\Users\\so12r\\Documents\\intlab\\intlab\\sapnet.py:228\u001b[0m, in \u001b[0;36msapnet.df_update\u001b[1;34m(df, stimulus_value, pairA, pairB)\u001b[0m\n\u001b[0;32m    226\u001b[0m col_index \u001b[39m=\u001b[39m pairB  \u001b[39m# 列のインデックス (0から始まる)\u001b[39;00m\n\u001b[0;32m    227\u001b[0m sapnet\u001b[39m.\u001b[39mlogger\u001b[39m.\u001b[39mdebug(\u001b[39m\"\u001b[39m\u001b[39m(9/10)moved from \u001b[39m\u001b[39m%s\u001b[39;00m\u001b[39m to \u001b[39m\u001b[39m%s\u001b[39;00m\u001b[39m adding \u001b[39m\u001b[39m%s\u001b[39;00m\u001b[39m.\u001b[39m\u001b[39m\"\u001b[39m,pairA,pairB,stimulus_value)\n\u001b[1;32m--> 228\u001b[0m df\u001b[39m.\u001b[39;49miloc[row_index\u001b[39m-\u001b[39;49m\u001b[39m1\u001b[39;49m, col_index] \u001b[39m+\u001b[39m\u001b[39m=\u001b[39m stimulus_value\n\u001b[0;32m    229\u001b[0m sapnet\u001b[39m.\u001b[39mlogger\u001b[39m.\u001b[39mdebug(\u001b[39m\"\u001b[39m\u001b[39m(9/10)DataFrame update completed\u001b[39m\u001b[39m\"\u001b[39m)  \u001b[39m# デバッグ情報：データフレームの更新が完了\u001b[39;00m\n\u001b[0;32m    231\u001b[0m \u001b[39mreturn\u001b[39;00m df\n",
      "File \u001b[1;32m~\\AppData\\Roaming\\Python\\Python311\\site-packages\\pandas\\core\\indexing.py:818\u001b[0m, in \u001b[0;36m_LocationIndexer.__setitem__\u001b[1;34m(self, key, value)\u001b[0m\n\u001b[0;32m    815\u001b[0m \u001b[39mself\u001b[39m\u001b[39m.\u001b[39m_has_valid_setitem_indexer(key)\n\u001b[0;32m    817\u001b[0m iloc \u001b[39m=\u001b[39m \u001b[39mself\u001b[39m \u001b[39mif\u001b[39;00m \u001b[39mself\u001b[39m\u001b[39m.\u001b[39mname \u001b[39m==\u001b[39m \u001b[39m\"\u001b[39m\u001b[39miloc\u001b[39m\u001b[39m\"\u001b[39m \u001b[39melse\u001b[39;00m \u001b[39mself\u001b[39m\u001b[39m.\u001b[39mobj\u001b[39m.\u001b[39miloc\n\u001b[1;32m--> 818\u001b[0m iloc\u001b[39m.\u001b[39;49m_setitem_with_indexer(indexer, value, \u001b[39mself\u001b[39;49m\u001b[39m.\u001b[39;49mname)\n",
      "File \u001b[1;32m~\\AppData\\Roaming\\Python\\Python311\\site-packages\\pandas\\core\\indexing.py:1795\u001b[0m, in \u001b[0;36m_iLocIndexer._setitem_with_indexer\u001b[1;34m(self, indexer, value, name)\u001b[0m\n\u001b[0;32m   1792\u001b[0m \u001b[39m# align and set the values\u001b[39;00m\n\u001b[0;32m   1793\u001b[0m \u001b[39mif\u001b[39;00m take_split_path:\n\u001b[0;32m   1794\u001b[0m     \u001b[39m# We have to operate column-wise\u001b[39;00m\n\u001b[1;32m-> 1795\u001b[0m     \u001b[39mself\u001b[39;49m\u001b[39m.\u001b[39;49m_setitem_with_indexer_split_path(indexer, value, name)\n\u001b[0;32m   1796\u001b[0m \u001b[39melse\u001b[39;00m:\n\u001b[0;32m   1797\u001b[0m     \u001b[39mself\u001b[39m\u001b[39m.\u001b[39m_setitem_single_block(indexer, value, name)\n",
      "File \u001b[1;32m~\\AppData\\Roaming\\Python\\Python311\\site-packages\\pandas\\core\\indexing.py:1888\u001b[0m, in \u001b[0;36m_iLocIndexer._setitem_with_indexer_split_path\u001b[1;34m(self, indexer, value, name)\u001b[0m\n\u001b[0;32m   1884\u001b[0m \u001b[39melse\u001b[39;00m:\n\u001b[0;32m   1885\u001b[0m \n\u001b[0;32m   1886\u001b[0m     \u001b[39m# scalar value\u001b[39;00m\n\u001b[0;32m   1887\u001b[0m     \u001b[39mfor\u001b[39;00m loc \u001b[39min\u001b[39;00m ilocs:\n\u001b[1;32m-> 1888\u001b[0m         \u001b[39mself\u001b[39;49m\u001b[39m.\u001b[39;49m_setitem_single_column(loc, value, pi)\n",
      "File \u001b[1;32m~\\AppData\\Roaming\\Python\\Python311\\site-packages\\pandas\\core\\indexing.py:1992\u001b[0m, in \u001b[0;36m_iLocIndexer._setitem_single_column\u001b[1;34m(self, loc, value, plane_indexer)\u001b[0m\n\u001b[0;32m   1988\u001b[0m         value \u001b[39m=\u001b[39m value[pi]\n\u001b[0;32m   1989\u001b[0m \u001b[39melse\u001b[39;00m:\n\u001b[0;32m   1990\u001b[0m     \u001b[39m# set value into the column (first attempting to operate inplace, then\u001b[39;00m\n\u001b[0;32m   1991\u001b[0m     \u001b[39m#  falling back to casting if necessary)\u001b[39;00m\n\u001b[1;32m-> 1992\u001b[0m     \u001b[39mself\u001b[39;49m\u001b[39m.\u001b[39;49mobj\u001b[39m.\u001b[39;49m_mgr\u001b[39m.\u001b[39;49mcolumn_setitem(loc, plane_indexer, value)\n\u001b[0;32m   1993\u001b[0m     \u001b[39mself\u001b[39m\u001b[39m.\u001b[39mobj\u001b[39m.\u001b[39m_clear_item_cache()\n\u001b[0;32m   1994\u001b[0m     \u001b[39mreturn\u001b[39;00m\n",
      "File \u001b[1;32m~\\AppData\\Roaming\\Python\\Python311\\site-packages\\pandas\\core\\internals\\managers.py:1392\u001b[0m, in \u001b[0;36mBlockManager.column_setitem\u001b[1;34m(self, loc, idx, value, inplace)\u001b[0m\n\u001b[0;32m   1390\u001b[0m \u001b[39melse\u001b[39;00m:\n\u001b[0;32m   1391\u001b[0m     new_mgr \u001b[39m=\u001b[39m col_mgr\u001b[39m.\u001b[39msetitem((idx,), value)\n\u001b[1;32m-> 1392\u001b[0m     \u001b[39mself\u001b[39;49m\u001b[39m.\u001b[39;49miset(loc, new_mgr\u001b[39m.\u001b[39;49m_block\u001b[39m.\u001b[39;49mvalues, inplace\u001b[39m=\u001b[39;49m\u001b[39mTrue\u001b[39;49;00m)\n",
      "File \u001b[1;32m~\\AppData\\Roaming\\Python\\Python311\\site-packages\\pandas\\core\\internals\\managers.py:1259\u001b[0m, in \u001b[0;36mBlockManager.iset\u001b[1;34m(self, loc, value, inplace)\u001b[0m\n\u001b[0;32m   1257\u001b[0m         \u001b[39mself\u001b[39m\u001b[39m.\u001b[39m_clear_reference_block(blkno_l)\n\u001b[0;32m   1258\u001b[0m     \u001b[39melse\u001b[39;00m:\n\u001b[1;32m-> 1259\u001b[0m         blk\u001b[39m.\u001b[39mset_inplace(blk_locs, value_getitem(val_locs))\n\u001b[0;32m   1260\u001b[0m \u001b[39melse\u001b[39;00m:\n\u001b[0;32m   1261\u001b[0m     unfit_mgr_locs\u001b[39m.\u001b[39mappend(blk\u001b[39m.\u001b[39mmgr_locs\u001b[39m.\u001b[39mas_array[blk_locs])\n",
      "\u001b[1;31mKeyboardInterrupt\u001b[0m: "
     ]
    }
   ],
   "source": [
    "# sapnet.pyをインポート\n",
    "from sapnet import sapnet\n",
    "import random\n",
    "import numpy as np\n",
    "\n",
    "# 計算\n",
    "getdatas=[1,2,4,8,16,32,64,128,256,512,1024]\n",
    "for getdata in getdatas:\n",
    "    # 10回の施行を見る\n",
    "    line_data = []\n",
    "    for j in range(100):\n",
    "        # 100回の拡散をランダムで行う\n",
    "        df = sapnet.example_dataframe()\n",
    "\n",
    "        for i in range(getdata):\n",
    "            df = sapnet.stimulus_calc(df=df, stimulus=random.randint(1, len(df)))\n",
    "            # df = sapnet.attenuation(df,0.1)\n",
    "            diagonal_matrix = np.diag(df.iloc[:, 1:].values)\n",
    "        line_data.append(diagonal_matrix)\n",
    "\n",
    "    #print(len(line_data))\n",
    "    #print(line_data)\n",
    "\n",
    "    # 行列の転置を求めることにより、それぞれの拡散の値を行列化\n",
    "    # 行列化したそれぞれの要素を平均し、100回の拡散平均を求めます。\n",
    "    transposed_line_data = np.transpose(line_data)\n",
    "\n",
    "    #print(len(transposed_line_data))\n",
    "    #print(transposed_line_data)\n",
    "\n",
    "    # 各転置行列の平均を算出し、リストに追加\n",
    "    averaged_lists = [np.mean(transposed_row) for transposed_row in transposed_line_data]\n",
    "    #print(\"\\nAveraged Lists:\")\n",
    "    #print(averaged_lists)\n",
    "\n",
    "    # 最後に生成したリストの平均を求めて出力\n",
    "    overall_average = np.mean(averaged_lists)\n",
    "    print(\"{},{}\".format(averaged_lists, overall_average))"
   ]
  }
 ],
 "metadata": {
  "kernelspec": {
   "display_name": "Python 3",
   "language": "python",
   "name": "python3"
  },
  "language_info": {
   "codemirror_mode": {
    "name": "ipython",
    "version": 3
   },
   "file_extension": ".py",
   "mimetype": "text/x-python",
   "name": "python",
   "nbconvert_exporter": "python",
   "pygments_lexer": "ipython3",
   "version": "3.11.4"
  }
 },
 "nbformat": 4,
 "nbformat_minor": 2
}
