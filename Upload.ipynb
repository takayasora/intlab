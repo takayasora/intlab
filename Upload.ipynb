{
 "cells": [
  {
   "cell_type": "markdown",
   "metadata": {},
   "source": [
    "ライブラリのアップロード方法です。"
   ]
  },
  {
   "cell_type": "code",
   "execution_count": 1,
   "metadata": {},
   "outputs": [
    {
     "name": "stdout",
     "output_type": "stream",
     "text": [
      "Defaulting to user installation because normal site-packages is not writeable\n",
      "Requirement already satisfied: setuptools in c:\\program files\\python311\\lib\\site-packages (65.5.0)\n",
      "Defaulting to user installation because normal site-packages is not writeable\n",
      "Requirement already satisfied: twine in c:\\users\\so12r\\appdata\\roaming\\python\\python311\\site-packages (4.0.2)\n",
      "Requirement already satisfied: pkginfo>=1.8.1 in c:\\users\\so12r\\appdata\\roaming\\python\\python311\\site-packages (from twine) (1.9.6)\n",
      "Requirement already satisfied: readme-renderer>=35.0 in c:\\users\\so12r\\appdata\\roaming\\python\\python311\\site-packages (from twine) (42.0)\n",
      "Requirement already satisfied: requests>=2.20 in c:\\users\\so12r\\appdata\\roaming\\python\\python311\\site-packages (from twine) (2.28.2)\n",
      "Requirement already satisfied: requests-toolbelt!=0.9.0,>=0.8.0 in c:\\users\\so12r\\appdata\\roaming\\python\\python311\\site-packages (from twine) (1.0.0)\n",
      "Requirement already satisfied: urllib3>=1.26.0 in c:\\users\\so12r\\appdata\\roaming\\python\\python311\\site-packages (from twine) (1.26.16)\n",
      "Requirement already satisfied: importlib-metadata>=3.6 in c:\\users\\so12r\\appdata\\roaming\\python\\python311\\site-packages (from twine) (6.8.0)\n",
      "Requirement already satisfied: keyring>=15.1 in c:\\users\\so12r\\appdata\\roaming\\python\\python311\\site-packages (from twine) (24.2.0)\n",
      "Requirement already satisfied: rfc3986>=1.4.0 in c:\\users\\so12r\\appdata\\roaming\\python\\python311\\site-packages (from twine) (2.0.0)\n",
      "Requirement already satisfied: rich>=12.0.0 in c:\\users\\so12r\\appdata\\roaming\\python\\python311\\site-packages (from twine) (13.5.2)\n",
      "Requirement already satisfied: zipp>=0.5 in c:\\users\\so12r\\appdata\\roaming\\python\\python311\\site-packages (from importlib-metadata>=3.6->twine) (3.16.2)\n",
      "Requirement already satisfied: jaraco.classes in c:\\users\\so12r\\appdata\\roaming\\python\\python311\\site-packages (from keyring>=15.1->twine) (3.3.0)\n",
      "Requirement already satisfied: pywin32-ctypes>=0.2.0 in c:\\users\\so12r\\appdata\\roaming\\python\\python311\\site-packages (from keyring>=15.1->twine) (0.2.2)\n",
      "Requirement already satisfied: nh3>=0.2.14 in c:\\users\\so12r\\appdata\\roaming\\python\\python311\\site-packages (from readme-renderer>=35.0->twine) (0.2.14)\n",
      "Requirement already satisfied: docutils>=0.13.1 in c:\\users\\so12r\\appdata\\roaming\\python\\python311\\site-packages (from readme-renderer>=35.0->twine) (0.20.1)\n",
      "Requirement already satisfied: Pygments>=2.5.1 in c:\\users\\so12r\\appdata\\roaming\\python\\python311\\site-packages (from readme-renderer>=35.0->twine) (2.16.1)\n",
      "Requirement already satisfied: charset-normalizer<4,>=2 in c:\\users\\so12r\\appdata\\roaming\\python\\python311\\site-packages (from requests>=2.20->twine) (3.2.0)\n",
      "Requirement already satisfied: idna<4,>=2.5 in c:\\users\\so12r\\appdata\\roaming\\python\\python311\\site-packages (from requests>=2.20->twine) (3.4)\n",
      "Requirement already satisfied: certifi>=2017.4.17 in c:\\users\\so12r\\appdata\\roaming\\python\\python311\\site-packages (from requests>=2.20->twine) (2023.7.22)\n",
      "Requirement already satisfied: markdown-it-py>=2.2.0 in c:\\users\\so12r\\appdata\\roaming\\python\\python311\\site-packages (from rich>=12.0.0->twine) (3.0.0)\n",
      "Requirement already satisfied: mdurl~=0.1 in c:\\users\\so12r\\appdata\\roaming\\python\\python311\\site-packages (from markdown-it-py>=2.2.0->rich>=12.0.0->twine) (0.1.2)\n",
      "Requirement already satisfied: more-itertools in c:\\users\\so12r\\appdata\\roaming\\python\\python311\\site-packages (from jaraco.classes->keyring>=15.1->twine) (10.1.0)\n",
      "Defaulting to user installation because normal site-packages is not writeable\n",
      "Requirement already satisfied: wheel in c:\\users\\so12r\\appdata\\roaming\\python\\python311\\site-packages (0.41.3)\n"
     ]
    }
   ],
   "source": [
    "!pip install setuptools\n",
    "!pip install twine\n",
    "!pip install wheel"
   ]
  },
  {
   "cell_type": "code",
   "execution_count": 2,
   "metadata": {},
   "outputs": [
    {
     "name": "stderr",
     "output_type": "stream",
     "text": [
      "Traceback (most recent call last):\n",
      "  File \"c:\\Users\\so12r\\Documents\\intlab\\setup.py\", line 55, in <module>\n",
      "    install_requires=INSTALL_REQUIRES,\n",
      "                     ^^^^^^^^^^^^^^^^\n",
      "NameError: name 'INSTALL_REQUIRES' is not defined\n",
      "Traceback (most recent call last):\n",
      "  File \"c:\\Users\\so12r\\Documents\\intlab\\setup.py\", line 55, in <module>\n",
      "    install_requires=INSTALL_REQUIRES,\n",
      "                     ^^^^^^^^^^^^^^^^\n",
      "NameError: name 'INSTALL_REQUIRES' is not defined\n"
     ]
    }
   ],
   "source": [
    "!python setup.py sdist\n",
    "!python setup.py bdist_wheel"
   ]
  },
  {
   "cell_type": "code",
   "execution_count": 3,
   "metadata": {},
   "outputs": [
    {
     "name": "stdout",
     "output_type": "stream",
     "text": [
      "Uploading distributions to https://test.pypi.org/legacy/\n",
      "Uploading intlab-0.0.3-py3-none-any.whl\n",
      "\n",
      "  0% ---------------------------------------- 0.0/7.7 kB • --:-- • ?\n",
      "100% ---------------------------------------- 7.7/7.7 kB • 00:00 • ?\n",
      "100% ---------------------------------------- 7.7/7.7 kB • 00:00 • ?\n",
      "100% ---------------------------------------- 7.7/7.7 kB • 00:00 • ?\n",
      "100% ---------------------------------------- 7.7/7.7 kB • 00:00 • ?\n",
      "100% ---------------------------------------- 7.7/7.7 kB • 00:00 • ?\n",
      "100% ---------------------------------------- 7.7/7.7 kB • 00:00 • ?\n",
      "100% ---------------------------------------- 7.7/7.7 kB • 00:00 • ?\n",
      "Uploading intlab-0.0.3.tar.gz\n",
      "\n",
      "  0% ---------------------------------------- 0.0/7.2 kB • --:-- • ?\n",
      "100% ---------------------------------------- 7.2/7.2 kB • 00:00 • ?\n",
      "100% ---------------------------------------- 7.2/7.2 kB • 00:00 • ?\n",
      "100% ---------------------------------------- 7.2/7.2 kB • 00:00 • ?\n",
      "100% ---------------------------------------- 7.2/7.2 kB • 00:00 • ?\n",
      "100% ---------------------------------------- 7.2/7.2 kB • 00:00 • ?\n",
      "\n",
      "View at:\n",
      "https://test.pypi.org/project/intlab/0.0.3/\n"
     ]
    }
   ],
   "source": [
    "!twine upload --repository testpypi dist/*"
   ]
  },
  {
   "cell_type": "markdown",
   "metadata": {},
   "source": [
    "下記の文章が表示されていることを確認します。\n",
    "View at:<br>\n",
    "https://test.pypi.org/project/[ライブラリ名]/[バージョン数]/"
   ]
  },
  {
   "cell_type": "markdown",
   "metadata": {},
   "source": [
    "テスト用PyPIからpipでライブラリインストールを確認"
   ]
  },
  {
   "cell_type": "code",
   "execution_count": 4,
   "metadata": {},
   "outputs": [
    {
     "name": "stdout",
     "output_type": "stream",
     "text": [
      "Defaulting to user installation because normal site-packages is not writeable\n",
      "Looking in indexes: https://test.pypi.org/simple/\n",
      "Collecting intlab\n",
      "  Downloading https://test-files.pythonhosted.org/packages/f2/53/0f2863ea6e37e7286bd6b2cb859953b8e76819eb498d13e828e9aa457f3d/intlab-0.0.3-py3-none-any.whl.metadata (1.3 kB)\n",
      "Requirement already satisfied: pandas>=1.2.4 in c:\\users\\so12r\\appdata\\roaming\\python\\python311\\site-packages (from intlab) (1.5.3)\n",
      "Requirement already satisfied: matplotlib>=3.3.4 in c:\\users\\so12r\\appdata\\roaming\\python\\python311\\site-packages (from intlab) (3.8.0)\n",
      "Requirement already satisfied: contourpy>=1.0.1 in c:\\users\\so12r\\appdata\\roaming\\python\\python311\\site-packages (from matplotlib>=3.3.4->intlab) (1.1.1)\n",
      "Requirement already satisfied: cycler>=0.10 in c:\\users\\so12r\\appdata\\roaming\\python\\python311\\site-packages (from matplotlib>=3.3.4->intlab) (0.11.0)\n",
      "Requirement already satisfied: fonttools>=4.22.0 in c:\\users\\so12r\\appdata\\roaming\\python\\python311\\site-packages (from matplotlib>=3.3.4->intlab) (4.42.1)\n",
      "Requirement already satisfied: kiwisolver>=1.0.1 in c:\\users\\so12r\\appdata\\roaming\\python\\python311\\site-packages (from matplotlib>=3.3.4->intlab) (1.4.5)\n",
      "Requirement already satisfied: numpy<2,>=1.21 in c:\\users\\so12r\\appdata\\roaming\\python\\python311\\site-packages (from matplotlib>=3.3.4->intlab) (1.25.2)\n",
      "Requirement already satisfied: packaging>=20.0 in c:\\users\\so12r\\appdata\\roaming\\python\\python311\\site-packages (from matplotlib>=3.3.4->intlab) (23.1)\n",
      "Requirement already satisfied: pillow>=6.2.0 in c:\\users\\so12r\\appdata\\roaming\\python\\python311\\site-packages (from matplotlib>=3.3.4->intlab) (10.0.0)\n",
      "Requirement already satisfied: pyparsing>=2.3.1 in c:\\users\\so12r\\appdata\\roaming\\python\\python311\\site-packages (from matplotlib>=3.3.4->intlab) (3.1.1)\n",
      "Requirement already satisfied: python-dateutil>=2.7 in c:\\users\\so12r\\appdata\\roaming\\python\\python311\\site-packages (from matplotlib>=3.3.4->intlab) (2.8.2)\n",
      "Requirement already satisfied: pytz>=2020.1 in c:\\users\\so12r\\appdata\\roaming\\python\\python311\\site-packages (from pandas>=1.2.4->intlab) (2023.3)\n",
      "Requirement already satisfied: six>=1.5 in c:\\users\\so12r\\appdata\\roaming\\python\\python311\\site-packages (from python-dateutil>=2.7->matplotlib>=3.3.4->intlab) (1.16.0)\n",
      "Downloading https://test-files.pythonhosted.org/packages/f2/53/0f2863ea6e37e7286bd6b2cb859953b8e76819eb498d13e828e9aa457f3d/intlab-0.0.3-py3-none-any.whl (2.7 kB)\n",
      "Installing collected packages: intlab\n",
      "Successfully installed intlab-0.0.3\n"
     ]
    }
   ],
   "source": [
    "!pip install -i https://test.pypi.org/simple/ intlab"
   ]
  },
  {
   "cell_type": "code",
   "execution_count": 5,
   "metadata": {},
   "outputs": [
    {
     "name": "stdout",
     "output_type": "stream",
     "text": [
      "Name: intlab\n",
      "Version: 0.0.3\n",
      "Summary: IISL: SAP-net\n",
      "Home-page: https://github.com/takayasora/intlab\n",
      "Author: Sora Takaya\n",
      "Author-email: so12ra16@outlook.jp\n",
      "License: MIT License\n",
      "Location: C:\\Users\\so12r\\AppData\\Roaming\\Python\\Python311\\site-packages\n",
      "Requires: matplotlib, pandas\n",
      "Required-by: \n"
     ]
    }
   ],
   "source": [
    "!pip show intlab"
   ]
  },
  {
   "cell_type": "code",
   "execution_count": 6,
   "metadata": {},
   "outputs": [
    {
     "name": "stdout",
     "output_type": "stream",
     "text": [
      "8\n",
      "8\n",
      "24\n",
      "4.0\n",
      "割る数は0にできません\n"
     ]
    }
   ],
   "source": [
    "import intlab\n",
    "\n",
    "calculator = intlab.calc\n",
    "\n",
    "# 例として、各関数を使用する方法\n",
    "result = calculator.add(5, 3)  # 5 + 3 を計算\n",
    "print(result)  # 出力は 8\n",
    "\n",
    "result = calculator.subtract(10, 2)  # 10 - 2 を計算\n",
    "print(result)  # 出力は 8\n",
    "\n",
    "result = calculator.multiply(6, 4)  # 6 * 4 を計算\n",
    "print(result)  # 出力は 24\n",
    "\n",
    "result = calculator.divide(8, 2)  # 8 / 2 を計算\n",
    "print(result)  # 出力は 4\n",
    "\n",
    "result = calculator.divide(6, 0)  # ゼロで割ることはできません\n",
    "print(result)  # 出力は \"割る数は0にできません。\""
   ]
  },
  {
   "cell_type": "code",
   "execution_count": 7,
   "metadata": {},
   "outputs": [
    {
     "name": "stdout",
     "output_type": "stream",
     "text": [
      "^C\n"
     ]
    }
   ],
   "source": [
    "!pip uninstall intlab"
   ]
  },
  {
   "cell_type": "code",
   "execution_count": null,
   "metadata": {},
   "outputs": [],
   "source": [
    "!pip list"
   ]
  },
  {
   "cell_type": "code",
   "execution_count": 11,
   "metadata": {},
   "outputs": [
    {
     "name": "stdout",
     "output_type": "stream",
     "text": [
      "Uploading distributions to https://test.pypi.org/legacy/\n",
      "Uploading intlab-0.0.3-py3-none-any.whl\n",
      "\n",
      "  0% ---------------------------------------- 0.0/7.7 kB • --:-- • ?\n",
      "100% ---------------------------------------- 7.7/7.7 kB • 00:00 • ?\n",
      "100% ---------------------------------------- 7.7/7.7 kB • 00:00 • ?\n",
      "100% ---------------------------------------- 7.7/7.7 kB • 00:00 • ?\n",
      "100% ---------------------------------------- 7.7/7.7 kB • 00:00 • ?\n",
      "100% ---------------------------------------- 7.7/7.7 kB • 00:00 • ?\n",
      "100% ---------------------------------------- 7.7/7.7 kB • 00:00 • ?\n",
      "100% ---------------------------------------- 7.7/7.7 kB • 00:00 • ?\n",
      "Uploading intlab-0.0.3.tar.gz\n",
      "\n",
      "  0% ---------------------------------------- 0.0/7.2 kB • --:-- • ?\n",
      "100% ---------------------------------------- 7.2/7.2 kB • 00:00 • ?\n",
      "100% ---------------------------------------- 7.2/7.2 kB • 00:00 • ?\n",
      "100% ---------------------------------------- 7.2/7.2 kB • 00:00 • ?\n",
      "100% ---------------------------------------- 7.2/7.2 kB • 00:00 • ?\n",
      "100% ---------------------------------------- 7.2/7.2 kB • 00:00 • ?\n",
      "100% ---------------------------------------- 7.2/7.2 kB • 00:00 • ?\n",
      "100% ---------------------------------------- 7.2/7.2 kB • 00:00 • ?\n",
      "\n",
      "View at:\n",
      "https://test.pypi.org/project/intlab/0.0.3/\n"
     ]
    }
   ],
   "source": [
    "!twine upload --repository testpypi dist/*"
   ]
  },
  {
   "cell_type": "code",
   "execution_count": 10,
   "metadata": {},
   "outputs": [
    {
     "name": "stdout",
     "output_type": "stream",
     "text": [
      "^C\n"
     ]
    }
   ],
   "source": [
    "!twine upload --repository pypi dist/*"
   ]
  }
 ],
 "metadata": {
  "kernelspec": {
   "display_name": "Python 3",
   "language": "python",
   "name": "python3"
  },
  "language_info": {
   "codemirror_mode": {
    "name": "ipython",
    "version": 3
   },
   "file_extension": ".py",
   "mimetype": "text/x-python",
   "name": "python",
   "nbconvert_exporter": "python",
   "pygments_lexer": "ipython3",
   "version": "3.11.4"
  }
 },
 "nbformat": 4,
 "nbformat_minor": 2
}
