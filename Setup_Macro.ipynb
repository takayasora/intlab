{
 "cells": [
  {
   "cell_type": "markdown",
   "metadata": {},
   "source": [
    "# Line受け取りセットアップ"
   ]
  },
  {
   "cell_type": "code",
   "execution_count": 2,
   "metadata": {},
   "outputs": [
    {
     "ename": "ModuleNotFoundError",
     "evalue": "No module named 'dotenv'",
     "output_type": "error",
     "traceback": [
      "\u001b[1;31m---------------------------------------------------------------------------\u001b[0m",
      "\u001b[1;31mModuleNotFoundError\u001b[0m                       Traceback (most recent call last)",
      "\u001b[1;32mc:\\Users\\DE\\Documents\\Github\\intlab\\Setup_Macro.ipynb セル 2\u001b[0m line \u001b[0;36m1\n\u001b[1;32m----> <a href='vscode-notebook-cell:/c%3A/Users/DE/Documents/Github/intlab/Setup_Macro.ipynb#W4sZmlsZQ%3D%3D?line=0'>1</a>\u001b[0m \u001b[39mfrom\u001b[39;00m \u001b[39mintlab\u001b[39;00m \u001b[39mimport\u001b[39;00m sapnet\n\u001b[0;32m      <a href='vscode-notebook-cell:/c%3A/Users/DE/Documents/Github/intlab/Setup_Macro.ipynb#W4sZmlsZQ%3D%3D?line=2'>3</a>\u001b[0m sapnet\u001b[39m.\u001b[39mfirstsetup()\n",
      "File \u001b[1;32mc:\\Users\\DE\\Documents\\Github\\intlab\\intlab\\__init__.py:1\u001b[0m\n\u001b[1;32m----> 1\u001b[0m \u001b[39mfrom\u001b[39;00m \u001b[39m.\u001b[39;00m\u001b[39msapnet\u001b[39;00m \u001b[39mimport\u001b[39;00m \u001b[39m*\u001b[39m\n\u001b[0;32m      3\u001b[0m __version__ \u001b[39m=\u001b[39m \u001b[39m'\u001b[39m\u001b[39m1.3.0\u001b[39m\u001b[39m'\u001b[39m\n\u001b[0;32m      5\u001b[0m \u001b[39m\"\"\"\u001b[39;00m\n\u001b[0;32m      6\u001b[0m \u001b[39mVersion 0.0.5\u001b[39;00m\n\u001b[0;32m      7\u001b[0m \u001b[39mVersion 0.0.6\u001b[39;00m\n\u001b[1;32m   (...)\u001b[0m\n\u001b[0;32m     15\u001b[0m \u001b[39mVersion 0.3.0\u001b[39;00m\n\u001b[0;32m     16\u001b[0m \u001b[39m\"\"\"\u001b[39;00m\n",
      "File \u001b[1;32mc:\\Users\\DE\\Documents\\Github\\intlab\\intlab\\sapnet.py:13\u001b[0m\n\u001b[0;32m     11\u001b[0m \u001b[39mimport\u001b[39;00m \u001b[39mlogging\u001b[39;00m\n\u001b[0;32m     12\u001b[0m \u001b[39mimport\u001b[39;00m \u001b[39mrequests\u001b[39;00m\n\u001b[1;32m---> 13\u001b[0m \u001b[39mfrom\u001b[39;00m \u001b[39mdotenv\u001b[39;00m \u001b[39mimport\u001b[39;00m load_dotenv\n\u001b[0;32m     16\u001b[0m \u001b[39mclass\u001b[39;00m \u001b[39msapnet\u001b[39;00m():\n\u001b[0;32m     17\u001b[0m     \u001b[39m# ログの設定\u001b[39;00m\n\u001b[0;32m     18\u001b[0m     logging\u001b[39m.\u001b[39mbasicConfig(level\u001b[39m=\u001b[39mlogging\u001b[39m.\u001b[39mINFO)\n",
      "\u001b[1;31mModuleNotFoundError\u001b[0m: No module named 'dotenv'"
     ]
    }
   ],
   "source": [
    "import intlab\n",
    "\n",
    "sapnet = intlab.sapnet\n",
    "\n",
    "sapnet.setup"
   ]
  },
  {
   "cell_type": "markdown",
   "metadata": {},
   "source": [
    "Webページのアップデートバッチマクロ"
   ]
  },
  {
   "cell_type": "code",
   "execution_count": 4,
   "metadata": {},
   "outputs": [
    {
     "name": "stdout",
     "output_type": "stream",
     "text": [
      "\n",
      "removed 34 packages, and audited 327 packages in 8s\n",
      "\n",
      "21 packages are looking for funding\n",
      "  run `npm fund` for details\n",
      "\n",
      "15 vulnerabilities (11 moderate, 4 high)\n",
      "\n",
      "To address issues that do not require attention, run:\n",
      "  npm audit fix\n",
      "\n",
      "To address all issues (including breaking changes), run:\n",
      "  npm audit fix --force\n",
      "\n",
      "Run `npm audit` for details.\n",
      "\n",
      "> honkit-base@1.0.0 build\n",
      "> honkit build base docs\n",
      "\n",
      "\u001b[0;36minfo:\u001b[0m 10 plugins are installed \n",
      "\u001b[0;36minfo:\u001b[0m 10 explicitly listed \n",
      "\u001b[0;36minfo:\u001b[0m plugin \"anchors\" is loaded\n",
      "\u001b[0;36minfo:\u001b[0m plugin \"hide-published-with\" is loaded\n",
      "\u001b[0;36minfo:\u001b[0m plugin \"copy-code-button\" is loaded\n",
      "\u001b[0;36minfo:\u001b[0m plugin \"intopic-toc\" is loaded\n",
      "\u001b[0;36minfo:\u001b[0m plugin \"back-to-top-button\" is loaded\n",
      "\u001b[0;36minfo:\u001b[0m plugin \"highlight\" is loaded\n",
      "\u001b[0;36minfo:\u001b[0m plugin \"search\" is loaded\n",
      "\u001b[0;36minfo:\u001b[0m plugin \"lunr\" is loaded\n",
      "\u001b[0;36minfo:\u001b[0m plugin \"fontsettings\" is loaded\n",
      "\u001b[0;36minfo:\u001b[0m plugin \"theme-default\" is loaded\n",
      "\u001b[0;36minfo:\u001b[0m found 10 pages \n",
      "\u001b[0;36minfo:\u001b[0m found 4 asset files \n",
      "\u001b[0;36minfo:\u001b[0m \u001b[0;32m>> \u001b[0mgeneration finished with success in 0.7s ! \n"
     ]
    },
    {
     "name": "stderr",
     "output_type": "stream",
     "text": [
      "(node:19032) [DEP0040] DeprecationWarning: The `punycode` module is deprecated. Please use a userland alternative instead.\n",
      "(Use `node --trace-deprecation ...` to show where the warning was created)\n",
      "(node:19032) [DEP0147] DeprecationWarning: In future versions of Node.js, fs.rmdir(path, { recursive: true }) will be removed. Use fs.rm(path, { recursive: true }) instead\n",
      "Could not find the language 'npm', did you forget to load/include a language module?\n",
      "Error: Unknown language: \"npm\"\n",
      "    at _highlight \u001b[90m(c:\\Users\\yuuki\\OneDrive\\ドキュメント\\GitHub\\intlab\\\u001b[39mnode_modules\\\u001b[4mhighlight.js\u001b[24m\\lib\\core.js:1972:13\u001b[90m)\u001b[39m\n",
      "    at Object.highlight \u001b[90m(c:\\Users\\yuuki\\OneDrive\\ドキュメント\\GitHub\\intlab\\\u001b[39mnode_modules\\\u001b[4mhighlight.js\u001b[24m\\lib\\core.js:1626:9\u001b[90m)\u001b[39m\n",
      "    at highlight \u001b[90m(c:\\Users\\yuuki\\OneDrive\\ドキュメント\\GitHub\\intlab\\\u001b[39mnode_modules\\\u001b[4m@honkit\u001b[24m\\honkit-plugin-highlight\\index.js:36:21\u001b[90m)\u001b[39m\n",
      "    at Object.code \u001b[90m(c:\\Users\\yuuki\\OneDrive\\ドキュメント\\GitHub\\intlab\\\u001b[39mnode_modules\\\u001b[4m@honkit\u001b[24m\\honkit-plugin-highlight\\index.js:60:20\u001b[90m)\u001b[39m\n",
      "    at TemplateBlock.applyBlock \u001b[90m(c:\\Users\\yuuki\\OneDrive\\ドキュメント\\GitHub\\intlab\\\u001b[39mnode_modules\\\u001b[4mhonkit\u001b[24m\\lib\\models\\templateBlock.js:163:29\u001b[90m)\u001b[39m\n",
      "    at \u001b[90mc:\\Users\\yuuki\\OneDrive\\ドキュメント\\GitHub\\intlab\\\u001b[39mnode_modules\\\u001b[4mhonkit\u001b[24m\\lib\\output\\getModifiers.js:47:48\n",
      "    at \u001b[90mc:\\Users\\yuuki\\OneDrive\\ドキュメント\\GitHub\\intlab\\\u001b[39mnode_modules\\\u001b[4mhonkit\u001b[24m\\lib\\output\\modifiers\\highlightCode.js:49:39\n",
      "    at \u001b[90mc:\\Users\\yuuki\\OneDrive\\ドキュメント\\GitHub\\intlab\\\u001b[39mnode_modules\\\u001b[4mhonkit\u001b[24m\\lib\\output\\modifiers\\editHTMLElement.js:14:16\n",
      "    at \u001b[90mc:\\Users\\yuuki\\OneDrive\\ドキュメント\\GitHub\\intlab\\\u001b[39mnode_modules\\\u001b[4mhonkit\u001b[24m\\lib\\utils\\promise.js:40:16\n",
      "    at \u001b[90mc:\\Users\\yuuki\\OneDrive\\ドキュメント\\GitHub\\intlab\\\u001b[39mnode_modules\\\u001b[4mhonkit\u001b[24m\\lib\\utils\\promise.js:25:20\n"
     ]
    }
   ],
   "source": [
    "!npm i\n",
    "!npm run build"
   ]
  },
  {
   "cell_type": "code",
   "execution_count": null,
   "metadata": {},
   "outputs": [],
   "source": []
  }
 ],
 "metadata": {
  "kernelspec": {
   "display_name": "Python 3",
   "language": "python",
   "name": "python3"
  },
  "language_info": {
   "codemirror_mode": {
    "name": "ipython",
    "version": 3
   },
   "file_extension": ".py",
   "mimetype": "text/x-python",
   "name": "python",
   "nbconvert_exporter": "python",
   "pygments_lexer": "ipython3",
   "version": "3.11.3"
  },
  "polyglot_notebook": {
   "kernelInfo": {
    "defaultKernelName": "csharp",
    "items": [
     {
      "aliases": [],
      "name": "csharp"
     }
    ]
   }
  }
 },
 "nbformat": 4,
 "nbformat_minor": 2
}
