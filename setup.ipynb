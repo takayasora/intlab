{
 "cells": [
  {
   "cell_type": "code",
   "execution_count": 2,
   "metadata": {},
   "outputs": [
    {
     "name": "stdout",
     "output_type": "stream",
     "text": [
      ".gitignore ファイルが作成され、内容が書き込まれました。\n"
     ]
    }
   ],
   "source": [
    "import os\n",
    "\n",
    "\n",
    "\n"
   ]
  },
  {
   "cell_type": "code",
   "execution_count": 5,
   "metadata": {},
   "outputs": [
    {
     "name": "stdout",
     "output_type": "stream",
     "text": [
      ".env ファイルが作成され、内容が書き込まれました。\n"
     ]
    }
   ],
   "source": [
    "def create_env_file():\n",
    "    env_path = '.env'\n",
    "\n",
    "    # .env ファイルの内容\n",
    "    env_content = [\n",
    "        \"LINE_NOTIFY_TOKEN=\",\n",
    "        \"DATABASE_URL=your_database_url\",\n",
    "        \"API_KEY=your_api_key\"\n",
    "    ]\n",
    "\n",
    "    # 既に .env ファイルが存在する場合は処理を停止\n",
    "    if os.path.exists(env_path):\n",
    "        print(f\"{env_path} ファイルは既に存在しています。処理を停止します。\")\n",
    "        return\n",
    "\n",
    "    try:\n",
    "        # .env ファイルを作成し、内容を書き込む\n",
    "        with open(env_path, 'w') as env_file:\n",
    "            # 最初の行だけ入力を促す\n",
    "            first_line = env_content[0]\n",
    "            user_input = input(f\"Enter value for {first_line.split('=')[0]}: \")\n",
    "            env_file.write(f\"{first_line}{user_input}\\n\")\n",
    "\n",
    "            # 残りの行は元の内容を書き込む\n",
    "            for line in env_content[1:]:\n",
    "                env_file.write(f\"{line}\\n\")\n",
    "\n",
    "        print(f\"{env_path} ファイルが作成され、内容が書き込まれました。\")\n",
    "    except Exception as e:\n",
    "        print(f\"エラー: {e}\")\n",
    "\n",
    "# 関数を呼び出して .env ファイルを作成\n",
    "create_env_file()\n"
   ]
  }
 ],
 "metadata": {
  "kernelspec": {
   "display_name": "Python 3",
   "language": "python",
   "name": "python3"
  },
  "language_info": {
   "codemirror_mode": {
    "name": "ipython",
    "version": 3
   },
   "file_extension": ".py",
   "mimetype": "text/x-python",
   "name": "python",
   "nbconvert_exporter": "python",
   "pygments_lexer": "ipython3",
   "version": "3.11.4"
  }
 },
 "nbformat": 4,
 "nbformat_minor": 2
}
